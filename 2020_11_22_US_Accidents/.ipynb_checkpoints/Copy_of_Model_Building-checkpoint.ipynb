{
 "cells": [
  {
   "cell_type": "code",
   "execution_count": 1,
   "metadata": {},
   "outputs": [
    {
     "data": {
      "text/plain": [
       "'/opt/anaconda3/bin/python3'"
      ]
     },
     "execution_count": 1,
     "metadata": {},
     "output_type": "execute_result"
    }
   ],
   "source": [
    "import sys\n",
    "sys.executable"
   ]
  },
  {
   "cell_type": "code",
   "execution_count": 2,
   "metadata": {
    "colab": {
     "base_uri": "https://localhost:8080/",
     "height": 70
    },
    "colab_type": "code",
    "id": "d2lSesUSqnFF",
    "outputId": "ad939ab4-1513-45d8-ba31-5652bcbb614e"
   },
   "outputs": [],
   "source": [
    "### Description of US Countrywide Traffic Accident Dataset(2016 - 2019)\n",
    "# Source: https://www.kaggle.com/sobhanmoosavi/us-accidents/download\n",
    "\n",
    "# Import Required Libraries (expand as needed)\n",
    "import os\n",
    "import sys\n",
    "import pandas as pd\n",
    "import numpy as np\n",
    "import matplotlib.pyplot as plt\n",
    "import seaborn as sns\n",
    "import pymc3 as pm\n",
    "import tensorflow as tf\n",
    "import scipy.stats as stats\n",
    "import datetime\n",
    "import nltk\n",
    "from IPython.display import display\n",
    "import statsmodels.api as sm\n",
    "import sklearn as sk\n",
    "from sklearn.model_selection import train_test_split\n",
    "from sklearn.linear_model import LinearRegression\n",
    "from sklearn.feature_selection import RFE\n",
    "from sklearn.linear_model import RidgeCV, LassoCV, Ridge, Lasso\n",
    "from sklearn.neighbors import KNeighborsClassifier\n",
    "from sklearn.tree import DecisionTreeClassifier\n",
    "from sklearn.ensemble import RandomForestClassifier\n",
    "from sklearn.linear_model import LogisticRegression\n",
    "from sklearn.naive_bayes import GaussianNB\n",
    "from sklearn.ensemble import AdaBoostClassifier\n",
    "from sklearn.naive_bayes import GaussianNB\n",
    "from sklearn.neural_network import MLPClassifier\n",
    "from sklearn.svm import SVC\n",
    "from sklearn.model_selection import GridSearchCV\n",
    "from sklearn.feature_selection import SelectFromModel\n",
    "from sklearn.metrics import classification_report, roc_curve, auc, confusion_matrix, accuracy_score\n",
    "from sklearn.datasets import make_classification\n",
    "from sklearn.preprocessing import StandardScaler, OneHotEncoder, LabelEncoder\n",
    "\n",
    "\n",
    "from tempfile import TemporaryDirectory\n",
    "import matplotlib.pyplot as plt\n",
    "from sklearn.neighbors import KNeighborsTransformer, KNeighborsClassifier\n",
    "from sklearn.model_selection import GridSearchCV\n",
    "from sklearn.datasets import load_digits\n",
    "from sklearn.pipeline import Pipeline\n",
    "%matplotlib inline\n",
    "\n",
    "## Load pre-cleaned dataset\n",
    "#sys.path.append('/content/drive/My Drive/MSSM/ML_for_BDS')   #change working directory"
   ]
  },
  {
   "cell_type": "code",
   "execution_count": 3,
   "metadata": {},
   "outputs": [],
   "source": [
    "db = pd.read_csv('/Users/ShaunPorwal/Desktop/sinai_classes/BMI3002_ML_2020/MLProject/clean_US_accidents_2019.zip')\n",
    "#Check for Nan values\n",
    "#print(db.isnull().sum())"
   ]
  },
  {
   "cell_type": "code",
   "execution_count": 4,
   "metadata": {
    "colab": {},
    "colab_type": "code",
    "id": "j7qvhhekrJaz"
   },
   "outputs": [],
   "source": [
    "#Set up data for Feature Selection & Model Building\n",
    "X = db.drop(\"Severity\",1)   #Feature Matrix\n",
    "y = db[\"Severity\"]          #Target Variable"
   ]
  },
  {
   "cell_type": "code",
   "execution_count": 5,
   "metadata": {
    "colab": {},
    "colab_type": "code",
    "id": "d2hKEoff8Mdd"
   },
   "outputs": [],
   "source": [
    "# Set the list of features to include in Machine Learning\n",
    "feature_list=['Source','TMC','Severity','Start_Lng','Start_Lat','Distance(mi)','Side','City','County','State',\n",
    "             'Timezone','Temperature(F)','Wind_Chill(F)','Humidity(%)','Pressure(in)', 'Visibility(mi)', 'Wind_Direction','Weather_Condition',\n",
    "             'Amenity','Bump','Crossing','Give_Way','Junction','No_Exit','Railway','Roundabout','Station','Stop','Traffic_Calming',\n",
    "             'Traffic_Signal','Turning_Loop','Sunrise_Sunset','Civil_Twilight', 'Month', 'Nautical_Twilight', 'Astronomical_Twilight',\n",
    "              'Hour','Weekday', 'Time_Duration(min)']"
   ]
  },
  {
   "cell_type": "code",
   "execution_count": 6,
   "metadata": {
    "colab": {},
    "colab_type": "code",
    "id": "yMgabJaGrUfp"
   },
   "outputs": [],
   "source": [
    "# Duplicate dataset with only feature list columns\n",
    "db_ftl= db[feature_list].copy()\n",
    "#db_ftl.info()"
   ]
  },
  {
   "cell_type": "code",
   "execution_count": 7,
   "metadata": {
    "colab": {
     "base_uri": "https://localhost:8080/",
     "height": 34
    },
    "colab_type": "code",
    "id": "GV_P0n4Cseue",
    "outputId": "9efb3d1c-e90a-4958-8f66-e9b2cac77eed"
   },
   "outputs": [
    {
     "data": {
      "text/plain": [
       "(2246264, 39)"
      ]
     },
     "execution_count": 7,
     "metadata": {},
     "output_type": "execute_result"
    }
   ],
   "source": [
    "db_ftl.shape"
   ]
  },
  {
   "cell_type": "code",
   "execution_count": 8,
   "metadata": {
    "colab": {},
    "colab_type": "code",
    "id": "pGOvcegishsQ"
   },
   "outputs": [],
   "source": [
    "##Select State of Interest\n",
    "# Set state\n",
    "state='NY'\n",
    "\n",
    "# Select the state of New York\n",
    "NY_acc = db_ftl.loc[db_ftl.State==state].copy()\n",
    "NY_acc.drop('State', axis=1, inplace=True)\n",
    "#NY_acc.info()\n",
    "#NY_acc.head(2)"
   ]
  },
  {
   "cell_type": "code",
   "execution_count": 9,
   "metadata": {
    "colab": {
     "base_uri": "https://localhost:8080/",
     "height": 172
    },
    "colab_type": "code",
    "id": "xWeUDIWWtAIb",
    "outputId": "85248deb-fce0-4293-bfbf-832abccf2a4b"
   },
   "outputs": [
    {
     "data": {
      "text/html": [
       "<div>\n",
       "<style scoped>\n",
       "    .dataframe tbody tr th:only-of-type {\n",
       "        vertical-align: middle;\n",
       "    }\n",
       "\n",
       "    .dataframe tbody tr th {\n",
       "        vertical-align: top;\n",
       "    }\n",
       "\n",
       "    .dataframe thead th {\n",
       "        text-align: right;\n",
       "    }\n",
       "</style>\n",
       "<table border=\"1\" class=\"dataframe\">\n",
       "  <thead>\n",
       "    <tr style=\"text-align: right;\">\n",
       "      <th></th>\n",
       "      <th>TMC</th>\n",
       "      <th>Severity</th>\n",
       "      <th>Start_Lng</th>\n",
       "      <th>Start_Lat</th>\n",
       "      <th>Distance(mi)</th>\n",
       "      <th>Temperature(F)</th>\n",
       "      <th>Wind_Chill(F)</th>\n",
       "      <th>Humidity(%)</th>\n",
       "      <th>Pressure(in)</th>\n",
       "      <th>Visibility(mi)</th>\n",
       "      <th>...</th>\n",
       "      <th>Month_Oct</th>\n",
       "      <th>Month_Sep</th>\n",
       "      <th>Nautical_Twilight_Night</th>\n",
       "      <th>Astronomical_Twilight_Night</th>\n",
       "      <th>Weekday_Mon</th>\n",
       "      <th>Weekday_Sat</th>\n",
       "      <th>Weekday_Sun</th>\n",
       "      <th>Weekday_Thu</th>\n",
       "      <th>Weekday_Tue</th>\n",
       "      <th>Weekday_Wed</th>\n",
       "    </tr>\n",
       "  </thead>\n",
       "  <tbody>\n",
       "    <tr>\n",
       "      <th>194255</th>\n",
       "      <td>241.0</td>\n",
       "      <td>3</td>\n",
       "      <td>-74.169876</td>\n",
       "      <td>41.139324</td>\n",
       "      <td>0.01</td>\n",
       "      <td>53.1</td>\n",
       "      <td>51.326849</td>\n",
       "      <td>93.0</td>\n",
       "      <td>29.81</td>\n",
       "      <td>1.0</td>\n",
       "      <td>...</td>\n",
       "      <td>0</td>\n",
       "      <td>0</td>\n",
       "      <td>0</td>\n",
       "      <td>0</td>\n",
       "      <td>0</td>\n",
       "      <td>0</td>\n",
       "      <td>0</td>\n",
       "      <td>0</td>\n",
       "      <td>0</td>\n",
       "      <td>1</td>\n",
       "    </tr>\n",
       "    <tr>\n",
       "      <th>194256</th>\n",
       "      <td>201.0</td>\n",
       "      <td>3</td>\n",
       "      <td>-74.159744</td>\n",
       "      <td>41.118748</td>\n",
       "      <td>2.53</td>\n",
       "      <td>53.1</td>\n",
       "      <td>51.326849</td>\n",
       "      <td>93.0</td>\n",
       "      <td>29.83</td>\n",
       "      <td>1.0</td>\n",
       "      <td>...</td>\n",
       "      <td>0</td>\n",
       "      <td>0</td>\n",
       "      <td>0</td>\n",
       "      <td>0</td>\n",
       "      <td>0</td>\n",
       "      <td>0</td>\n",
       "      <td>0</td>\n",
       "      <td>0</td>\n",
       "      <td>0</td>\n",
       "      <td>1</td>\n",
       "    </tr>\n",
       "  </tbody>\n",
       "</table>\n",
       "<p>2 rows × 1110 columns</p>\n",
       "</div>"
      ],
      "text/plain": [
       "          TMC  Severity  Start_Lng  Start_Lat  Distance(mi)  Temperature(F)  \\\n",
       "194255  241.0         3 -74.169876  41.139324          0.01            53.1   \n",
       "194256  201.0         3 -74.159744  41.118748          2.53            53.1   \n",
       "\n",
       "        Wind_Chill(F)  Humidity(%)  Pressure(in)  Visibility(mi)  ...  \\\n",
       "194255      51.326849         93.0         29.81             1.0  ...   \n",
       "194256      51.326849         93.0         29.83             1.0  ...   \n",
       "\n",
       "        Month_Oct  Month_Sep  Nautical_Twilight_Night  \\\n",
       "194255          0          0                        0   \n",
       "194256          0          0                        0   \n",
       "\n",
       "        Astronomical_Twilight_Night  Weekday_Mon  Weekday_Sat  Weekday_Sun  \\\n",
       "194255                            0            0            0            0   \n",
       "194256                            0            0            0            0   \n",
       "\n",
       "        Weekday_Thu  Weekday_Tue  Weekday_Wed  \n",
       "194255            0            0            1  \n",
       "194256            0            0            1  \n",
       "\n",
       "[2 rows x 1110 columns]"
      ]
     },
     "execution_count": 9,
     "metadata": {},
     "output_type": "execute_result"
    }
   ],
   "source": [
    "#Create dummies to deal with categorical data\n",
    "NY_db_dummy = pd.get_dummies(NY_acc, drop_first=True)\n",
    "#print(NY_db_dummy.info())\n",
    "NY_db_dummy.head(2)"
   ]
  },
  {
   "cell_type": "code",
   "execution_count": 10,
   "metadata": {
    "colab": {
     "base_uri": "https://localhost:8080/",
     "height": 172
    },
    "colab_type": "code",
    "id": "lS1jgd9UvrsU",
    "outputId": "e983a1d0-2453-4b81-c47c-3ec0b13cbd9f"
   },
   "outputs": [
    {
     "data": {
      "text/html": [
       "<div>\n",
       "<style scoped>\n",
       "    .dataframe tbody tr th:only-of-type {\n",
       "        vertical-align: middle;\n",
       "    }\n",
       "\n",
       "    .dataframe tbody tr th {\n",
       "        vertical-align: top;\n",
       "    }\n",
       "\n",
       "    .dataframe thead th {\n",
       "        text-align: right;\n",
       "    }\n",
       "</style>\n",
       "<table border=\"1\" class=\"dataframe\">\n",
       "  <thead>\n",
       "    <tr style=\"text-align: right;\">\n",
       "      <th></th>\n",
       "      <th>TMC</th>\n",
       "      <th>Severity</th>\n",
       "      <th>Start_Lng</th>\n",
       "      <th>Start_Lat</th>\n",
       "      <th>Distance(mi)</th>\n",
       "      <th>Temperature(F)</th>\n",
       "      <th>Wind_Chill(F)</th>\n",
       "      <th>Humidity(%)</th>\n",
       "      <th>Pressure(in)</th>\n",
       "      <th>Visibility(mi)</th>\n",
       "      <th>...</th>\n",
       "      <th>Crossing_True</th>\n",
       "      <th>Give_Way_True</th>\n",
       "      <th>Junction_True</th>\n",
       "      <th>No_Exit_True</th>\n",
       "      <th>Railway_True</th>\n",
       "      <th>Roundabout_True</th>\n",
       "      <th>Station_True</th>\n",
       "      <th>Stop_True</th>\n",
       "      <th>Traffic_Calming_True</th>\n",
       "      <th>Traffic_Signal_True</th>\n",
       "    </tr>\n",
       "  </thead>\n",
       "  <tbody>\n",
       "    <tr>\n",
       "      <th>194255</th>\n",
       "      <td>241.0</td>\n",
       "      <td>3</td>\n",
       "      <td>-74.169876</td>\n",
       "      <td>41.139324</td>\n",
       "      <td>0.01</td>\n",
       "      <td>53.1</td>\n",
       "      <td>51.326849</td>\n",
       "      <td>93.0</td>\n",
       "      <td>29.81</td>\n",
       "      <td>1.0</td>\n",
       "      <td>...</td>\n",
       "      <td>0</td>\n",
       "      <td>0</td>\n",
       "      <td>0</td>\n",
       "      <td>0</td>\n",
       "      <td>0</td>\n",
       "      <td>0</td>\n",
       "      <td>0</td>\n",
       "      <td>0</td>\n",
       "      <td>0</td>\n",
       "      <td>0</td>\n",
       "    </tr>\n",
       "    <tr>\n",
       "      <th>194256</th>\n",
       "      <td>201.0</td>\n",
       "      <td>3</td>\n",
       "      <td>-74.159744</td>\n",
       "      <td>41.118748</td>\n",
       "      <td>2.53</td>\n",
       "      <td>53.1</td>\n",
       "      <td>51.326849</td>\n",
       "      <td>93.0</td>\n",
       "      <td>29.83</td>\n",
       "      <td>1.0</td>\n",
       "      <td>...</td>\n",
       "      <td>0</td>\n",
       "      <td>0</td>\n",
       "      <td>0</td>\n",
       "      <td>0</td>\n",
       "      <td>0</td>\n",
       "      <td>0</td>\n",
       "      <td>0</td>\n",
       "      <td>0</td>\n",
       "      <td>0</td>\n",
       "      <td>0</td>\n",
       "    </tr>\n",
       "  </tbody>\n",
       "</table>\n",
       "<p>2 rows × 1109 columns</p>\n",
       "</div>"
      ],
      "text/plain": [
       "          TMC  Severity  Start_Lng  Start_Lat  Distance(mi)  Temperature(F)  \\\n",
       "194255  241.0         3 -74.169876  41.139324          0.01            53.1   \n",
       "194256  201.0         3 -74.159744  41.118748          2.53            53.1   \n",
       "\n",
       "        Wind_Chill(F)  Humidity(%)  Pressure(in)  Visibility(mi)  ...  \\\n",
       "194255      51.326849         93.0         29.81             1.0  ...   \n",
       "194256      51.326849         93.0         29.83             1.0  ...   \n",
       "\n",
       "        Crossing_True  Give_Way_True  Junction_True  No_Exit_True  \\\n",
       "194255              0              0              0             0   \n",
       "194256              0              0              0             0   \n",
       "\n",
       "        Railway_True  Roundabout_True  Station_True  Stop_True  \\\n",
       "194255             0                0             0          0   \n",
       "194256             0                0             0          0   \n",
       "\n",
       "        Traffic_Calming_True  Traffic_Signal_True  \n",
       "194255                     0                    0  \n",
       "194256                     0                    0  \n",
       "\n",
       "[2 rows x 1109 columns]"
      ]
     },
     "execution_count": 10,
     "metadata": {},
     "output_type": "execute_result"
    }
   ],
   "source": [
    "#Create dummies to deal with categorical data\n",
    "cat_columns = ['Source', 'Side',\t'City',\t'County',\t'Timezone',\\\n",
    "                'Sunrise_Sunset', 'Civil_Twilight',\t'Month',\\\n",
    "                'Nautical_Twilight', 'Astronomical_Twilight', 'Weekday',\\\n",
    "                'Wind_Direction',\t'Weather_Condition', 'Amenity', 'Bump',\\\n",
    "                'Crossing', 'Give_Way', 'Junction','No_Exit', 'Railway',\\\n",
    "                'Roundabout', 'Station', 'Stop','Traffic_Calming',\\\n",
    "                'Traffic_Signal', 'Turning_Loop']\n",
    "NY_db_dummy = pd.get_dummies(NY_acc, columns = cat_columns, drop_first = True)\n",
    "NY_db_dummy.head(2)"
   ]
  },
  {
   "cell_type": "code",
   "execution_count": 11,
   "metadata": {
    "colab": {
     "base_uri": "https://localhost:8080/",
     "height": 84
    },
    "colab_type": "code",
    "id": "qM8UDaDC_Mfq",
    "outputId": "31a98625-bc9f-447f-f508-4b353f8597d9"
   },
   "outputs": [
    {
     "name": "stdout",
     "output_type": "stream",
     "text": [
      "Training data shape:  (76608, 1108)\n",
      "Training labels shape:  (76608,)\n",
      "Test data shape:  (32833, 1108)\n",
      "Test labels shape:  (32833,)\n"
     ]
    }
   ],
   "source": [
    "# Assign the data\n",
    "gg = NY_db_dummy\n",
    "\n",
    "# Set the target for the prediction\n",
    "target='Severity'\n",
    "\n",
    "# Create arrays for the features and the response variable\n",
    "# set X and y\n",
    "y = gg[target]\n",
    "X = gg.drop(target, axis=1)\n",
    "\n",
    "# Split the data set into training and testing data sets\n",
    "X_train, X_test, y_train, y_test = train_test_split(X, y, test_size=0.3, random_state=0, stratify=y)\n",
    "\n",
    "# Print out the size of the training and test data.\n",
    "print('Training data shape: ', X_train.shape)\n",
    "print('Training labels shape: ', y_train.shape)\n",
    "print('Test data shape: ', X_test.shape)\n",
    "print('Test labels shape: ', y_test.shape)"
   ]
  },
  {
   "cell_type": "code",
   "execution_count": 12,
   "metadata": {
    "colab": {},
    "colab_type": "code",
    "id": "zlTvUEEoUUn6"
   },
   "outputs": [],
   "source": [
    "#Scale data before usage\n",
    "scaler = StandardScaler()\n",
    "scaler.fit(X_train)\n",
    "\n",
    "X_train = scaler.transform(X_train)\n",
    "X_test = scaler.transform(X_test)"
   ]
  },
  {
   "cell_type": "code",
   "execution_count": 13,
   "metadata": {
    "colab": {},
    "colab_type": "code",
    "id": "hsIBqx2ZylYL"
   },
   "outputs": [],
   "source": [
    "# List of classification algorithms\n",
    "algor_list=['Random Forest', 'Logistic Regression',' K-Nearest Neighbors','Decision Tree','Naive Bayes', 'AdaBoost', 'MLP Nueral Net']\n",
    "\n",
    "# Initialize an empty list for the accuracy for each algorithm\n",
    "accuracy_list=[]"
   ]
  },
  {
   "cell_type": "markdown",
   "metadata": {
    "colab_type": "text",
    "id": "amTWHrCt2jXK"
   },
   "source": [
    "Classifier #1: Random Forest"
   ]
  },
  {
   "cell_type": "code",
   "execution_count": 14,
   "metadata": {
    "colab": {
     "base_uri": "https://localhost:8080/",
     "height": 339
    },
    "colab_type": "code",
    "id": "ExS1rypnyoU0",
    "outputId": "fb4abab0-2ad8-43fb-aed9-f2de5caed527"
   },
   "outputs": [
    {
     "name": "stdout",
     "output_type": "stream",
     "text": [
      "[Randon forest algorithm] accuracy_score: 0.876.\n",
      "[[    0     5     2     0]\n",
      " [    0 17176  2033     0]\n",
      " [    0  1987 11595     0]\n",
      " [    0     7    28     0]]\n",
      "              precision    recall  f1-score   support\n",
      "\n",
      "           1       0.00      0.00      0.00         7\n",
      "           2       0.90      0.89      0.89     19209\n",
      "           3       0.85      0.85      0.85     13582\n",
      "           4       0.00      0.00      0.00        35\n",
      "\n",
      "    accuracy                           0.88     32833\n",
      "   macro avg       0.44      0.44      0.44     32833\n",
      "weighted avg       0.88      0.88      0.88     32833\n",
      "\n"
     ]
    },
    {
     "name": "stderr",
     "output_type": "stream",
     "text": [
      "/opt/anaconda3/lib/python3.7/site-packages/sklearn/metrics/_classification.py:1272: UndefinedMetricWarning: Precision and F-score are ill-defined and being set to 0.0 in labels with no predicted samples. Use `zero_division` parameter to control this behavior.\n",
      "  _warn_prf(average, modifier, msg_start, len(result))\n"
     ]
    }
   ],
   "source": [
    "# Random Forest \n",
    "#Create Gaussian Classifier\n",
    "rf_clf=RandomForestClassifier()\n",
    "\n",
    "#Train the model using the training sets y_pred=clf.predict(X_test)\n",
    "rf_clf.fit(X_train,y_train)\n",
    "\n",
    "#Predict severity\n",
    "y_pred=rf_clf.predict(X_test)\n",
    "\n",
    "#Obtain accuracy score\n",
    "acc_score=accuracy_score(y_test, y_pred)\n",
    "\n",
    "# Append to the accuracy list\n",
    "accuracy_list.append(acc_score)\n",
    "\n",
    "# Model Accuracy, how often is the classifier correct?\n",
    "print(\"[Randon forest algorithm] accuracy_score: {:.3f}.\".format(acc_score))\n",
    "\n",
    "#Print confusion matrix and other meterics\n",
    "print(confusion_matrix(y_test, y_pred))\n",
    "print(classification_report(y_test, y_pred))"
   ]
  },
  {
   "cell_type": "code",
   "execution_count": 15,
   "metadata": {
    "colab": {
     "base_uri": "https://localhost:8080/",
     "height": 34
    },
    "colab_type": "code",
    "id": "AxHE568K108J",
    "outputId": "8a0bcd3b-fe46-4c7f-b007-d6a047b43e4e"
   },
   "outputs": [
    {
     "name": "stdout",
     "output_type": "stream",
     "text": [
      "22 64029 45272 118\n"
     ]
    }
   ],
   "source": [
    "#Check class labels\n",
    "print((y==1).sum(), (y==2).sum(), (y==3).sum(), (y==4).sum())"
   ]
  },
  {
   "cell_type": "code",
   "execution_count": 16,
   "metadata": {
    "colab": {
     "base_uri": "https://localhost:8080/",
     "height": 312
    },
    "colab_type": "code",
    "id": "JKuSDJnv57Om",
    "outputId": "2ebdd965-1a40-4898-8c3e-38d845ac6624"
   },
   "outputs": [
    {
     "name": "stderr",
     "output_type": "stream",
     "text": [
      "No handles with labels found to put in legend.\n"
     ]
    },
    {
     "data": {
      "image/png": "[encoded data removed]",
      "text/plain": [
       "<Figure size 432x288 with 1 Axes>"
      ]
     },
     "metadata": {
      "needs_background": "light"
     },
     "output_type": "display_data"
    }
   ],
   "source": [
    "#Asses RF feature importance\n",
    "feature_imp = pd.Series(rf_clf.feature_importances_,index=X.columns).sort_values(ascending=False)\n",
    "\n",
    "# Creating a bar plot, displaying only the top k features\n",
    "k=10\n",
    "sns.barplot(x=feature_imp[:10], y=feature_imp.index[:k])\n",
    "# Add labels to your graph\n",
    "plt.xlabel('Feature Importance Score')\n",
    "plt.ylabel('Features')\n",
    "plt.title(\"Visualizing Important Features\")\n",
    "plt.legend()\n",
    "plt.show()"
   ]
  },
  {
   "cell_type": "code",
   "execution_count": null,
   "metadata": {
    "colab": {
     "base_uri": "https://localhost:8080/",
     "height": 168
    },
    "colab_type": "code",
    "id": "r0j2tMIg6HCB",
    "outputId": "89942f11-b6d2-48fd-bb72-d591f8e9bc6e"
   },
   "outputs": [],
   "source": [
    "# Create a selector object that will use the random forest classifier to identify\n",
    "# features that have an importance of more than 0.03\n",
    "sfm = SelectFromModel(rf_clf, threshold=0.03)\n",
    "\n",
    "# Train the selector\n",
    "sfm.fit(X_train, y_train)\n",
    "\n",
    "feat_labels=X.columns\n",
    "\n",
    "# Print the names of the most important features\n",
    "for feature_list_index in sfm.get_support(indices=True):\n",
    "    print(feat_labels[feature_list_index])"
   ]
  },
  {
   "cell_type": "markdown",
   "metadata": {
    "colab_type": "text",
    "id": "SJ_2Gv7e2pdJ"
   },
   "source": [
    "Classifier #2: Logistic Regression"
   ]
  },
  {
   "cell_type": "code",
   "execution_count": null,
   "metadata": {
    "colab": {
     "base_uri": "https://localhost:8080/",
     "height": 286
    },
    "colab_type": "code",
    "id": "Ftc_ZYBs2YPe",
    "outputId": "e588b558-6f50-4d9e-f080-0b8774488462"
   },
   "outputs": [],
   "source": [
    "# Logistic regression\n",
    "lr = LogisticRegression(max_iter=1000, random_state=0)\n",
    "\n",
    "#Fit/Train \n",
    "lr.fit(X_train,y_train)\n",
    "\n",
    "#Predict severity\n",
    "y_pred = lr.predict(X_test)\n",
    "\n",
    "#Get the accuracy score\n",
    "acc_score=accuracy_score(y_test, y_pred)\n",
    "\n",
    "# Append to the accuracy list\n",
    "accuracy_list.append(acc_score)\n",
    "\n",
    "print(\"[Logistic regression algorithm] accuracy_score: {:.3f}.\".format(acc_score))\n",
    "\n",
    "#Print confusion matrix and other meterics\n",
    "print(confusion_matrix(y_test, y_pred))\n",
    "print(classification_report(y_test, y_pred))"
   ]
  },
  {
   "cell_type": "markdown",
   "metadata": {
    "colab_type": "text",
    "id": "yQK6_bcm2uIu"
   },
   "source": [
    "Classifier #3 K-Nearest Neighbors"
   ]
  },
  {
   "cell_type": "code",
   "execution_count": null,
   "metadata": {
    "colab": {
     "base_uri": "https://localhost:8080/",
     "height": 1000
    },
    "colab_type": "code",
    "id": "m9yGn4gE5Qn_",
    "outputId": "4921e2be-6277-4b68-dbfc-1c62ed9ec92c"
   },
   "outputs": [],
   "source": [
    "X2 = sm.add_constant(X)\n",
    "est = sm.OLS(y, X2)\n",
    "est2 = est.fit()\n",
    "print(est2.summary())"
   ]
  },
  {
   "cell_type": "code",
   "execution_count": null,
   "metadata": {
    "colab": {},
    "colab_type": "code",
    "id": "KAWVEvdw2hD-"
   },
   "outputs": [],
   "source": [
    "#create new a knn model\n",
    "knn_clf = KNeighborsClassifier()\n",
    "\n",
    "#create a dictionary of all values we want to test for n_neighbors\n",
    "param_grid = {'n_neighbors': np.arange(1, 10)}\n",
    "\n",
    "#use gridsearch to test all values for n_neighbors\n",
    "knn_gscv = GridSearchCV(knn_clf, param_grid, cv=5)\n",
    "\n",
    "#fit model to data\n",
    "knn_gscv.fit(X, y)\n",
    "\n",
    "#check top performing n_neighbors value\n",
    "print(knn_cv.best_params_)\n",
    "print(knn_cv.best_score_)"
   ]
  },
  {
   "cell_type": "code",
   "execution_count": null,
   "metadata": {
    "colab": {},
    "colab_type": "code",
    "id": "4Jc-nzoa2h43"
   },
   "outputs": [],
   "source": [
    "#Create k-nn classifier using \"best\" value of k\n",
    "#knn_clf = KNeighborsClassifier(n_neighbors= knn_cv.best_score_)\n",
    "knn_clf = KNeighborsClassifier(n_neighbors= 4, algorithm='kd_tree', n_jobs=-2)\n",
    "\n",
    "#Fit/Train classifier\n",
    "knn_clf.fit(X_train, y_train)\n",
    "\n",
    "#Predict severity\n",
    "y_pred = knn_clf.predict(X_test)\n",
    "\n",
    "#Get accuracy score\n",
    "acc_score = accuracy_score(y_test, y_pred)\n",
    "\n",
    "# Append to the accuracy list\n",
    "accuracy_list.append(acc_score)\n",
    "\n",
    "print('[K-Nearest Neighbors (KNN)] accuracy_score: {:.3f}.'.format(acc_score))\n",
    "\n",
    "#Print confusion matrix and other meterics\n",
    "print(confusion_matrix(y_test, y_pred))\n",
    "print(classification_report(y_test, y_pred))"
   ]
  },
  {
   "cell_type": "markdown",
   "metadata": {
    "colab_type": "text",
    "id": "JGMmKS8z3ND1"
   },
   "source": [
    "Classifier #4: Decision Tree"
   ]
  },
  {
   "cell_type": "code",
   "execution_count": null,
   "metadata": {
    "colab": {
     "base_uri": "https://localhost:8080/",
     "height": 286
    },
    "colab_type": "code",
    "id": "NQeXKDC52_Aa",
    "outputId": "b1149891-3c28-4185-abaf-7c8b794f32cf"
   },
   "outputs": [],
   "source": [
    "#Decision Tree\n",
    "#can use entropy or gini(default)\n",
    "dt_clf = DecisionTreeClassifier(criterion=\"entropy\") \n",
    "#Train Decision Tree Classifer\n",
    "dt_clf = dt_clf.fit(X_train,y_train)\n",
    "\n",
    "#Predict severity for test dataset\n",
    "y_pred = dt_clf.predict(X_test)\n",
    "\n",
    "#Evaluate accuracy_entropy\n",
    "acc_score= accuracy_score(y_test, y_pred)\n",
    "\n",
    "#Append to the accuracy list\n",
    "accuracy_list.append(acc_score)\n",
    "\n",
    "#Print accuracy_gini\n",
    "print('[Decision Tree] accuracy_score: {:.3f}.'.format(acc_score))\n",
    "\n",
    "#Print confusion matrix and other meterics\n",
    "print(confusion_matrix(y_test, y_pred))\n",
    "print(classification_report(y_test, y_pred))"
   ]
  },
  {
   "cell_type": "markdown",
   "metadata": {
    "colab_type": "text",
    "id": "O_MgNFb_3Q62"
   },
   "source": [
    "Classifier #5: AdaBoost Classifier\n"
   ]
  },
  {
   "cell_type": "code",
   "execution_count": null,
   "metadata": {
    "colab": {},
    "colab_type": "code",
    "id": "PQWDWSh93Bq3"
   },
   "outputs": [],
   "source": [
    "#AdaBoost Classifier\n",
    "#Use SVC as a estimator\n",
    "svc=SVC(probability=True, kernel='linear')\n",
    "\n",
    "ad_clf = AdaBoostClassifier(base_estimator=svc)\n",
    "\n",
    "#Train Classifier\n",
    "ad_clf.fit(X_train, y_train)\n",
    "\n",
    "#Predict Severity\n",
    "y_pred = ad_clf.predict(X_test)\n",
    "\n",
    "#Evaluate accuracy\n",
    "acc_score = accuracy_score(y_test, y_pred)\n",
    "\n",
    "#Append to the accuracy list\n",
    "accuracy_list.append(acc_score)\n",
    "\n",
    "#Print accuracy_gini\n",
    "print('[AdaBoost Classifier] accuracy_score: {:.3f}.'.format(acc_score))\n",
    "\n",
    "#Print confusion matrix and other meterics\n",
    "print(confusion_matrix(y_test, y_pred))\n",
    "print(classification_report(y_test, y_pred))"
   ]
  },
  {
   "cell_type": "markdown",
   "metadata": {
    "colab_type": "text",
    "id": "2_haaDpv3XB6"
   },
   "source": [
    "Classifier #6 Naive Bayees Classifier"
   ]
  },
  {
   "cell_type": "code",
   "execution_count": null,
   "metadata": {
    "colab": {},
    "colab_type": "code",
    "id": "dSIU_apl3EPa"
   },
   "outputs": [],
   "source": [
    "#Gausian Naive Bayees\n",
    "gb_clf = GaussianNB()\n",
    "\n",
    "#Train \n",
    "gb_clf.fit(X_train, y_train)\n",
    "\n",
    "#Predict\n",
    "y_pred = gb_clf.predict(X_test)\n",
    "\n",
    "#Evaluate\n",
    "acc_score= accuracy_score(y_test, y_pred)\n",
    "\n",
    "#Append to the accuracy list\n",
    "accuracy_list.append(acc_score)\n",
    "\n",
    "print('[Naive Bayees] accuracy_score: {:.3f}.'.format(acc_score))\n",
    "\n",
    "print(confusion_matrix(y_test, y_pred))\n",
    "print(classification_report(y_test, y_pred))"
   ]
  },
  {
   "cell_type": "markdown",
   "metadata": {
    "colab_type": "text",
    "id": "CoxHgjLH3clV"
   },
   "source": [
    "Classifier #7: MLP Nueral Net\n"
   ]
  },
  {
   "cell_type": "code",
   "execution_count": null,
   "metadata": {
    "colab": {},
    "colab_type": "code",
    "id": "PHquWDCt3GmC"
   },
   "outputs": [],
   "source": [
    "#MLP Nueral Net\n",
    "#Set up MLP and assign gidden layers\n",
    "mlp_clf = MLPClassifier(solver='lbfgs', alpha=1e-5, hidden_layer_sizes=(20,20,20))\n",
    "\n",
    "#Train Net\n",
    "mlp_clf.fit(X_train, y_train)\n",
    "\n",
    "#Predict\n",
    "y_pred = mlp_clf.predict(X_test)\n",
    "\n",
    "#Evaluate\n",
    "acc_score= accuracy_score(y_test, y_pred)\n",
    "\n",
    "#Append to the accuracy list\n",
    "accuracy_list.append(acc_score)\n",
    "\n",
    "#Print accuracy_gini\n",
    "print('[MLP Neural Net] accuracy_score: {:.3f}.'.format(acc_score))\n",
    "\n",
    "print(confusion_matrix(y_test, y_pred))\n",
    "print(classification_report(y_test, y_pred))"
   ]
  },
  {
   "cell_type": "markdown",
   "metadata": {
    "colab_type": "text",
    "id": "Xmowal4O3hes"
   },
   "source": [
    "Let's compare Alogrithms"
   ]
  },
  {
   "cell_type": "code",
   "execution_count": null,
   "metadata": {
    "colab": {},
    "colab_type": "code",
    "id": "2u7__7L13J9j"
   },
   "outputs": [],
   "source": [
    "# Plot to compare accuracy scores of different algorithms\n",
    "\n",
    "# Generate a list of ticks for y-axis\n",
    "y_ticks=np.arange(len(algor_list))\n",
    "\n",
    "# Combine the list of algorithms and list of accuracy scores into a dataframe, sort the value based on accuracy score\n",
    "severity_acc=pd.DataFrame(list(zip(algor_list, accuracy_list)), columns=['Algorithm','Accuracy_Score']).sort_values(by=['Accuracy_Score'],ascending = True)\n",
    "\n",
    "# Export to a file\n",
    "# severity_acc.to_csv('Accuracy_scores_algorithms_{}.csv'.format(state),index=False)\n",
    "\n",
    "# Make a plot\n",
    "ax=severity_acc.plot.barh('Algorithm', 'Accuracy_Score', align='center',legend=False,color='0.5')\n",
    "\n",
    "\n",
    "# Add the data label on to the plot\n",
    "for i in ax.patches:\n",
    "    ax.text(i.get_width()+0.02, i.get_y()+0.2, str(round(i.get_width(),2)), fontsize=10)\n",
    "\n",
    "# Set the limit, lables, ticks and title\n",
    "plt.xlim(0,1.1)\n",
    "plt.xlabel('Accuracy Score')\n",
    "plt.yticks(y_ticks, severity_acc['Algorithm'], rotation=0)\n",
    "plt.title('Accuracy across Algorithms')\n",
    "\n",
    "plt.show()"
   ]
  }
 ],
 "metadata": {
  "colab": {
   "machine_shape": "hm",
   "name": "Copy of Model_Building.ipynb",
   "provenance": []
  },
  "kernelspec": {
   "display_name": "Python 3",
   "language": "python",
   "name": "python3"
  },
  "language_info": {
   "codemirror_mode": {
    "name": "ipython",
    "version": 3
   },
   "file_extension": ".py",
   "mimetype": "text/x-python",
   "name": "python",
   "nbconvert_exporter": "python",
   "pygments_lexer": "ipython3",
   "version": "3.7.6"
  }
 },
 "nbformat": 4,
 "nbformat_minor": 4
}
