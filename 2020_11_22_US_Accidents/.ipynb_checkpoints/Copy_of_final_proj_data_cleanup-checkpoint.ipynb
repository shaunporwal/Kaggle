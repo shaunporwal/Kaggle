{
 "cells": [
  {
   "cell_type": "code",
   "execution_count": 2,
   "metadata": {
    "colab": {},
    "colab_type": "code",
    "id": "bzRDDBKxpbPV"
   },
   "outputs": [],
   "source": [
    "# -*- coding: utf-8 -*-\n",
    "\"\"\"\n",
    "#Script for data cleanup of US Accident data\n",
    "\n",
    "Created on Mon Apr 20 21:11:18 2020\n",
    "@author: keino\n",
    "\"\"\"\n",
    "### Description of US Countrywide Traffic Accident Dataset(2016 - 2019)\n",
    "# Source: https://www.kaggle.com/sobhanmoosavi/us-accidents/download\n",
    "\n",
    "# Import Required Libraries\n",
    "import os\n",
    "import sys\n",
    "import pandas as pd\n",
    "import numpy as np\n",
    "import matplotlib.pyplot as plt\n",
    "import seaborn as sns\n",
    "import pymc3 as pm\n",
    "import scipy.stats as stats\n",
    "import datetime\n",
    "import nltk\n",
    "from IPython.display import display\n",
    "import statsmodels.api as sm\n",
    "import sklearn as sk\n",
    "from sklearn.model_selection import train_test_split\n",
    "from sklearn.preprocessing import StandardScaler, OneHotEncoder, LabelEncoder\n",
    "\n",
    "## Load the dataset\n",
    "#sys.path.append('/content/drive/My Drive/MSSM/ML_for_BDS')   #change working directory\n",
    "db = pd.read_csv('/Users/ShaunPorwal/Desktop/sinai_classes/BMI3002_ML_2020/MLProject/US_Accidents_Dec19.csv')"
   ]
  },
  {
   "cell_type": "code",
   "execution_count": 3,
   "metadata": {
    "colab": {},
    "colab_type": "code",
    "id": "pOjXbg-kpbPc"
   },
   "outputs": [],
   "source": [
    "### Step #1. Fix Date and Time Columns\n",
    "#Since there is time and date columns, we can make it easier to work with (taken from Ismael)\n",
    "# Convert Start_Time and End_Time to datetypes\n",
    "db['Start_Time'] = pd.to_datetime(db['Start_Time'], errors='coerce')\n",
    "db['End_Time'] = pd.to_datetime(db['End_Time'], errors='coerce')"
   ]
  },
  {
   "cell_type": "code",
   "execution_count": 4,
   "metadata": {
    "colab": {
     "base_uri": "https://localhost:8080/",
     "height": 227
    },
    "colab_type": "code",
    "id": "r0Z3qqkQpbPe",
    "outputId": "07b87836-00b4-46dd-db02-34bc7e11483d"
   },
   "outputs": [
    {
     "data": {
      "text/html": [
       "<div>\n",
       "<style scoped>\n",
       "    .dataframe tbody tr th:only-of-type {\n",
       "        vertical-align: middle;\n",
       "    }\n",
       "\n",
       "    .dataframe tbody tr th {\n",
       "        vertical-align: top;\n",
       "    }\n",
       "\n",
       "    .dataframe thead th {\n",
       "        text-align: right;\n",
       "    }\n",
       "</style>\n",
       "<table border=\"1\" class=\"dataframe\">\n",
       "  <thead>\n",
       "    <tr style=\"text-align: right;\">\n",
       "      <th></th>\n",
       "      <th>ID</th>\n",
       "      <th>Source</th>\n",
       "      <th>TMC</th>\n",
       "      <th>Severity</th>\n",
       "      <th>Start_Time</th>\n",
       "      <th>End_Time</th>\n",
       "      <th>Start_Lat</th>\n",
       "      <th>Start_Lng</th>\n",
       "      <th>End_Lat</th>\n",
       "      <th>End_Lng</th>\n",
       "      <th>...</th>\n",
       "      <th>Turning_Loop</th>\n",
       "      <th>Sunrise_Sunset</th>\n",
       "      <th>Civil_Twilight</th>\n",
       "      <th>Nautical_Twilight</th>\n",
       "      <th>Astronomical_Twilight</th>\n",
       "      <th>Year</th>\n",
       "      <th>Month</th>\n",
       "      <th>Day</th>\n",
       "      <th>Hour</th>\n",
       "      <th>Weekday</th>\n",
       "    </tr>\n",
       "  </thead>\n",
       "  <tbody>\n",
       "    <tr>\n",
       "      <th>0</th>\n",
       "      <td>A-1</td>\n",
       "      <td>MapQuest</td>\n",
       "      <td>201.0</td>\n",
       "      <td>3</td>\n",
       "      <td>2016-02-08 05:46:00</td>\n",
       "      <td>2016-02-08 11:00:00</td>\n",
       "      <td>39.865147</td>\n",
       "      <td>-84.058723</td>\n",
       "      <td>NaN</td>\n",
       "      <td>NaN</td>\n",
       "      <td>...</td>\n",
       "      <td>False</td>\n",
       "      <td>Night</td>\n",
       "      <td>Night</td>\n",
       "      <td>Night</td>\n",
       "      <td>Night</td>\n",
       "      <td>2016</td>\n",
       "      <td>Feb</td>\n",
       "      <td>8</td>\n",
       "      <td>5</td>\n",
       "      <td>Mon</td>\n",
       "    </tr>\n",
       "    <tr>\n",
       "      <th>1</th>\n",
       "      <td>A-2</td>\n",
       "      <td>MapQuest</td>\n",
       "      <td>201.0</td>\n",
       "      <td>2</td>\n",
       "      <td>2016-02-08 06:07:59</td>\n",
       "      <td>2016-02-08 06:37:59</td>\n",
       "      <td>39.928059</td>\n",
       "      <td>-82.831184</td>\n",
       "      <td>NaN</td>\n",
       "      <td>NaN</td>\n",
       "      <td>...</td>\n",
       "      <td>False</td>\n",
       "      <td>Night</td>\n",
       "      <td>Night</td>\n",
       "      <td>Night</td>\n",
       "      <td>Day</td>\n",
       "      <td>2016</td>\n",
       "      <td>Feb</td>\n",
       "      <td>8</td>\n",
       "      <td>6</td>\n",
       "      <td>Mon</td>\n",
       "    </tr>\n",
       "  </tbody>\n",
       "</table>\n",
       "<p>2 rows × 54 columns</p>\n",
       "</div>"
      ],
      "text/plain": [
       "    ID    Source    TMC  Severity          Start_Time            End_Time  \\\n",
       "0  A-1  MapQuest  201.0         3 2016-02-08 05:46:00 2016-02-08 11:00:00   \n",
       "1  A-2  MapQuest  201.0         2 2016-02-08 06:07:59 2016-02-08 06:37:59   \n",
       "\n",
       "   Start_Lat  Start_Lng  End_Lat  End_Lng  ...  Turning_Loop Sunrise_Sunset  \\\n",
       "0  39.865147 -84.058723      NaN      NaN  ...         False          Night   \n",
       "1  39.928059 -82.831184      NaN      NaN  ...         False          Night   \n",
       "\n",
       "   Civil_Twilight Nautical_Twilight Astronomical_Twilight  Year Month Day  \\\n",
       "0           Night             Night                 Night  2016   Feb   8   \n",
       "1           Night             Night                   Day  2016   Feb   8   \n",
       "\n",
       "  Hour Weekday  \n",
       "0    5     Mon  \n",
       "1    6     Mon  \n",
       "\n",
       "[2 rows x 54 columns]"
      ]
     },
     "execution_count": 4,
     "metadata": {},
     "output_type": "execute_result"
    }
   ],
   "source": [
    "# Extract year, month, day, hour and weekday\n",
    "db['Year']=db['Start_Time'].dt.year\n",
    "db['Month']=db['Start_Time'].dt.strftime('%b')\n",
    "db['Day']=db['Start_Time'].dt.day\n",
    "db['Hour']=db['Start_Time'].dt.hour\n",
    "db['Weekday']=db['Start_Time'].dt.strftime('%a')\n",
    "db.head(2)"
   ]
  },
  {
   "cell_type": "code",
   "execution_count": 5,
   "metadata": {
    "colab": {
     "base_uri": "https://localhost:8080/",
     "height": 941
    },
    "colab_type": "code",
    "id": "0wC7FpYmu8Tz",
    "outputId": "f6a33059-f38a-434d-edaa-c2f98adf19ee"
   },
   "outputs": [
    {
     "name": "stdout",
     "output_type": "stream",
     "text": [
      "ID                       False\n",
      "Source                   False\n",
      "TMC                       True\n",
      "Severity                 False\n",
      "Start_Time               False\n",
      "End_Time                 False\n",
      "Start_Lat                False\n",
      "Start_Lng                False\n",
      "End_Lat                   True\n",
      "End_Lng                   True\n",
      "Distance(mi)             False\n",
      "Description               True\n",
      "Number                    True\n",
      "Street                   False\n",
      "Side                     False\n",
      "City                      True\n",
      "County                   False\n",
      "State                    False\n",
      "Zipcode                   True\n",
      "Country                  False\n",
      "Timezone                  True\n",
      "Airport_Code              True\n",
      "Weather_Timestamp         True\n",
      "Temperature(F)            True\n",
      "Wind_Chill(F)             True\n",
      "Humidity(%)               True\n",
      "Pressure(in)              True\n",
      "Visibility(mi)            True\n",
      "Wind_Direction            True\n",
      "Wind_Speed(mph)           True\n",
      "Precipitation(in)         True\n",
      "Weather_Condition         True\n",
      "Amenity                  False\n",
      "Bump                     False\n",
      "Crossing                 False\n",
      "Give_Way                 False\n",
      "Junction                 False\n",
      "No_Exit                  False\n",
      "Railway                  False\n",
      "Roundabout               False\n",
      "Station                  False\n",
      "Stop                     False\n",
      "Traffic_Calming          False\n",
      "Traffic_Signal           False\n",
      "Turning_Loop             False\n",
      "Sunrise_Sunset            True\n",
      "Civil_Twilight            True\n",
      "Nautical_Twilight         True\n",
      "Astronomical_Twilight     True\n",
      "Year                     False\n",
      "Month                    False\n",
      "Day                      False\n",
      "Hour                     False\n",
      "Weekday                  False\n",
      "dtype: bool\n"
     ]
    }
   ],
   "source": [
    "#Check missing remaining\n",
    "print(db.isnull().sum()>0)"
   ]
  },
  {
   "cell_type": "code",
   "execution_count": 6,
   "metadata": {
    "colab": {},
    "colab_type": "code",
    "id": "g4vRZNgDpbPg"
   },
   "outputs": [],
   "source": [
    "# Extract the amount of time in the unit of minutes for each accident, \n",
    "# round to the nearest integer\n",
    "td='Time_Duration(min)'\n",
    "db[td]=round((db['End_Time']-db['Start_Time'])/np.timedelta64(1,'m'))\n",
    "#db.info()"
   ]
  },
  {
   "cell_type": "code",
   "execution_count": 7,
   "metadata": {
    "colab": {
     "base_uri": "https://localhost:8080/",
     "height": 218
    },
    "colab_type": "code",
    "id": "Lq57TjJcpbPi",
    "outputId": "83321dae-0006-4d65-e846-f92e6ac7354d"
   },
   "outputs": [
    {
     "data": {
      "text/plain": [
       "0          314.0\n",
       "1           30.0\n",
       "2           30.0\n",
       "3           30.0\n",
       "4           30.0\n",
       "           ...  \n",
       "2974330     29.0\n",
       "2974331     27.0\n",
       "2974332     28.0\n",
       "2974333     29.0\n",
       "2974334     29.0\n",
       "Name: Time_Duration(min), Length: 2974318, dtype: float64"
      ]
     },
     "execution_count": 7,
     "metadata": {},
     "output_type": "execute_result"
    }
   ],
   "source": [
    "# Drop the rows with td<0\n",
    "neg_outliers=db[td]<=0\n",
    "\n",
    "# Drop rows with negative td\n",
    "db.dropna(subset=[td],axis=0,inplace=True)\n",
    "\n",
    "# Double check to make sure no more negative td\n",
    "db[td].loc[(db[td]>=0)]\n",
    "\n",
    "#Check missing remaining\n",
    "#print(db.isnull().sum())"
   ]
  },
  {
   "cell_type": "code",
   "execution_count": 8,
   "metadata": {
    "colab": {
     "base_uri": "https://localhost:8080/",
     "height": 907
    },
    "colab_type": "code",
    "id": "-5i84aFMpbPk",
    "outputId": "db50c845-ffbb-4eec-bf99-6bc0a7ba2f00"
   },
   "outputs": [
    {
     "name": "stdout",
     "output_type": "stream",
     "text": [
      "ID                             0\n",
      "Source                         0\n",
      "TMC                       728071\n",
      "Severity                       0\n",
      "Start_Time                     0\n",
      "End_Time                       0\n",
      "Start_Lat                      0\n",
      "Start_Lng                      0\n",
      "Distance(mi)                   0\n",
      "Description                    1\n",
      "Street                         0\n",
      "Side                           0\n",
      "City                           0\n",
      "County                         0\n",
      "State                          0\n",
      "Zipcode                        0\n",
      "Country                        0\n",
      "Timezone                       0\n",
      "Airport_Code                   0\n",
      "Weather_Timestamp          36705\n",
      "Temperature(F)             56063\n",
      "Wind_Chill(F)            1852623\n",
      "Humidity(%)                59173\n",
      "Pressure(in)               48142\n",
      "Visibility(mi)             65691\n",
      "Wind_Direction             45101\n",
      "Wind_Speed(mph)           440840\n",
      "Precipitation(in)        1998358\n",
      "Weather_Condition          65932\n",
      "Amenity                        0\n",
      "Bump                           0\n",
      "Crossing                       0\n",
      "Give_Way                       0\n",
      "Junction                       0\n",
      "No_Exit                        0\n",
      "Railway                        0\n",
      "Roundabout                     0\n",
      "Station                        0\n",
      "Stop                           0\n",
      "Traffic_Calming                0\n",
      "Traffic_Signal                 0\n",
      "Turning_Loop                   0\n",
      "Sunrise_Sunset                93\n",
      "Civil_Twilight                93\n",
      "Nautical_Twilight             93\n",
      "Astronomical_Twilight         93\n",
      "Year                           0\n",
      "Month                          0\n",
      "Day                            0\n",
      "Hour                           0\n",
      "Weekday                        0\n",
      "Time_Duration(min)             0\n",
      "dtype: int64\n"
     ]
    }
   ],
   "source": [
    "### Step #2. Deal with tricky geography columns\n",
    "#Drop End Lat and End Lng, since too many are missing and are hard to impute.\n",
    "#They add little value\n",
    "db.drop(labels=['End_Lat', 'End_Lng'],axis=1,inplace=True)\n",
    "\n",
    "#Fill missing street number with a zero\n",
    "#db['Number'] = db['Number'].fillna(0)\n",
    "db.drop(labels=['Number'],axis=1,inplace=True)\n",
    "\n",
    "#Impute the timezone, Zipcode and Airport_Code based on the State column\n",
    "db['Timezone'] = db.groupby('State')['Timezone'].transform(lambda tz: tz.fillna(tz.value_counts().index[0]))\n",
    "db['Zipcode'] = db.groupby('State')['Zipcode'].transform(lambda zc: zc.fillna(zc.value_counts().index[0]))\n",
    "db['Airport_Code'] = db.groupby('State')['Airport_Code'].transform(lambda ac: ac.fillna(ac.value_counts().index[0]))\n",
    "\n",
    "#Impute missing city uing most occuring states\n",
    "db['City'] = db.groupby('State')['City'].transform(lambda grp: grp.fillna(grp.value_counts().index[0]))\n",
    "\n",
    "#Check missing remaining\n",
    "print(db.isnull().sum())\n"
   ]
  },
  {
   "cell_type": "code",
   "execution_count": 9,
   "metadata": {
    "colab": {},
    "colab_type": "code",
    "id": "exXWQt-EpbPn"
   },
   "outputs": [],
   "source": [
    "### Step #3. Fix all weather related columns\n",
    "# Fill in NaN with mean values where appropriate\n",
    "fill = ['Temperature(F)','Pressure(in)', 'Humidity(%)','Precipitation(in)', 'Wind_Chill(F)', 'Wind_Speed(mph)', 'Visibility(mi)']\n",
    "for f in fill:\n",
    "    db[f]=db[f].fillna(db[f].mean())\n"
   ]
  },
  {
   "cell_type": "code",
   "execution_count": 10,
   "metadata": {
    "colab": {},
    "colab_type": "code",
    "id": "H-Y7s3onpbPp"
   },
   "outputs": [],
   "source": [
    "### Step #4. Fix all other columns   \n",
    "#Impute time of day-sih columns \n",
    "def median_imputer(x):\n",
    "    db[x].fillna(db[x].mode()[0],inplace=True)\n",
    "\n",
    "median_impute = ['Sunrise_Sunset','Civil_Twilight','Astronomical_Twilight','Wind_Direction','Weather_Condition']\n",
    "for col in median_impute:\n",
    "    median_imputer(col)"
   ]
  },
  {
   "cell_type": "code",
   "execution_count": 11,
   "metadata": {
    "colab": {},
    "colab_type": "code",
    "id": "ppBTn3vfqxqU"
   },
   "outputs": [],
   "source": [
    "# Impute Nautical Twilight, using start time\n",
    "def fill(db,columns):\n",
    "    lst = db[db[columns].isna()].index\n",
    "    for i in lst:\n",
    "        if 6<= db.loc[i,'Start_Time'].hour and db.loc[i,'Start_Time'].hour <18:\n",
    "            db[columns] = db[columns].fillna('Day')\n",
    "        else:\n",
    "            db[columns] = db[columns].fillna('Night')\n",
    "\n",
    "fill(db,'Nautical_Twilight')"
   ]
  },
  {
   "cell_type": "code",
   "execution_count": 12,
   "metadata": {
    "colab": {
     "base_uri": "https://localhost:8080/",
     "height": 907
    },
    "colab_type": "code",
    "id": "MX-w2OQuqz5r",
    "outputId": "9382b549-df46-4ff4-de0a-3b93d54ddc8e"
   },
   "outputs": [
    {
     "name": "stdout",
     "output_type": "stream",
     "text": [
      "ID                            0\n",
      "Source                        0\n",
      "TMC                      728071\n",
      "Severity                      0\n",
      "Start_Time                    0\n",
      "End_Time                      0\n",
      "Start_Lat                     0\n",
      "Start_Lng                     0\n",
      "Distance(mi)                  0\n",
      "Description                   0\n",
      "Street                        0\n",
      "Side                          0\n",
      "City                          0\n",
      "County                        0\n",
      "State                         0\n",
      "Zipcode                       0\n",
      "Country                       0\n",
      "Timezone                      0\n",
      "Airport_Code                  0\n",
      "Weather_Timestamp             0\n",
      "Temperature(F)                0\n",
      "Wind_Chill(F)                 0\n",
      "Humidity(%)                   0\n",
      "Pressure(in)                  0\n",
      "Visibility(mi)                0\n",
      "Wind_Direction                0\n",
      "Wind_Speed(mph)               0\n",
      "Precipitation(in)             0\n",
      "Weather_Condition             0\n",
      "Amenity                       0\n",
      "Bump                          0\n",
      "Crossing                      0\n",
      "Give_Way                      0\n",
      "Junction                      0\n",
      "No_Exit                       0\n",
      "Railway                       0\n",
      "Roundabout                    0\n",
      "Station                       0\n",
      "Stop                          0\n",
      "Traffic_Calming               0\n",
      "Traffic_Signal                0\n",
      "Turning_Loop                  0\n",
      "Sunrise_Sunset                0\n",
      "Civil_Twilight                0\n",
      "Nautical_Twilight             0\n",
      "Astronomical_Twilight         0\n",
      "Year                          0\n",
      "Month                         0\n",
      "Day                           0\n",
      "Hour                          0\n",
      "Weekday                       0\n",
      "Time_Duration(min)            0\n",
      "dtype: int64\n"
     ]
    }
   ],
   "source": [
    "#weather stamp not really important but can impute by using start time\n",
    "db.loc[(pd.isnull(db.Weather_Timestamp)), 'Weather_Timestamp'] = db.Start_Time\n",
    "\n",
    "#Fill one record in Description with the word 'Accident' #can fill later with most occuring word\n",
    "db.Description = db.Description.fillna('Accident')\n",
    "\n",
    "#Check missing remaining\n",
    "print(db.isnull().sum())"
   ]
  },
  {
   "cell_type": "code",
   "execution_count": 16,
   "metadata": {
    "colab": {
     "base_uri": "https://localhost:8080/",
     "height": 386
    },
    "colab_type": "code",
    "id": "TXRbZjh5yrIL",
    "outputId": "6d931d50-5d63-4463-95b8-5a26953cffcf"
   },
   "outputs": [
    {
     "data": {
      "text/plain": [
       "2    1468069\n",
       "3     772423\n",
       "4       4804\n",
       "1        968\n",
       "Name: Severity, dtype: int64"
      ]
     },
     "execution_count": 16,
     "metadata": {},
     "output_type": "execute_result"
    }
   ],
   "source": [
    "db['Severity'].value_counts()"
   ]
  },
  {
   "cell_type": "code",
   "execution_count": 14,
   "metadata": {
    "colab": {
     "base_uri": "https://localhost:8080/",
     "height": 907
    },
    "colab_type": "code",
    "id": "BxditWBO01tn",
    "outputId": "9578b534-d6c2-4038-d8db-245f6403c9b1"
   },
   "outputs": [
    {
     "name": "stdout",
     "output_type": "stream",
     "text": [
      "ID                       0\n",
      "Source                   0\n",
      "TMC                      0\n",
      "Severity                 0\n",
      "Start_Time               0\n",
      "End_Time                 0\n",
      "Start_Lat                0\n",
      "Start_Lng                0\n",
      "Distance(mi)             0\n",
      "Description              0\n",
      "Street                   0\n",
      "Side                     0\n",
      "City                     0\n",
      "County                   0\n",
      "State                    0\n",
      "Zipcode                  0\n",
      "Country                  0\n",
      "Timezone                 0\n",
      "Airport_Code             0\n",
      "Weather_Timestamp        0\n",
      "Temperature(F)           0\n",
      "Wind_Chill(F)            0\n",
      "Humidity(%)              0\n",
      "Pressure(in)             0\n",
      "Visibility(mi)           0\n",
      "Wind_Direction           0\n",
      "Wind_Speed(mph)          0\n",
      "Precipitation(in)        0\n",
      "Weather_Condition        0\n",
      "Amenity                  0\n",
      "Bump                     0\n",
      "Crossing                 0\n",
      "Give_Way                 0\n",
      "Junction                 0\n",
      "No_Exit                  0\n",
      "Railway                  0\n",
      "Roundabout               0\n",
      "Station                  0\n",
      "Stop                     0\n",
      "Traffic_Calming          0\n",
      "Traffic_Signal           0\n",
      "Turning_Loop             0\n",
      "Sunrise_Sunset           0\n",
      "Civil_Twilight           0\n",
      "Nautical_Twilight        0\n",
      "Astronomical_Twilight    0\n",
      "Year                     0\n",
      "Month                    0\n",
      "Day                      0\n",
      "Hour                     0\n",
      "Weekday                  0\n",
      "Time_Duration(min)       0\n",
      "dtype: int64\n"
     ]
    }
   ],
   "source": [
    "#Give missing TMC codes, the US general code of 201\n",
    "#db.TMC = db.TMC.fillna(201.0)\n",
    "#Check missing remaining\n",
    "#print(db.isnull().sum())\n",
    "\n",
    "#Option #2: remove columns with missing TMC codes.\n",
    "TMC = 'TMC'\n",
    "db.dropna(subset=[TMC],axis=0,inplace=True)\n",
    "\n",
    "#Check missing remaining\n",
    "print(db.isnull().sum())"
   ]
  },
  {
   "cell_type": "code",
   "execution_count": 15,
   "metadata": {
    "colab": {
     "base_uri": "https://localhost:8080/",
     "height": 34
    },
    "colab_type": "code",
    "id": "HRGNnjONpdRK",
    "outputId": "9dd7c0e4-9e8b-43f4-a12c-db30807b2ac8"
   },
   "outputs": [
    {
     "data": {
      "text/plain": [
       "(2246264, 52)"
      ]
     },
     "execution_count": 15,
     "metadata": {},
     "output_type": "execute_result"
    }
   ],
   "source": [
    "db.shape"
   ]
  },
  {
   "cell_type": "code",
   "execution_count": 16,
   "metadata": {
    "colab": {},
    "colab_type": "code",
    "id": "NRqGBR0Znuey"
   },
   "outputs": [],
   "source": [
    "#Save df of cleaned data compressed since dataset is large.\n",
    "compression_opts = dict(method='zip',\n",
    "                        archive_name='out.csv') \n",
    "db.to_csv('/Users/ShaunPorwal/Desktop/sinai_classes/BMI3002_ML_2020/MLProject/clean_US_accidents_2019.zip', compression=compression_opts)"
   ]
  },
  {
   "cell_type": "code",
   "execution_count": null,
   "metadata": {
    "colab": {},
    "colab_type": "code",
    "id": "PrBjQnzOpwO_"
   },
   "outputs": [],
   "source": [
    "# Or not lol\n",
    "#db.to_csv('/content/drive/My Drive/MSSM/ML_BDS/2_clean_US_accidents_2019.csv')"
   ]
  }
 ],
 "metadata": {
  "colab": {
   "machine_shape": "hm",
   "name": "Copy of final_proj_data_cleanup.ipynb",
   "provenance": []
  },
  "kernelspec": {
   "display_name": "Python 3",
   "language": "python",
   "name": "python3"
  },
  "language_info": {
   "codemirror_mode": {
    "name": "ipython",
    "version": 3
   },
   "file_extension": ".py",
   "mimetype": "text/x-python",
   "name": "python",
   "nbconvert_exporter": "python",
   "pygments_lexer": "ipython3",
   "version": "3.7.6"
  }
 },
 "nbformat": 4,
 "nbformat_minor": 4
}
