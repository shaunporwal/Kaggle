{
 "cells": [
  {
   "cell_type": "code",
   "execution_count": null,
   "metadata": {
    "colab": {},
    "colab_type": "code",
    "id": "a_eRJAPwP0Aw"
   },
   "outputs": [],
   "source": [
    "### Description of US Countrywide Traffic Accident Dataset(2016 - 2019)\n",
    "# Source: https://www.kaggle.com/sobhanmoosavi/us-accidents/download\n",
    "\n",
    "# Import Required Libraries (expand as needed)\n",
    "import os\n",
    "import sys\n",
    "import pandas as pd\n",
    "import numpy as np\n",
    "import matplotlib.pyplot as plt\n",
    "import seaborn as sns\n",
    "import pymc3 as pm\n",
    "import tensorflow as tf\n",
    "import scipy.stats as stats\n",
    "import datetime\n",
    "import nltk\n",
    "from IPython.display import display\n",
    "import statsmodels.api as sm\n",
    "import sklearn as sk\n",
    "from sklearn.model_selection import train_test_split\n",
    "from sklearn.linear_model import LinearRegression\n",
    "from sklearn.feature_selection import RFE\n",
    "from sklearn.linear_model import RidgeCV, LassoCV, Ridge, Lasso\n",
    "from sklearn.neighbors import KNeighborsClassifier, KNeighborsTransformer\n",
    "from sklearn.tree import DecisionTreeClassifier\n",
    "from sklearn.ensemble import RandomForestClassifier, GradientBoostingClassifier\n",
    "from sklearn.linear_model import LogisticRegression\n",
    "from sklearn.discriminant_analysis import LinearDiscriminantAnalysis\n",
    "from sklearn.gaussian_process import GaussianProcessClassifier\n",
    "from sklearn.gaussian_process.kernels import RBF\n",
    "from sklearn.naive_bayes import GaussianNB\n",
    "from sklearn.ensemble import AdaBoostClassifier\n",
    "from sklearn.naive_bayes import GaussianNB\n",
    "from sklearn.neural_network import MLPClassifier\n",
    "from sklearn.cluster import KMeans, MiniBatchKMeans\n",
    "from sklearn.svm import SVC\n",
    "from sklearn.model_selection import GridSearchCV\n",
    "from sklearn.feature_selection import SelectFromModel\n",
    "from sklearn.metrics import classification_report, roc_curve, auc, confusion_matrix, accuracy_score, log_loss\n",
    "from sklearn.datasets import make_classification\n",
    "from sklearn.preprocessing import StandardScaler, OneHotEncoder, LabelEncoder\n",
    "from sklearn.neighbors import KNeighborsTransformer, KNeighborsClassifier\n",
    "from sklearn.datasets import load_digits\n",
    "from sklearn.pipeline import Pipeline\n",
    "from sklearn import model_selection\n",
    "\n",
    "%matplotlib inline\n",
    "\n",
    "\n",
    "## Load pre-cleaned dataset\n",
    "#sys.path.append('/content/drive/My Drive/MSSM/ML_for_BDS')   #change working directory\n",
    "db = pd.read_csv('/content/drive/My Drive/MSSM/ML_BDS/2_clean_US_accidents_2019.zip')"
   ]
  },
  {
   "cell_type": "code",
   "execution_count": null,
   "metadata": {
    "colab": {},
    "colab_type": "code",
    "id": "9yULqtcm32Je"
   },
   "outputs": [],
   "source": [
    "# Select States for individual models\n",
    "# Set state\n",
    "NY_state = 'NY'\n",
    "NJ_state = 'NJ'\n",
    "MA_state = 'MA'\n",
    "RI_state = 'RI'\n",
    "CT_state = 'CT'\n",
    "MD_state = 'MD'"
   ]
  },
  {
   "cell_type": "code",
   "execution_count": null,
   "metadata": {
    "colab": {},
    "colab_type": "code",
    "id": "YIXVeO5Y5AxA"
   },
   "outputs": [],
   "source": [
    "#Split Data by States\n",
    "# Select the New York\n",
    "NY_db = db.loc[db.State==NY_state].copy()\n",
    "NY_db.drop('State', axis=1, inplace=True)\n",
    "\n",
    "# Select New Jersey\n",
    "NJ_db = db.loc[db.State==NJ_state].copy()\n",
    "NJ_db.drop('State', axis=1, inplace=True)\n",
    "\n",
    "#Select Massachusetts\n",
    "MA_db = db.loc[db.State==MA_state].copy()\n",
    "MA_db.drop('State', axis=1, inplace=True)\n",
    "\n",
    "#Select Rhode Island\n",
    "RI_db = db.loc[db.State==RI_state].copy()\n",
    "RI_db.drop('State', axis=1, inplace=True)\n",
    "\n",
    "#Select Conneticut\n",
    "CT_db = db.loc[db.State==CT_state].copy()\n",
    "CT_db.drop('State', axis=1, inplace=True)\n",
    "\n",
    "#Select Maryland\n",
    "MD_db = db.loc[db.State==MD_state].copy()\n",
    "MD_db.drop('State', axis=1, inplace=True)"
   ]
  },
  {
   "cell_type": "markdown",
   "metadata": {
    "colab_type": "text",
    "id": "SFnS4lET5-ND"
   },
   "source": [
    "Feature Selection\n"
   ]
  },
  {
   "cell_type": "code",
   "execution_count": null,
   "metadata": {
    "colab": {
     "base_uri": "https://localhost:8080/",
     "height": 227
    },
    "colab_type": "code",
    "executionInfo": {
     "elapsed": 2381,
     "status": "ok",
     "timestamp": 1587922080484,
     "user": {
      "displayName": "Keino Hutchinson",
      "photoUrl": "https://lh3.googleusercontent.com/a-/AOh14GgoH1aJTdQbrbzSBoSeD37DeC0pjN2PQjCMAnQwfw=s64",
      "userId": "09021311108852341028"
     },
     "user_tz": 240
    },
    "id": "TIy4rUpv2VMA",
    "outputId": "3961229f-8185-4add-f63e-83f4590f9a49"
   },
   "outputs": [
    {
     "name": "stdout",
     "output_type": "stream",
     "text": [
      "(109441, 68)\n",
      "(33860, 65)\n",
      "(29734, 67)\n",
      "(7515, 64)\n",
      "(14813, 66)\n",
      "(29304, 68)\n"
     ]
    },
    {
     "data": {
      "text/html": [
       "<div>\n",
       "<style scoped>\n",
       "    .dataframe tbody tr th:only-of-type {\n",
       "        vertical-align: middle;\n",
       "    }\n",
       "\n",
       "    .dataframe tbody tr th {\n",
       "        vertical-align: top;\n",
       "    }\n",
       "\n",
       "    .dataframe thead th {\n",
       "        text-align: right;\n",
       "    }\n",
       "</style>\n",
       "<table border=\"1\" class=\"dataframe\">\n",
       "  <thead>\n",
       "    <tr style=\"text-align: right;\">\n",
       "      <th></th>\n",
       "      <th>Severity</th>\n",
       "      <th>Start_Lng</th>\n",
       "      <th>Start_Lat</th>\n",
       "      <th>Distance(mi)</th>\n",
       "      <th>Temperature(F)</th>\n",
       "      <th>Wind_Chill(F)</th>\n",
       "      <th>Humidity(%)</th>\n",
       "      <th>Pressure(in)</th>\n",
       "      <th>Visibility(mi)</th>\n",
       "      <th>Hour</th>\n",
       "      <th>Time_Duration(min)</th>\n",
       "      <th>Side_R</th>\n",
       "      <th>Sunrise_Sunset_Night</th>\n",
       "      <th>Civil_Twilight_Night</th>\n",
       "      <th>Month_Aug</th>\n",
       "      <th>Month_Dec</th>\n",
       "      <th>Month_Feb</th>\n",
       "      <th>Month_Jan</th>\n",
       "      <th>Month_Jul</th>\n",
       "      <th>Month_Jun</th>\n",
       "      <th>Month_Mar</th>\n",
       "      <th>Month_May</th>\n",
       "      <th>Month_Nov</th>\n",
       "      <th>Month_Oct</th>\n",
       "      <th>Month_Sep</th>\n",
       "      <th>Nautical_Twilight_Night</th>\n",
       "      <th>Astronomical_Twilight_Night</th>\n",
       "      <th>Weekday_Mon</th>\n",
       "      <th>Weekday_Sat</th>\n",
       "      <th>Weekday_Sun</th>\n",
       "      <th>Weekday_Thu</th>\n",
       "      <th>Weekday_Tue</th>\n",
       "      <th>Weekday_Wed</th>\n",
       "      <th>Wind_Direction_Calm</th>\n",
       "      <th>Wind_Direction_E</th>\n",
       "      <th>Wind_Direction_ENE</th>\n",
       "      <th>Wind_Direction_ESE</th>\n",
       "      <th>Wind_Direction_East</th>\n",
       "      <th>Wind_Direction_N</th>\n",
       "      <th>Wind_Direction_NE</th>\n",
       "      <th>Wind_Direction_NNE</th>\n",
       "      <th>Wind_Direction_NNW</th>\n",
       "      <th>Wind_Direction_NW</th>\n",
       "      <th>Wind_Direction_North</th>\n",
       "      <th>Wind_Direction_S</th>\n",
       "      <th>Wind_Direction_SE</th>\n",
       "      <th>Wind_Direction_SSE</th>\n",
       "      <th>Wind_Direction_SSW</th>\n",
       "      <th>Wind_Direction_SW</th>\n",
       "      <th>Wind_Direction_South</th>\n",
       "      <th>Wind_Direction_VAR</th>\n",
       "      <th>Wind_Direction_Variable</th>\n",
       "      <th>Wind_Direction_W</th>\n",
       "      <th>Wind_Direction_WNW</th>\n",
       "      <th>Wind_Direction_WSW</th>\n",
       "      <th>Wind_Direction_West</th>\n",
       "      <th>Amenity_True</th>\n",
       "      <th>Bump_True</th>\n",
       "      <th>Crossing_True</th>\n",
       "      <th>Give_Way_True</th>\n",
       "      <th>Junction_True</th>\n",
       "      <th>No_Exit_True</th>\n",
       "      <th>Railway_True</th>\n",
       "      <th>Roundabout_True</th>\n",
       "      <th>Station_True</th>\n",
       "      <th>Stop_True</th>\n",
       "      <th>Traffic_Calming_True</th>\n",
       "      <th>Traffic_Signal_True</th>\n",
       "    </tr>\n",
       "  </thead>\n",
       "  <tbody>\n",
       "    <tr>\n",
       "      <th>228551</th>\n",
       "      <td>2</td>\n",
       "      <td>-76.645584</td>\n",
       "      <td>39.152046</td>\n",
       "      <td>0.01</td>\n",
       "      <td>57.9</td>\n",
       "      <td>51.326849</td>\n",
       "      <td>100.0</td>\n",
       "      <td>29.75</td>\n",
       "      <td>0.5</td>\n",
       "      <td>11</td>\n",
       "      <td>299.0</td>\n",
       "      <td>1</td>\n",
       "      <td>0</td>\n",
       "      <td>0</td>\n",
       "      <td>0</td>\n",
       "      <td>0</td>\n",
       "      <td>0</td>\n",
       "      <td>0</td>\n",
       "      <td>0</td>\n",
       "      <td>0</td>\n",
       "      <td>0</td>\n",
       "      <td>0</td>\n",
       "      <td>1</td>\n",
       "      <td>0</td>\n",
       "      <td>0</td>\n",
       "      <td>0</td>\n",
       "      <td>0</td>\n",
       "      <td>0</td>\n",
       "      <td>0</td>\n",
       "      <td>0</td>\n",
       "      <td>0</td>\n",
       "      <td>0</td>\n",
       "      <td>1</td>\n",
       "      <td>0</td>\n",
       "      <td>0</td>\n",
       "      <td>0</td>\n",
       "      <td>0</td>\n",
       "      <td>1</td>\n",
       "      <td>0</td>\n",
       "      <td>0</td>\n",
       "      <td>0</td>\n",
       "      <td>0</td>\n",
       "      <td>0</td>\n",
       "      <td>0</td>\n",
       "      <td>0</td>\n",
       "      <td>0</td>\n",
       "      <td>0</td>\n",
       "      <td>0</td>\n",
       "      <td>0</td>\n",
       "      <td>0</td>\n",
       "      <td>0</td>\n",
       "      <td>0</td>\n",
       "      <td>0</td>\n",
       "      <td>0</td>\n",
       "      <td>0</td>\n",
       "      <td>0</td>\n",
       "      <td>0</td>\n",
       "      <td>0</td>\n",
       "      <td>0</td>\n",
       "      <td>0</td>\n",
       "      <td>0</td>\n",
       "      <td>0</td>\n",
       "      <td>0</td>\n",
       "      <td>0</td>\n",
       "      <td>0</td>\n",
       "      <td>0</td>\n",
       "      <td>0</td>\n",
       "      <td>0</td>\n",
       "    </tr>\n",
       "    <tr>\n",
       "      <th>228552</th>\n",
       "      <td>3</td>\n",
       "      <td>-76.645584</td>\n",
       "      <td>39.152046</td>\n",
       "      <td>0.01</td>\n",
       "      <td>57.9</td>\n",
       "      <td>51.326849</td>\n",
       "      <td>100.0</td>\n",
       "      <td>29.75</td>\n",
       "      <td>0.5</td>\n",
       "      <td>12</td>\n",
       "      <td>299.0</td>\n",
       "      <td>1</td>\n",
       "      <td>0</td>\n",
       "      <td>0</td>\n",
       "      <td>0</td>\n",
       "      <td>0</td>\n",
       "      <td>0</td>\n",
       "      <td>0</td>\n",
       "      <td>0</td>\n",
       "      <td>0</td>\n",
       "      <td>0</td>\n",
       "      <td>0</td>\n",
       "      <td>1</td>\n",
       "      <td>0</td>\n",
       "      <td>0</td>\n",
       "      <td>0</td>\n",
       "      <td>0</td>\n",
       "      <td>0</td>\n",
       "      <td>0</td>\n",
       "      <td>0</td>\n",
       "      <td>0</td>\n",
       "      <td>0</td>\n",
       "      <td>1</td>\n",
       "      <td>0</td>\n",
       "      <td>0</td>\n",
       "      <td>0</td>\n",
       "      <td>0</td>\n",
       "      <td>1</td>\n",
       "      <td>0</td>\n",
       "      <td>0</td>\n",
       "      <td>0</td>\n",
       "      <td>0</td>\n",
       "      <td>0</td>\n",
       "      <td>0</td>\n",
       "      <td>0</td>\n",
       "      <td>0</td>\n",
       "      <td>0</td>\n",
       "      <td>0</td>\n",
       "      <td>0</td>\n",
       "      <td>0</td>\n",
       "      <td>0</td>\n",
       "      <td>0</td>\n",
       "      <td>0</td>\n",
       "      <td>0</td>\n",
       "      <td>0</td>\n",
       "      <td>0</td>\n",
       "      <td>0</td>\n",
       "      <td>0</td>\n",
       "      <td>0</td>\n",
       "      <td>0</td>\n",
       "      <td>0</td>\n",
       "      <td>0</td>\n",
       "      <td>0</td>\n",
       "      <td>0</td>\n",
       "      <td>0</td>\n",
       "      <td>0</td>\n",
       "      <td>0</td>\n",
       "      <td>0</td>\n",
       "    </tr>\n",
       "  </tbody>\n",
       "</table>\n",
       "</div>"
      ],
      "text/plain": [
       "        Severity  Start_Lng  ...  Traffic_Calming_True  Traffic_Signal_True\n",
       "228551         2 -76.645584  ...                     0                    0\n",
       "228552         3 -76.645584  ...                     0                    0\n",
       "\n",
       "[2 rows x 68 columns]"
      ]
     },
     "execution_count": 13,
     "metadata": {
      "tags": []
     },
     "output_type": "execute_result"
    }
   ],
   "source": [
    "#Create dummies to deal with categorical data\n",
    "# Set the list of features to include in Machine Learning\n",
    "ft=['Severity','Start_Lng','Start_Lat','Distance(mi)','Side','Timezone',\\\n",
    "              'Temperature(F)','Wind_Chill(F)','Humidity(%)','Pressure(in)',\\\n",
    "              'Visibility(mi)', 'Wind_Direction','Amenity','Bump','Crossing',\\\n",
    "              'Give_Way','Junction','No_Exit','Railway','Roundabout','Station',\\\n",
    "              'Stop','Traffic_Calming', 'Traffic_Signal','Turning_Loop',\\\n",
    "              'Sunrise_Sunset','Civil_Twilight', 'Month', 'Nautical_Twilight',\\\n",
    "              'Astronomical_Twilight','Hour','Weekday', 'Time_Duration(min)']\n",
    "\n",
    "#Subset features for each state\n",
    "NY_db = NY_db[ft].copy()\n",
    "NJ_db = NJ_db[ft].copy()\n",
    "MA_db = MA_db[ft].copy()\n",
    "RI_db = RI_db[ft].copy()\n",
    "CT_db = CT_db[ft].copy()\n",
    "MD_db = MD_db[ft].copy()\n",
    "\n",
    "#make Dummies for categorical features\n",
    "cat_columns = ['Side','Timezone','Sunrise_Sunset', 'Civil_Twilight', 'Month',\\\n",
    "              'Nautical_Twilight', 'Astronomical_Twilight', 'Weekday',\\\n",
    "              'Wind_Direction', 'Amenity', 'Bump', 'Crossing', 'Give_Way',\\\n",
    "              'Junction','No_Exit', 'Railway','Roundabout', 'Station', 'Stop',\\\n",
    "               'Traffic_Calming','Traffic_Signal', 'Turning_Loop']\n",
    "\n",
    "NY_dummy = pd.get_dummies(NY_db, columns = cat_columns, drop_first = True)\n",
    "NJ_dummy = pd.get_dummies(NJ_db, columns = cat_columns, drop_first = True)\n",
    "MA_dummy = pd.get_dummies(MA_db, columns = cat_columns, drop_first = True)\n",
    "RI_dummy = pd.get_dummies(RI_db, columns = cat_columns, drop_first = True)\n",
    "CT_dummy = pd.get_dummies(CT_db, columns = cat_columns, drop_first = True)\n",
    "MD_dummy = pd.get_dummies(MD_db, columns = cat_columns, drop_first = True)\n",
    "\n",
    "#See what each looks like\n",
    "print(NY_dummy.shape) #New York state\n",
    "NY_dummy.head(2)\n",
    "\n",
    "print(NJ_dummy.shape) #New Jersey\n",
    "NJ_dummy.head(2)\n",
    "\n",
    "print(MA_dummy.shape)\n",
    "MA_dummy.head(2)\n",
    "\n",
    "print(RI_dummy.shape)\n",
    "RI_dummy.head(2)\n",
    "\n",
    "print(CT_dummy.shape)\n",
    "CT_dummy.head(2)\n",
    "\n",
    "print(MD_dummy.shape)\n",
    "MD_dummy.head(2)\n"
   ]
  },
  {
   "cell_type": "code",
   "execution_count": null,
   "metadata": {
    "colab": {
     "base_uri": "https://localhost:8080/",
     "height": 118
    },
    "colab_type": "code",
    "executionInfo": {
     "elapsed": 2634,
     "status": "ok",
     "timestamp": 1587922080744,
     "user": {
      "displayName": "Keino Hutchinson",
      "photoUrl": "https://lh3.googleusercontent.com/a-/AOh14GgoH1aJTdQbrbzSBoSeD37DeC0pjN2PQjCMAnQwfw=s64",
      "userId": "09021311108852341028"
     },
     "user_tz": 240
    },
    "id": "zdCYTUc6Xzzg",
    "outputId": "d1e4593e-d383-4dc4-e937-14f2ad388aeb"
   },
   "outputs": [
    {
     "name": "stdout",
     "output_type": "stream",
     "text": [
      "(109441, 41)\n",
      "(33860, 41)\n",
      "(29734, 41)\n",
      "(7515, 41)\n",
      "(14813, 41)\n",
      "(29304, 41)\n"
     ]
    }
   ],
   "source": [
    "# Only use the columns that from feature selection\n",
    "select_ft =['Severity', 'Start_Lng', 'Start_Lat', 'Distance(mi)', 'Temperature(F)', \\\n",
    "              'Wind_Chill(F)', 'Humidity(%)', 'Pressure(in)', 'Visibility(mi)',\\\n",
    "              'Hour', 'Time_Duration(min)', 'Side_R', \\\n",
    "              'Sunrise_Sunset_Night', 'Civil_Twilight_Night', 'Month_Dec', \n",
    "              'Month_Jul', 'Month_Jun', 'Month_Nov','Month_Oct', 'Month_Sep',\\\n",
    "              'Nautical_Twilight_Night', 'Astronomical_Twilight_Night', \\\n",
    "              'Weekday_Mon', 'Weekday_Sat', 'Weekday_Sun', 'Weekday_Thu', \\\n",
    "              'Weekday_Tue', 'Weekday_Wed', 'Wind_Direction_Calm', 'Wind_Direction_East',\\\n",
    "              'Wind_Direction_NNE', 'Wind_Direction_North', 'Wind_Direction_Variable',\\\n",
    "              'Wind_Direction_WSW', 'Wind_Direction_West', 'Amenity_True', 'Crossing_True',\\\n",
    "              'Junction_True', 'Station_True', 'Stop_True', 'Traffic_Signal_True']\n",
    "\n",
    "# Duplicate dataset with only list of selected features\n",
    "NY_dummy = NY_dummy[select_ft].copy()\n",
    "print(NY_dummy.shape)\n",
    "\n",
    "NJ_dummy = NJ_dummy[select_ft].copy()\n",
    "print(NJ_dummy.shape) \n",
    "\n",
    "MA_dummy = MA_dummy[select_ft].copy()\n",
    "print(MA_dummy.shape) \n",
    "\n",
    "RI_dummy = RI_dummy[select_ft].copy()\n",
    "print(RI_dummy.shape) \n",
    "\n",
    "CT_dummy = CT_dummy[select_ft].copy()\n",
    "print(CT_dummy.shape)\n",
    "\n",
    "MD_dummy = MD_dummy[select_ft].copy()\n",
    "print(MD_dummy.shape) "
   ]
  },
  {
   "cell_type": "code",
   "execution_count": null,
   "metadata": {
    "colab": {
     "base_uri": "https://localhost:8080/",
     "height": 84
    },
    "colab_type": "code",
    "executionInfo": {
     "elapsed": 661,
     "status": "ok",
     "timestamp": 1587925342824,
     "user": {
      "displayName": "Keino Hutchinson",
      "photoUrl": "https://lh3.googleusercontent.com/a-/AOh14GgoH1aJTdQbrbzSBoSeD37DeC0pjN2PQjCMAnQwfw=s64",
      "userId": "09021311108852341028"
     },
     "user_tz": 240
    },
    "id": "KoRiluYgpXvu",
    "outputId": "8b005b35-8fa4-436b-961c-f84d4a701c08"
   },
   "outputs": [
    {
     "name": "stdout",
     "output_type": "stream",
     "text": [
      "Training data shape:  (76608, 40)\n",
      "Training labels shape:  (76608,)\n",
      "Test data shape:  (32833, 40)\n",
      "Test labels shape:  (32833,)\n"
     ]
    }
   ],
   "source": [
    "#Set up data into train and test\n",
    "# Set the target for the prediction\n",
    "target='Severity'\n",
    "\n",
    "# Create arrays for the features and the response variable\n",
    "# set X and y\n",
    "y_NY = NY_dummy[target]\n",
    "X_NY = NY_dummy.drop(target, axis=1)\n",
    "\n",
    "y_NJ = NJ_dummy[target]\n",
    "X_NJ = NJ_dummy.drop(target, axis=1)\n",
    "\n",
    "y_MA = MA_dummy[target]\n",
    "X_MA = MA_dummy.drop(target, axis=1)\n",
    "\n",
    "y_RI = RI_dummy[target]\n",
    "X_RI = RI_dummy.drop(target, axis=1)\n",
    "\n",
    "y_CT = CT_dummy[target]\n",
    "X_CT = CT_dummy.drop(target, axis=1)\n",
    "\n",
    "y_MD = MD_dummy[target]\n",
    "X_MD = MD_dummy.drop(target, axis=1)\n",
    "\n",
    "# Split the data set into training and testing data sets\n",
    "X_train, X_test, y_train, y_test = train_test_split(X_NY, y_NY, test_size=0.3, random_state=0, stratify=y_NY)\n",
    "\n",
    "# Print out the size of the training and test data.\n",
    "print('Training data shape: ', X_train.shape)\n",
    "print('Training labels shape: ', y_train.shape)\n",
    "print('Test data shape: ', X_test.shape)\n",
    "print('Test labels shape: ', y_test.shape)"
   ]
  },
  {
   "cell_type": "code",
   "execution_count": null,
   "metadata": {
    "colab": {},
    "colab_type": "code",
    "id": "mjzb-jc2U350"
   },
   "outputs": [],
   "source": [
    "#Scale data before usage\n",
    "scaler = StandardScaler()\n",
    "scaler.fit(X_train)\n",
    "\n",
    "X_train = scaler.transform(X_train)\n",
    "X_test = scaler.transform(X_test)"
   ]
  },
  {
   "cell_type": "code",
   "execution_count": null,
   "metadata": {
    "colab": {},
    "colab_type": "code",
    "id": "gvas9nhrhKB7"
   },
   "outputs": [],
   "source": [
    "# Set up loop to run alorithms simultaneously\n",
    "# List of classification algorithms\n",
    "names =['Random Forest', 'Logistic Regression',' K-Nearest Neighbors',\\\n",
    "        'Decision Tree', 'MLP Nueral Net',\\\n",
    "        'AdaBoost', 'Naive Bayes']\n",
    "\n",
    "# Initialize an empty list for the accuracy for each algorithm\n",
    "accuracy_list=[]\n",
    "\n",
    "\n",
    "classifiers = [\n",
    "    RandomForestClassifier(),\n",
    "    LogisticRegression(max_iter=1000000),\n",
    "    KNeighborsClassifier(n_neighbors= 8, algorithm='kd_tree'),\n",
    "    DecisionTreeClassifier(),\n",
    "    LinearDiscriminantAnalysis(),\n",
    "    MLPClassifier(solver='lbfgs', max_iter=2000, alpha=1e-5, hidden_layer_sizes=(10,10,10)),\n",
    "    AdaBoostClassifier(),\n",
    "    GradientBoostingClassifier(),\n",
    "    GaussianNB()]"
   ]
  },
  {
   "cell_type": "markdown",
   "metadata": {
    "colab_type": "text",
    "id": "_ZR9gQR4zCgA"
   },
   "source": [
    "New York"
   ]
  },
  {
   "cell_type": "code",
   "execution_count": null,
   "metadata": {
    "colab": {
     "base_uri": "https://localhost:8080/",
     "height": 890
    },
    "colab_type": "code",
    "executionInfo": {
     "elapsed": 699553,
     "status": "ok",
     "timestamp": 1587926049978,
     "user": {
      "displayName": "Keino Hutchinson",
      "photoUrl": "https://lh3.googleusercontent.com/a-/AOh14GgoH1aJTdQbrbzSBoSeD37DeC0pjN2PQjCMAnQwfw=s64",
      "userId": "09021311108852341028"
     },
     "user_tz": 240
    },
    "id": "CD0d64KNN4--",
    "outputId": "07a0f1a9-1689-4377-de51-8e060fb85352"
   },
   "outputs": [
    {
     "name": "stdout",
     "output_type": "stream",
     "text": [
      "==============================\n",
      "RandomForestClassifier\n",
      "****Results****\n",
      "Accuracy: 85.0273%\n",
      "Log Loss: 0.39279071507671304\n",
      "==============================\n",
      "LogisticRegression\n",
      "****Results****\n",
      "Accuracy: 68.9032%\n",
      "Log Loss: 0.5795768828148233\n",
      "==============================\n",
      "KNeighborsClassifier\n",
      "****Results****\n",
      "Accuracy: 67.2037%\n",
      "Log Loss: 0.994817091869792\n",
      "==============================\n",
      "DecisionTreeClassifier\n",
      "****Results****\n",
      "Accuracy: 86.9887%\n",
      "Log Loss: 4.492933946853005\n",
      "==============================\n",
      "LinearDiscriminantAnalysis\n",
      "****Results****\n",
      "Accuracy: 68.0839%\n",
      "Log Loss: 0.6247193858437871\n"
     ]
    },
    {
     "name": "stderr",
     "output_type": "stream",
     "text": [
      "/usr/local/lib/python3.6/dist-packages/sklearn/neural_network/_multilayer_perceptron.py:470: ConvergenceWarning: lbfgs failed to converge (status=1):\n",
      "STOP: TOTAL NO. of ITERATIONS REACHED LIMIT.\n",
      "\n",
      "Increase the number of iterations (max_iter) or scale the data as shown in:\n",
      "    https://scikit-learn.org/stable/modules/preprocessing.html\n",
      "  self.n_iter_ = _check_optimize_result(\"lbfgs\", opt_res, self.max_iter)\n"
     ]
    },
    {
     "name": "stdout",
     "output_type": "stream",
     "text": [
      "==============================\n",
      "MLPClassifier\n",
      "****Results****\n",
      "Accuracy: 74.7449%\n",
      "Log Loss: 0.5009316925464211\n",
      "==============================\n",
      "AdaBoostClassifier\n",
      "****Results****\n",
      "Accuracy: 56.1204%\n",
      "Log Loss: 1.0806700183033289\n",
      "==============================\n",
      "GradientBoostingClassifier\n",
      "****Results****\n",
      "Accuracy: 82.7338%\n",
      "Log Loss: 0.40989437463586825\n",
      "==============================\n",
      "GaussianNB\n",
      "****Results****\n",
      "Accuracy: 7.3432%\n",
      "Log Loss: 29.54712705888485\n",
      "==============================\n"
     ]
    }
   ],
   "source": [
    "# Logging for Visual Comparison\n",
    "log_cols=[\"Classifier\", \"Accuracy\", \"Log Loss\"]\n",
    "log = pd.DataFrame(columns=log_cols)\n",
    "\n",
    "for clf in classifiers:\n",
    "    clf.fit(X_train, y_train)\n",
    "    name = clf.__class__.__name__\n",
    "    \n",
    "    print(\"=\"*30)\n",
    "    print(name)\n",
    "    \n",
    "    print('****Results****')\n",
    "    train_predictions = clf.predict(X_test)\n",
    "    acc = accuracy_score(y_test, train_predictions)\n",
    "    print(\"Accuracy: {:.4%}\".format(acc))\n",
    "    \n",
    "    train_predictions = clf.predict_proba(X_test)\n",
    "    ll = log_loss(y_test, train_predictions)\n",
    "    print(\"Log Loss: {}\".format(ll))\n",
    "    \n",
    "    log_entry = pd.DataFrame([[name, acc*100, ll]], columns=log_cols)\n",
    "    log = log.append(log_entry)\n",
    "    \n",
    "print(\"=\"*30)"
   ]
  },
  {
   "cell_type": "code",
   "execution_count": null,
   "metadata": {
    "colab": {
     "base_uri": "https://localhost:8080/",
     "height": 573
    },
    "colab_type": "code",
    "executionInfo": {
     "elapsed": 675275,
     "status": "ok",
     "timestamp": 1587926049979,
     "user": {
      "displayName": "Keino Hutchinson",
      "photoUrl": "https://lh3.googleusercontent.com/a-/AOh14GgoH1aJTdQbrbzSBoSeD37DeC0pjN2PQjCMAnQwfw=s64",
      "userId": "09021311108852341028"
     },
     "user_tz": 240
    },
    "id": "a8wNjTzAi_i4",
    "outputId": "831fdf5f-1af1-4ba9-fe1c-dfcce2360757"
   },
   "outputs": [
    {
     "data": {
      "image/png": "[encoded data removed]",
      "text/plain": [
       "<Figure size 432x288 with 1 Axes>"
      ]
     },
     "metadata": {
      "needs_background": "light",
      "tags": []
     },
     "output_type": "display_data"
    },
    {
     "data": {
      "image/png": "[encoded data removed]",
      "text/plain": [
       "<Figure size 432x288 with 1 Axes>"
      ]
     },
     "metadata": {
      "needs_background": "light",
      "tags": []
     },
     "output_type": "display_data"
    }
   ],
   "source": [
    "#Plot graph comparing accuracies and log loss\n",
    "sns.set_color_codes(\"muted\")\n",
    "g =sns.barplot(x='Accuracy', y='Classifier', data=log, color=\"b\")\n",
    "ax = g\n",
    "plt.xlim(0,100)\n",
    "plt.xlabel('Accuracy %')\n",
    "plt.title('Classifier Accuracy')\n",
    "for i in ax.patches:\n",
    "    ax.text(i.get_width()+0.02, i.get_y()+0.2, str(round(i.get_width(),2)),\\\n",
    "            va='center', fontsize=10)\n",
    "plt.show()\n",
    "\n",
    "sns.set_color_codes(\"muted\")\n",
    "sns.barplot(x='Log Loss', y='Classifier', data=log, color=\"g\")\n",
    "\n",
    "plt.xlabel('Log Loss')\n",
    "plt.title('Classifier Log Loss')\n",
    "plt.show()"
   ]
  },
  {
   "cell_type": "markdown",
   "metadata": {
    "colab_type": "text",
    "id": "CZXMIzp7uTpH"
   },
   "source": [
    "New Jersey\n"
   ]
  },
  {
   "cell_type": "code",
   "execution_count": null,
   "metadata": {
    "colab": {
     "base_uri": "https://localhost:8080/",
     "height": 84
    },
    "colab_type": "code",
    "executionInfo": {
     "elapsed": 523,
     "status": "ok",
     "timestamp": 1587926555761,
     "user": {
      "displayName": "Keino Hutchinson",
      "photoUrl": "https://lh3.googleusercontent.com/a-/AOh14GgoH1aJTdQbrbzSBoSeD37DeC0pjN2PQjCMAnQwfw=s64",
      "userId": "09021311108852341028"
     },
     "user_tz": 240
    },
    "id": "OqbyXXvcuVvg",
    "outputId": "e92206d9-0597-48bd-a0a1-478ccd30a689"
   },
   "outputs": [
    {
     "name": "stdout",
     "output_type": "stream",
     "text": [
      "Training data shape:  (23702, 40)\n",
      "Training labels shape:  (23702,)\n",
      "Test data shape:  (10158, 40)\n",
      "Test labels shape:  (10158,)\n"
     ]
    }
   ],
   "source": [
    "# Split the data set into training and testing data sets\n",
    "X_train, X_test, y_train, y_test = train_test_split(X_NJ, y_NJ, test_size=0.3, random_state=0, stratify=y_NJ)\n",
    "\n",
    "# Print out the size of the training and test data.\n",
    "print('Training data shape: ', X_train.shape)\n",
    "print('Training labels shape: ', y_train.shape)\n",
    "print('Test data shape: ', X_test.shape)\n",
    "print('Test labels shape: ', y_test.shape)"
   ]
  },
  {
   "cell_type": "code",
   "execution_count": null,
   "metadata": {
    "colab": {},
    "colab_type": "code",
    "id": "Ej40rUoDuvoH"
   },
   "outputs": [],
   "source": [
    "#Scale data before usage\n",
    "scaler = StandardScaler()\n",
    "scaler.fit(X_train)\n",
    "\n",
    "X_train = scaler.transform(X_train)\n",
    "X_test = scaler.transform(X_test)"
   ]
  },
  {
   "cell_type": "code",
   "execution_count": null,
   "metadata": {
    "colab": {
     "base_uri": "https://localhost:8080/",
     "height": 890
    },
    "colab_type": "code",
    "executionInfo": {
     "elapsed": 81377,
     "status": "ok",
     "timestamp": 1587926640939,
     "user": {
      "displayName": "Keino Hutchinson",
      "photoUrl": "https://lh3.googleusercontent.com/a-/AOh14GgoH1aJTdQbrbzSBoSeD37DeC0pjN2PQjCMAnQwfw=s64",
      "userId": "09021311108852341028"
     },
     "user_tz": 240
    },
    "id": "c773pkScu0zE",
    "outputId": "72e5f0e1-0ea0-4e71-bcb6-851665937c6c"
   },
   "outputs": [
    {
     "name": "stdout",
     "output_type": "stream",
     "text": [
      "==============================\n",
      "RandomForestClassifier\n",
      "****Results****\n",
      "Accuracy: 81.7385%\n",
      "Log Loss: 0.4483119125666701\n",
      "==============================\n",
      "LogisticRegression\n",
      "****Results****\n",
      "Accuracy: 67.6117%\n",
      "Log Loss: 0.5654021611830554\n",
      "==============================\n",
      "KNeighborsClassifier\n",
      "****Results****\n",
      "Accuracy: 66.8143%\n",
      "Log Loss: 0.9875246046156441\n",
      "==============================\n",
      "DecisionTreeClassifier\n",
      "****Results****\n",
      "Accuracy: 84.4654%\n",
      "Log Loss: 5.362181203892034\n",
      "==============================\n",
      "LinearDiscriminantAnalysis\n",
      "****Results****\n",
      "Accuracy: 67.0801%\n",
      "Log Loss: 0.6494924401975498\n"
     ]
    },
    {
     "name": "stderr",
     "output_type": "stream",
     "text": [
      "/usr/local/lib/python3.6/dist-packages/sklearn/neural_network/_multilayer_perceptron.py:470: ConvergenceWarning: lbfgs failed to converge (status=1):\n",
      "STOP: TOTAL NO. of ITERATIONS REACHED LIMIT.\n",
      "\n",
      "Increase the number of iterations (max_iter) or scale the data as shown in:\n",
      "    https://scikit-learn.org/stable/modules/preprocessing.html\n",
      "  self.n_iter_ = _check_optimize_result(\"lbfgs\", opt_res, self.max_iter)\n"
     ]
    },
    {
     "name": "stdout",
     "output_type": "stream",
     "text": [
      "==============================\n",
      "MLPClassifier\n",
      "****Results****\n",
      "Accuracy: 72.9573%\n",
      "Log Loss: 0.5206005251187656\n",
      "==============================\n",
      "AdaBoostClassifier\n",
      "****Results****\n",
      "Accuracy: 62.8372%\n",
      "Log Loss: 1.1195220798243475\n",
      "==============================\n",
      "GradientBoostingClassifier\n",
      "****Results****\n",
      "Accuracy: 84.4261%\n",
      "Log Loss: 0.4062969455270606\n",
      "==============================\n",
      "GaussianNB\n",
      "****Results****\n",
      "Accuracy: 5.3849%\n",
      "Log Loss: 32.184601277994254\n",
      "==============================\n"
     ]
    }
   ],
   "source": [
    "# Logging for Visual Comparison\n",
    "log_cols=[\"Classifier\", \"Accuracy\", \"Log Loss\"]\n",
    "log = pd.DataFrame(columns=log_cols)\n",
    "\n",
    "for clf in classifiers:\n",
    "    clf.fit(X_train, y_train)\n",
    "    name = clf.__class__.__name__\n",
    "    \n",
    "    print(\"=\"*30)\n",
    "    print(name)\n",
    "    \n",
    "    print('****Results****')\n",
    "    train_predictions = clf.predict(X_test)\n",
    "    acc = accuracy_score(y_test, train_predictions)\n",
    "    print(\"Accuracy: {:.4%}\".format(acc))\n",
    "    \n",
    "    train_predictions = clf.predict_proba(X_test)\n",
    "    ll = log_loss(y_test, train_predictions)\n",
    "    print(\"Log Loss: {}\".format(ll))\n",
    "    \n",
    "    log_entry = pd.DataFrame([[name, acc*100, ll]], columns=log_cols)\n",
    "    log = log.append(log_entry)\n",
    "    \n",
    "print(\"=\"*30)"
   ]
  },
  {
   "cell_type": "code",
   "execution_count": null,
   "metadata": {
    "colab": {
     "base_uri": "https://localhost:8080/",
     "height": 573
    },
    "colab_type": "code",
    "executionInfo": {
     "elapsed": 1674,
     "status": "ok",
     "timestamp": 1587926773132,
     "user": {
      "displayName": "Keino Hutchinson",
      "photoUrl": "https://lh3.googleusercontent.com/a-/AOh14GgoH1aJTdQbrbzSBoSeD37DeC0pjN2PQjCMAnQwfw=s64",
      "userId": "09021311108852341028"
     },
     "user_tz": 240
    },
    "id": "uzxntDXvzJik",
    "outputId": "b38e37cd-ce46-409c-f33e-c117921fa947"
   },
   "outputs": [
    {
     "data": {
      "image/png": "[encoded data removed]",
      "text/plain": [
       "<Figure size 432x288 with 1 Axes>"
      ]
     },
     "metadata": {
      "needs_background": "light",
      "tags": []
     },
     "output_type": "display_data"
    },
    {
     "data": {
      "image/png": "[encoded data removed]",
      "text/plain": [
       "<Figure size 432x288 with 1 Axes>"
      ]
     },
     "metadata": {
      "needs_background": "light",
      "tags": []
     },
     "output_type": "display_data"
    }
   ],
   "source": [
    "#Plot graph comparing accuracies and log loss\n",
    "sns.set_color_codes(\"muted\")\n",
    "g =sns.barplot(x='Accuracy', y='Classifier', data=log, color=\"b\")\n",
    "ax = g\n",
    "plt.xlim(0,100)\n",
    "plt.xlabel('Accuracy %')\n",
    "plt.title('Classifier Accuracy')\n",
    "for i in ax.patches:\n",
    "    ax.text(i.get_width()+0.02, i.get_y()+0.2, str(round(i.get_width(),2)),\\\n",
    "            va='center', fontsize=10)\n",
    "plt.show()\n",
    "\n",
    "sns.set_color_codes(\"muted\")\n",
    "sns.barplot(x='Log Loss', y='Classifier', data=log, color=\"g\")\n",
    "\n",
    "plt.xlabel('Log Loss')\n",
    "plt.title('Classifier Log Loss')\n",
    "plt.show()"
   ]
  },
  {
   "cell_type": "markdown",
   "metadata": {
    "colab_type": "text",
    "id": "oY1OLGjhu4V1"
   },
   "source": [
    "Massachusetts"
   ]
  },
  {
   "cell_type": "code",
   "execution_count": null,
   "metadata": {
    "colab": {
     "base_uri": "https://localhost:8080/",
     "height": 84
    },
    "colab_type": "code",
    "executionInfo": {
     "elapsed": 569,
     "status": "ok",
     "timestamp": 1587926325254,
     "user": {
      "displayName": "Keino Hutchinson",
      "photoUrl": "https://lh3.googleusercontent.com/a-/AOh14GgoH1aJTdQbrbzSBoSeD37DeC0pjN2PQjCMAnQwfw=s64",
      "userId": "09021311108852341028"
     },
     "user_tz": 240
    },
    "id": "pNtGBpROx92s",
    "outputId": "3ea4f6a1-bda1-4791-d000-315fe8da0760"
   },
   "outputs": [
    {
     "name": "stdout",
     "output_type": "stream",
     "text": [
      "Training data shape:  (20813, 40)\n",
      "Training labels shape:  (20813,)\n",
      "Test data shape:  (8921, 40)\n",
      "Test labels shape:  (8921,)\n"
     ]
    }
   ],
   "source": [
    "# Split the data set into training and testing data sets\n",
    "X_train, X_test, y_train, y_test = train_test_split(X_MA, y_MA, test_size=0.3, random_state=0, stratify=y_MA)\n",
    "\n",
    "# Print out the size of the training and test data.\n",
    "print('Training data shape: ', X_train.shape)\n",
    "print('Training labels shape: ', y_train.shape)\n",
    "print('Test data shape: ', X_test.shape)\n",
    "print('Test labels shape: ', y_test.shape)"
   ]
  },
  {
   "cell_type": "code",
   "execution_count": null,
   "metadata": {
    "colab": {},
    "colab_type": "code",
    "id": "dJQhIcS7yKMR"
   },
   "outputs": [],
   "source": [
    "#Scale data before usage\n",
    "scaler = StandardScaler()\n",
    "scaler.fit(X_train)\n",
    "\n",
    "X_train = scaler.transform(X_train)\n",
    "X_test = scaler.transform(X_test)"
   ]
  },
  {
   "cell_type": "code",
   "execution_count": null,
   "metadata": {
    "colab": {
     "base_uri": "https://localhost:8080/",
     "height": 890
    },
    "colab_type": "code",
    "executionInfo": {
     "elapsed": 68553,
     "status": "ok",
     "timestamp": 1587926399154,
     "user": {
      "displayName": "Keino Hutchinson",
      "photoUrl": "https://lh3.googleusercontent.com/a-/AOh14GgoH1aJTdQbrbzSBoSeD37DeC0pjN2PQjCMAnQwfw=s64",
      "userId": "09021311108852341028"
     },
     "user_tz": 240
    },
    "id": "ASB6OkFhyMPP",
    "outputId": "82bc6edd-f70a-48ce-c7c6-d178edeb7d03"
   },
   "outputs": [
    {
     "name": "stdout",
     "output_type": "stream",
     "text": [
      "==============================\n",
      "RandomForestClassifier\n",
      "****Results****\n",
      "Accuracy: 85.2371%\n",
      "Log Loss: 0.4090626364463497\n",
      "==============================\n",
      "LogisticRegression\n",
      "****Results****\n",
      "Accuracy: 68.5125%\n",
      "Log Loss: 0.5660449577514671\n",
      "==============================\n",
      "KNeighborsClassifier\n",
      "****Results****\n",
      "Accuracy: 65.0039%\n",
      "Log Loss: 0.8881341333145274\n",
      "==============================\n",
      "DecisionTreeClassifier\n",
      "****Results****\n",
      "Accuracy: 85.3604%\n",
      "Log Loss: 5.056343680277252\n",
      "==============================\n",
      "LinearDiscriminantAnalysis\n",
      "****Results****\n",
      "Accuracy: 66.7302%\n",
      "Log Loss: 0.6573536296836295\n"
     ]
    },
    {
     "name": "stderr",
     "output_type": "stream",
     "text": [
      "/usr/local/lib/python3.6/dist-packages/sklearn/neural_network/_multilayer_perceptron.py:470: ConvergenceWarning: lbfgs failed to converge (status=1):\n",
      "STOP: TOTAL NO. of ITERATIONS REACHED LIMIT.\n",
      "\n",
      "Increase the number of iterations (max_iter) or scale the data as shown in:\n",
      "    https://scikit-learn.org/stable/modules/preprocessing.html\n",
      "  self.n_iter_ = _check_optimize_result(\"lbfgs\", opt_res, self.max_iter)\n"
     ]
    },
    {
     "name": "stdout",
     "output_type": "stream",
     "text": [
      "==============================\n",
      "MLPClassifier\n",
      "****Results****\n",
      "Accuracy: 77.7940%\n",
      "Log Loss: 0.46628772269194213\n",
      "==============================\n",
      "AdaBoostClassifier\n",
      "****Results****\n",
      "Accuracy: 58.0540%\n",
      "Log Loss: 1.0363899078493388\n",
      "==============================\n",
      "GradientBoostingClassifier\n",
      "****Results****\n",
      "Accuracy: 84.1049%\n",
      "Log Loss: 0.3909868149426992\n",
      "==============================\n",
      "GaussianNB\n",
      "****Results****\n",
      "Accuracy: 26.4096%\n",
      "Log Loss: 22.699861058447276\n",
      "==============================\n"
     ]
    }
   ],
   "source": [
    "# Logging for Visual Comparison\n",
    "log_cols=[\"Classifier\", \"Accuracy\", \"Log Loss\"]\n",
    "log = pd.DataFrame(columns=log_cols)\n",
    "\n",
    "for clf in classifiers:\n",
    "    clf.fit(X_train, y_train)\n",
    "    name = clf.__class__.__name__\n",
    "    \n",
    "    print(\"=\"*30)\n",
    "    print(name)\n",
    "    \n",
    "    print('****Results****')\n",
    "    train_predictions = clf.predict(X_test)\n",
    "    acc = accuracy_score(y_test, train_predictions)\n",
    "    print(\"Accuracy: {:.4%}\".format(acc))\n",
    "    \n",
    "    train_predictions = clf.predict_proba(X_test)\n",
    "    ll = log_loss(y_test, train_predictions)\n",
    "    print(\"Log Loss: {}\".format(ll))\n",
    "    \n",
    "    log_entry = pd.DataFrame([[name, acc*100, ll]], columns=log_cols)\n",
    "    log = log.append(log_entry)\n",
    "    \n",
    "print(\"=\"*30)"
   ]
  },
  {
   "cell_type": "code",
   "execution_count": null,
   "metadata": {
    "colab": {
     "base_uri": "https://localhost:8080/",
     "height": 573
    },
    "colab_type": "code",
    "executionInfo": {
     "elapsed": 886,
     "status": "ok",
     "timestamp": 1587926506992,
     "user": {
      "displayName": "Keino Hutchinson",
      "photoUrl": "https://lh3.googleusercontent.com/a-/AOh14GgoH1aJTdQbrbzSBoSeD37DeC0pjN2PQjCMAnQwfw=s64",
      "userId": "09021311108852341028"
     },
     "user_tz": 240
    },
    "id": "YCqWZ-Iry4-O",
    "outputId": "55819ad3-c486-44b8-d355-1f26424fc814"
   },
   "outputs": [
    {
     "data": {
      "image/png": "[encoded data removed]",
      "text/plain": [
       "<Figure size 432x288 with 1 Axes>"
      ]
     },
     "metadata": {
      "needs_background": "light",
      "tags": []
     },
     "output_type": "display_data"
    },
    {
     "data": {
      "image/png": "[encoded data removed]",
      "text/plain": [
       "<Figure size 432x288 with 1 Axes>"
      ]
     },
     "metadata": {
      "needs_background": "light",
      "tags": []
     },
     "output_type": "display_data"
    }
   ],
   "source": [
    "#Plot graph comparing accuracies and log loss\n",
    "sns.set_color_codes(\"muted\")\n",
    "g =sns.barplot(x='Accuracy', y='Classifier', data=log, color=\"b\")\n",
    "ax = g\n",
    "plt.xlim(0,100)\n",
    "plt.xlabel('Accuracy %')\n",
    "plt.title('Classifier Accuracy')\n",
    "for i in ax.patches:\n",
    "    ax.text(i.get_width()+0.02, i.get_y()+0.2, str(round(i.get_width(),2)),\\\n",
    "            va='center', fontsize=10)\n",
    "plt.show()\n",
    "\n",
    "sns.set_color_codes(\"muted\")\n",
    "sns.barplot(x='Log Loss', y='Classifier', data=log, color=\"g\")\n",
    "\n",
    "plt.xlabel('Log Loss')\n",
    "plt.title('Classifier Log Loss')\n",
    "plt.show()"
   ]
  },
  {
   "cell_type": "markdown",
   "metadata": {
    "colab_type": "text",
    "id": "gcNwsLnVz8WK"
   },
   "source": [
    "Rhode Island"
   ]
  },
  {
   "cell_type": "code",
   "execution_count": null,
   "metadata": {
    "colab": {
     "base_uri": "https://localhost:8080/",
     "height": 84
    },
    "colab_type": "code",
    "executionInfo": {
     "elapsed": 537,
     "status": "ok",
     "timestamp": 1587926836398,
     "user": {
      "displayName": "Keino Hutchinson",
      "photoUrl": "https://lh3.googleusercontent.com/a-/AOh14GgoH1aJTdQbrbzSBoSeD37DeC0pjN2PQjCMAnQwfw=s64",
      "userId": "09021311108852341028"
     },
     "user_tz": 240
    },
    "id": "BaGTzRQd0GsG",
    "outputId": "08fbf6b7-aae7-4fa7-e6b0-236f9a281f79"
   },
   "outputs": [
    {
     "name": "stdout",
     "output_type": "stream",
     "text": [
      "Training data shape:  (5260, 40)\n",
      "Training labels shape:  (5260,)\n",
      "Test data shape:  (2255, 40)\n",
      "Test labels shape:  (2255,)\n"
     ]
    }
   ],
   "source": [
    "# Split the data set into training and testing data sets\n",
    "X_train, X_test, y_train, y_test = train_test_split(X_RI, y_RI, test_size=0.3, random_state=0, stratify=y_RI)\n",
    "\n",
    "# Print out the size of the training and test data.\n",
    "print('Training data shape: ', X_train.shape)\n",
    "print('Training labels shape: ', y_train.shape)\n",
    "print('Test data shape: ', X_test.shape)\n",
    "print('Test labels shape: ', y_test.shape)"
   ]
  },
  {
   "cell_type": "code",
   "execution_count": null,
   "metadata": {
    "colab": {},
    "colab_type": "code",
    "id": "5MtgU6820OcB"
   },
   "outputs": [],
   "source": [
    "#Scale data before usage\n",
    "scaler = StandardScaler()\n",
    "scaler.fit(X_train)\n",
    "\n",
    "X_train = scaler.transform(X_train)\n",
    "X_test = scaler.transform(X_test)"
   ]
  },
  {
   "cell_type": "code",
   "execution_count": null,
   "metadata": {
    "colab": {
     "base_uri": "https://localhost:8080/",
     "height": 890
    },
    "colab_type": "code",
    "executionInfo": {
     "elapsed": 25538,
     "status": "ok",
     "timestamp": 1587926898930,
     "user": {
      "displayName": "Keino Hutchinson",
      "photoUrl": "https://lh3.googleusercontent.com/a-/AOh14GgoH1aJTdQbrbzSBoSeD37DeC0pjN2PQjCMAnQwfw=s64",
      "userId": "09021311108852341028"
     },
     "user_tz": 240
    },
    "id": "Fxz7aM4Y0Ryv",
    "outputId": "ad616982-69d2-47bf-f168-3d76bfcd5bc1"
   },
   "outputs": [
    {
     "name": "stdout",
     "output_type": "stream",
     "text": [
      "==============================\n",
      "RandomForestClassifier\n",
      "****Results****\n",
      "Accuracy: 88.9135%\n",
      "Log Loss: 0.36136793426889907\n",
      "==============================\n",
      "LogisticRegression\n",
      "****Results****\n",
      "Accuracy: 70.8647%\n",
      "Log Loss: 0.5894014576894147\n",
      "==============================\n",
      "KNeighborsClassifier\n",
      "****Results****\n",
      "Accuracy: 67.8492%\n",
      "Log Loss: 1.3044235224588128\n",
      "==============================\n",
      "DecisionTreeClassifier\n",
      "****Results****\n",
      "Accuracy: 85.2772%\n",
      "Log Loss: 5.085395525627898\n",
      "==============================\n",
      "LinearDiscriminantAnalysis\n",
      "****Results****\n",
      "Accuracy: 70.5987%\n",
      "Log Loss: 0.7214360566766613\n"
     ]
    },
    {
     "name": "stderr",
     "output_type": "stream",
     "text": [
      "/usr/local/lib/python3.6/dist-packages/sklearn/neural_network/_multilayer_perceptron.py:470: ConvergenceWarning: lbfgs failed to converge (status=1):\n",
      "STOP: TOTAL NO. of ITERATIONS REACHED LIMIT.\n",
      "\n",
      "Increase the number of iterations (max_iter) or scale the data as shown in:\n",
      "    https://scikit-learn.org/stable/modules/preprocessing.html\n",
      "  self.n_iter_ = _check_optimize_result(\"lbfgs\", opt_res, self.max_iter)\n"
     ]
    },
    {
     "name": "stdout",
     "output_type": "stream",
     "text": [
      "==============================\n",
      "MLPClassifier\n",
      "****Results****\n",
      "Accuracy: 83.6807%\n",
      "Log Loss: 0.6508507563733368\n",
      "==============================\n",
      "AdaBoostClassifier\n",
      "****Results****\n",
      "Accuracy: 47.7162%\n",
      "Log Loss: 0.7658332705295925\n",
      "==============================\n",
      "GradientBoostingClassifier\n",
      "****Results****\n",
      "Accuracy: 88.9579%\n",
      "Log Loss: 0.3677623817615614\n",
      "==============================\n",
      "GaussianNB\n",
      "****Results****\n",
      "Accuracy: 56.9845%\n",
      "Log Loss: 13.585054609053635\n",
      "==============================\n"
     ]
    }
   ],
   "source": [
    "# Logging for Visual Comparison\n",
    "log_cols=[\"Classifier\", \"Accuracy\", \"Log Loss\"]\n",
    "log = pd.DataFrame(columns=log_cols)\n",
    "\n",
    "for clf in classifiers:\n",
    "    clf.fit(X_train, y_train)\n",
    "    name = clf.__class__.__name__\n",
    "    \n",
    "    print(\"=\"*30)\n",
    "    print(name)\n",
    "    \n",
    "    print('****Results****')\n",
    "    train_predictions = clf.predict(X_test)\n",
    "    acc = accuracy_score(y_test, train_predictions)\n",
    "    print(\"Accuracy: {:.4%}\".format(acc))\n",
    "    \n",
    "    train_predictions = clf.predict_proba(X_test)\n",
    "    ll = log_loss(y_test, train_predictions)\n",
    "    print(\"Log Loss: {}\".format(ll))\n",
    "    \n",
    "    log_entry = pd.DataFrame([[name, acc*100, ll]], columns=log_cols)\n",
    "    log = log.append(log_entry)\n",
    "    \n",
    "print(\"=\"*30)"
   ]
  },
  {
   "cell_type": "code",
   "execution_count": null,
   "metadata": {
    "colab": {
     "base_uri": "https://localhost:8080/",
     "height": 573
    },
    "colab_type": "code",
    "executionInfo": {
     "elapsed": 1038,
     "status": "ok",
     "timestamp": 1587927081306,
     "user": {
      "displayName": "Keino Hutchinson",
      "photoUrl": "https://lh3.googleusercontent.com/a-/AOh14GgoH1aJTdQbrbzSBoSeD37DeC0pjN2PQjCMAnQwfw=s64",
      "userId": "09021311108852341028"
     },
     "user_tz": 240
    },
    "id": "UIwphUTm0ZkV",
    "outputId": "42abaf6a-6725-49a3-a400-613a2f18ce7d"
   },
   "outputs": [
    {
     "data": {
      "image/png": "[encoded data removed]",
      "text/plain": [
       "<Figure size 432x288 with 1 Axes>"
      ]
     },
     "metadata": {
      "needs_background": "light",
      "tags": []
     },
     "output_type": "display_data"
    },
    {
     "data": {
      "image/png": "[encoded data removed]",
      "text/plain": [
       "<Figure size 432x288 with 1 Axes>"
      ]
     },
     "metadata": {
      "needs_background": "light",
      "tags": []
     },
     "output_type": "display_data"
    }
   ],
   "source": [
    "#Plot graph comparing accuracies and log loss\n",
    "sns.set_color_codes(\"muted\")\n",
    "g =sns.barplot(x='Accuracy', y='Classifier', data=log, color=\"b\")\n",
    "ax = g\n",
    "plt.xlim(0,100)\n",
    "plt.xlabel('Accuracy %')\n",
    "plt.title('Classifier Accuracy')\n",
    "for i in ax.patches:\n",
    "    ax.text(i.get_width()+0.02, i.get_y()+0.2, str(round(i.get_width(),2)),\\\n",
    "            va='center', fontsize=10)\n",
    "plt.show()\n",
    "\n",
    "sns.set_color_codes(\"muted\")\n",
    "sns.barplot(x='Log Loss', y='Classifier', data=log, color=\"g\")\n",
    "\n",
    "plt.xlabel('Log Loss')\n",
    "plt.title('Classifier Log Loss')\n",
    "plt.show()"
   ]
  },
  {
   "cell_type": "markdown",
   "metadata": {
    "colab_type": "text",
    "id": "FL70QT9p1Klv"
   },
   "source": [
    "Conneticut"
   ]
  },
  {
   "cell_type": "code",
   "execution_count": null,
   "metadata": {
    "colab": {
     "base_uri": "https://localhost:8080/",
     "height": 84
    },
    "colab_type": "code",
    "executionInfo": {
     "elapsed": 546,
     "status": "ok",
     "timestamp": 1587927153337,
     "user": {
      "displayName": "Keino Hutchinson",
      "photoUrl": "https://lh3.googleusercontent.com/a-/AOh14GgoH1aJTdQbrbzSBoSeD37DeC0pjN2PQjCMAnQwfw=s64",
      "userId": "09021311108852341028"
     },
     "user_tz": 240
    },
    "id": "khf9qxhO1Qzs",
    "outputId": "0ffb8fac-6b2c-489b-f5c8-711b29da7ef0"
   },
   "outputs": [
    {
     "name": "stdout",
     "output_type": "stream",
     "text": [
      "Training data shape:  (10369, 40)\n",
      "Training labels shape:  (10369,)\n",
      "Test data shape:  (4444, 40)\n",
      "Test labels shape:  (4444,)\n"
     ]
    }
   ],
   "source": [
    "# Split the data set into training and testing data sets\n",
    "X_train, X_test, y_train, y_test = train_test_split(X_CT, y_CT, test_size=0.3, random_state=0, stratify=y_CT)\n",
    "\n",
    "# Print out the size of the training and test data.\n",
    "print('Training data shape: ', X_train.shape)\n",
    "print('Training labels shape: ', y_train.shape)\n",
    "print('Test data shape: ', X_test.shape)\n",
    "print('Test labels shape: ', y_test.shape)"
   ]
  },
  {
   "cell_type": "code",
   "execution_count": null,
   "metadata": {
    "colab": {},
    "colab_type": "code",
    "id": "JGHd69_y1crr"
   },
   "outputs": [],
   "source": [
    "#Scale data before usage\n",
    "scaler = StandardScaler()\n",
    "scaler.fit(X_train)\n",
    "\n",
    "X_train = scaler.transform(X_train)\n",
    "X_test = scaler.transform(X_test)"
   ]
  },
  {
   "cell_type": "code",
   "execution_count": null,
   "metadata": {
    "colab": {
     "base_uri": "https://localhost:8080/",
     "height": 890
    },
    "colab_type": "code",
    "executionInfo": {
     "elapsed": 56935,
     "status": "ok",
     "timestamp": 1587927246740,
     "user": {
      "displayName": "Keino Hutchinson",
      "photoUrl": "https://lh3.googleusercontent.com/a-/AOh14GgoH1aJTdQbrbzSBoSeD37DeC0pjN2PQjCMAnQwfw=s64",
      "userId": "09021311108852341028"
     },
     "user_tz": 240
    },
    "id": "ifZxt5821fs_",
    "outputId": "82d7281d-f9c2-446d-e138-0a4cf92356fb"
   },
   "outputs": [
    {
     "name": "stdout",
     "output_type": "stream",
     "text": [
      "==============================\n",
      "RandomForestClassifier\n",
      "****Results****\n",
      "Accuracy: 80.7606%\n",
      "Log Loss: 0.5018710631332449\n",
      "==============================\n",
      "LogisticRegression\n",
      "****Results****\n",
      "Accuracy: 68.4743%\n",
      "Log Loss: 0.6185827649150609\n",
      "==============================\n",
      "KNeighborsClassifier\n",
      "****Results****\n",
      "Accuracy: 64.5365%\n",
      "Log Loss: 1.048046726520041\n",
      "==============================\n",
      "DecisionTreeClassifier\n",
      "****Results****\n",
      "Accuracy: 81.8182%\n",
      "Log Loss: 6.279777526347398\n",
      "==============================\n",
      "LinearDiscriminantAnalysis\n",
      "****Results****\n",
      "Accuracy: 67.6418%\n",
      "Log Loss: 0.6899106658542912\n"
     ]
    },
    {
     "name": "stderr",
     "output_type": "stream",
     "text": [
      "/usr/local/lib/python3.6/dist-packages/sklearn/neural_network/_multilayer_perceptron.py:470: ConvergenceWarning: lbfgs failed to converge (status=1):\n",
      "STOP: TOTAL NO. of ITERATIONS REACHED LIMIT.\n",
      "\n",
      "Increase the number of iterations (max_iter) or scale the data as shown in:\n",
      "    https://scikit-learn.org/stable/modules/preprocessing.html\n",
      "  self.n_iter_ = _check_optimize_result(\"lbfgs\", opt_res, self.max_iter)\n"
     ]
    },
    {
     "name": "stdout",
     "output_type": "stream",
     "text": [
      "==============================\n",
      "MLPClassifier\n",
      "****Results****\n",
      "Accuracy: 74.7750%\n",
      "Log Loss: 0.5915210292260189\n",
      "==============================\n",
      "AdaBoostClassifier\n",
      "****Results****\n",
      "Accuracy: 63.6139%\n",
      "Log Loss: 1.2576297389831097\n",
      "==============================\n",
      "GradientBoostingClassifier\n",
      "****Results****\n",
      "Accuracy: 85.1485%\n",
      "Log Loss: 0.43137573840444715\n",
      "==============================\n",
      "GaussianNB\n",
      "****Results****\n",
      "Accuracy: 20.5896%\n",
      "Log Loss: 25.04821437618101\n",
      "==============================\n"
     ]
    }
   ],
   "source": [
    "# Logging for Visual Comparison\n",
    "log_cols=[\"Classifier\", \"Accuracy\", \"Log Loss\"]\n",
    "log = pd.DataFrame(columns=log_cols)\n",
    "\n",
    "for clf in classifiers:\n",
    "    clf.fit(X_train, y_train)\n",
    "    name = clf.__class__.__name__\n",
    "    \n",
    "    print(\"=\"*30)\n",
    "    print(name)\n",
    "    \n",
    "    print('****Results****')\n",
    "    train_predictions = clf.predict(X_test)\n",
    "    acc = accuracy_score(y_test, train_predictions)\n",
    "    print(\"Accuracy: {:.4%}\".format(acc))\n",
    "    \n",
    "    train_predictions = clf.predict_proba(X_test)\n",
    "    ll = log_loss(y_test, train_predictions)\n",
    "    print(\"Log Loss: {}\".format(ll))\n",
    "    \n",
    "    log_entry = pd.DataFrame([[name, acc*100, ll]], columns=log_cols)\n",
    "    log = log.append(log_entry)\n",
    "    \n",
    "print(\"=\"*30)"
   ]
  },
  {
   "cell_type": "code",
   "execution_count": null,
   "metadata": {
    "colab": {
     "base_uri": "https://localhost:8080/",
     "height": 573
    },
    "colab_type": "code",
    "executionInfo": {
     "elapsed": 1025,
     "status": "ok",
     "timestamp": 1587927364201,
     "user": {
      "displayName": "Keino Hutchinson",
      "photoUrl": "https://lh3.googleusercontent.com/a-/AOh14GgoH1aJTdQbrbzSBoSeD37DeC0pjN2PQjCMAnQwfw=s64",
      "userId": "09021311108852341028"
     },
     "user_tz": 240
    },
    "id": "VX_5PmS01jgx",
    "outputId": "94270339-74a8-4484-e7ee-a2922d58f1f3"
   },
   "outputs": [
    {
     "data": {
      "image/png": "[encoded data removed]",
      "text/plain": [
       "<Figure size 432x288 with 1 Axes>"
      ]
     },
     "metadata": {
      "needs_background": "light",
      "tags": []
     },
     "output_type": "display_data"
    },
    {
     "data": {
      "image/png": "[encoded data removed]",
      "text/plain": [
       "<Figure size 432x288 with 1 Axes>"
      ]
     },
     "metadata": {
      "needs_background": "light",
      "tags": []
     },
     "output_type": "display_data"
    }
   ],
   "source": [
    "#Plot graph comparing accuracies and log loss\n",
    "sns.set_color_codes(\"muted\")\n",
    "g =sns.barplot(x='Accuracy', y='Classifier', data=log, color=\"b\")\n",
    "ax = g\n",
    "plt.xlim(0,100)\n",
    "plt.xlabel('Accuracy %')\n",
    "plt.title('Classifier Accuracy')\n",
    "for i in ax.patches:\n",
    "    ax.text(i.get_width()+0.02, i.get_y()+0.2, str(round(i.get_width(),2)),\\\n",
    "            va='center', fontsize=10)\n",
    "plt.show()\n",
    "\n",
    "sns.set_color_codes(\"muted\")\n",
    "sns.barplot(x='Log Loss', y='Classifier', data=log, color=\"g\")\n",
    "\n",
    "plt.xlabel('Log Loss')\n",
    "plt.title('Classifier Log Loss')\n",
    "plt.show()"
   ]
  },
  {
   "cell_type": "markdown",
   "metadata": {
    "colab_type": "text",
    "id": "MUtQRkV529De"
   },
   "source": [
    "Maryland"
   ]
  },
  {
   "cell_type": "code",
   "execution_count": null,
   "metadata": {
    "colab": {
     "base_uri": "https://localhost:8080/",
     "height": 84
    },
    "colab_type": "code",
    "executionInfo": {
     "elapsed": 543,
     "status": "ok",
     "timestamp": 1587927621474,
     "user": {
      "displayName": "Keino Hutchinson",
      "photoUrl": "https://lh3.googleusercontent.com/a-/AOh14GgoH1aJTdQbrbzSBoSeD37DeC0pjN2PQjCMAnQwfw=s64",
      "userId": "09021311108852341028"
     },
     "user_tz": 240
    },
    "id": "LQ5aDw8D3G33",
    "outputId": "c2ca81de-a28f-4fd2-b614-9667f3f38b01"
   },
   "outputs": [
    {
     "name": "stdout",
     "output_type": "stream",
     "text": [
      "Training data shape:  (20512, 40)\n",
      "Training labels shape:  (20512,)\n",
      "Test data shape:  (8792, 40)\n",
      "Test labels shape:  (8792,)\n"
     ]
    }
   ],
   "source": [
    "# Split the data set into training and testing data sets\n",
    "X_train, X_test, y_train, y_test = train_test_split(X_MD, y_MD, test_size=0.3, random_state=0, stratify=y_MD)\n",
    "\n",
    "# Print out the size of the training and test data.\n",
    "print('Training data shape: ', X_train.shape)\n",
    "print('Training labels shape: ', y_train.shape)\n",
    "print('Test data shape: ', X_test.shape)\n",
    "print('Test labels shape: ', y_test.shape)"
   ]
  },
  {
   "cell_type": "code",
   "execution_count": null,
   "metadata": {
    "colab": {},
    "colab_type": "code",
    "id": "1_buGDq83WZz"
   },
   "outputs": [],
   "source": [
    "#Scale data before usage\n",
    "scaler = StandardScaler()\n",
    "scaler.fit(X_train)\n",
    "\n",
    "X_train = scaler.transform(X_train)\n",
    "X_test = scaler.transform(X_test)"
   ]
  },
  {
   "cell_type": "code",
   "execution_count": null,
   "metadata": {
    "colab": {
     "base_uri": "https://localhost:8080/",
     "height": 890
    },
    "colab_type": "code",
    "executionInfo": {
     "elapsed": 120734,
     "status": "ok",
     "timestamp": 1587927798235,
     "user": {
      "displayName": "Keino Hutchinson",
      "photoUrl": "https://lh3.googleusercontent.com/a-/AOh14GgoH1aJTdQbrbzSBoSeD37DeC0pjN2PQjCMAnQwfw=s64",
      "userId": "09021311108852341028"
     },
     "user_tz": 240
    },
    "id": "7ouX99ax3S5M",
    "outputId": "de85af05-a699-4db2-8c43-e74c7a86164e"
   },
   "outputs": [
    {
     "name": "stdout",
     "output_type": "stream",
     "text": [
      "==============================\n",
      "RandomForestClassifier\n",
      "****Results****\n",
      "Accuracy: 82.7684%\n",
      "Log Loss: 0.46546930230462547\n",
      "==============================\n",
      "LogisticRegression\n",
      "****Results****\n",
      "Accuracy: 70.8599%\n",
      "Log Loss: 0.5785051909895351\n",
      "==============================\n",
      "KNeighborsClassifier\n",
      "****Results****\n",
      "Accuracy: 67.5728%\n",
      "Log Loss: 1.3191821490867817\n",
      "==============================\n",
      "DecisionTreeClassifier\n",
      "****Results****\n",
      "Accuracy: 80.6870%\n",
      "Log Loss: 6.666707215255295\n",
      "==============================\n",
      "LinearDiscriminantAnalysis\n",
      "****Results****\n",
      "Accuracy: 69.6542%\n",
      "Log Loss: 0.7500618393430285\n"
     ]
    },
    {
     "name": "stderr",
     "output_type": "stream",
     "text": [
      "/usr/local/lib/python3.6/dist-packages/sklearn/neural_network/_multilayer_perceptron.py:470: ConvergenceWarning: lbfgs failed to converge (status=1):\n",
      "STOP: TOTAL NO. of ITERATIONS REACHED LIMIT.\n",
      "\n",
      "Increase the number of iterations (max_iter) or scale the data as shown in:\n",
      "    https://scikit-learn.org/stable/modules/preprocessing.html\n",
      "  self.n_iter_ = _check_optimize_result(\"lbfgs\", opt_res, self.max_iter)\n"
     ]
    },
    {
     "name": "stdout",
     "output_type": "stream",
     "text": [
      "==============================\n",
      "MLPClassifier\n",
      "****Results****\n",
      "Accuracy: 77.4227%\n",
      "Log Loss: 0.5075271039805473\n",
      "==============================\n",
      "AdaBoostClassifier\n",
      "****Results****\n",
      "Accuracy: 61.7834%\n",
      "Log Loss: 1.072537039254474\n",
      "==============================\n",
      "GradientBoostingClassifier\n",
      "****Results****\n",
      "Accuracy: 81.8130%\n",
      "Log Loss: 0.46669858011013327\n",
      "==============================\n",
      "GaussianNB\n",
      "****Results****\n",
      "Accuracy: 5.0387%\n",
      "Log Loss: 32.362087851378945\n",
      "==============================\n"
     ]
    }
   ],
   "source": [
    "# Logging for Visual Comparison\n",
    "log_cols=[\"Classifier\", \"Accuracy\", \"Log Loss\"]\n",
    "log = pd.DataFrame(columns=log_cols)\n",
    "\n",
    "for clf in classifiers:\n",
    "    clf.fit(X_train, y_train)\n",
    "    name = clf.__class__.__name__\n",
    "    \n",
    "    print(\"=\"*30)\n",
    "    print(name)\n",
    "    \n",
    "    print('****Results****')\n",
    "    train_predictions = clf.predict(X_test)\n",
    "    acc = accuracy_score(y_test, train_predictions)\n",
    "    print(\"Accuracy: {:.4%}\".format(acc))\n",
    "    \n",
    "    train_predictions = clf.predict_proba(X_test)\n",
    "    ll = log_loss(y_test, train_predictions)\n",
    "    print(\"Log Loss: {}\".format(ll))\n",
    "    \n",
    "    log_entry = pd.DataFrame([[name, acc*100, ll]], columns=log_cols)\n",
    "    log = log.append(log_entry)\n",
    "    \n",
    "print(\"=\"*30)"
   ]
  },
  {
   "cell_type": "code",
   "execution_count": null,
   "metadata": {
    "colab": {
     "base_uri": "https://localhost:8080/",
     "height": 573
    },
    "colab_type": "code",
    "executionInfo": {
     "elapsed": 1017,
     "status": "ok",
     "timestamp": 1587927819478,
     "user": {
      "displayName": "Keino Hutchinson",
      "photoUrl": "https://lh3.googleusercontent.com/a-/AOh14GgoH1aJTdQbrbzSBoSeD37DeC0pjN2PQjCMAnQwfw=s64",
      "userId": "09021311108852341028"
     },
     "user_tz": 240
    },
    "id": "84gk4POB3PKk",
    "outputId": "0a83f1f6-1cb4-4af1-90dc-0280e1d4ad57"
   },
   "outputs": [
    {
     "data": {
      "image/png": "[encoded data removed]",
      "text/plain": [
       "<Figure size 432x288 with 1 Axes>"
      ]
     },
     "metadata": {
      "needs_background": "light",
      "tags": []
     },
     "output_type": "display_data"
    },
    {
     "data": {
      "image/png": "[encoded data removed]",
      "text/plain": [
       "<Figure size 432x288 with 1 Axes>"
      ]
     },
     "metadata": {
      "needs_background": "light",
      "tags": []
     },
     "output_type": "display_data"
    }
   ],
   "source": [
    "#Plot graph comparing accuracies and log loss\n",
    "sns.set_color_codes(\"muted\")\n",
    "g =sns.barplot(x='Accuracy', y='Classifier', data=log, color=\"b\")\n",
    "ax = g\n",
    "plt.xlim(0,100)\n",
    "plt.xlabel('Accuracy %')\n",
    "plt.title('Classifier Accuracy')\n",
    "for i in ax.patches:\n",
    "    ax.text(i.get_width()+0.02, i.get_y()+0.2, str(round(i.get_width(),2)),\\\n",
    "            va='center', fontsize=10)\n",
    "plt.show()\n",
    "\n",
    "sns.set_color_codes(\"muted\")\n",
    "sns.barplot(x='Log Loss', y='Classifier', data=log, color=\"g\")\n",
    "\n",
    "plt.xlabel('Log Loss')\n",
    "plt.title('Classifier Log Loss')\n",
    "plt.show()"
   ]
  }
 ],
 "metadata": {
  "colab": {
   "authorship_tag": "ABX9TyNZR3w5pTSjzRIeg2mvgb4V",
   "collapsed_sections": [],
   "machine_shape": "hm",
   "mount_file_id": "1Y16q4JqKdadogxnZjNFCLPIPU1TG18P7",
   "name": "Copy of 2_ Model_Comp.ipynb",
   "provenance": [
    {
     "file_id": "1Y16q4JqKdadogxnZjNFCLPIPU1TG18P7",
     "timestamp": 1587936756689
    },
    {
     "file_id": "1LW3RvlJOs3lm2UxxoarRzbUnJX4LalPw",
     "timestamp": 1587853996263
    },
    {
     "file_id": "1FyvUX66lef15n2amUU4KsH8RCKK1lNem",
     "timestamp": 1587675068515
    }
   ]
  },
  "kernelspec": {
   "display_name": "Python 3",
   "language": "python",
   "name": "python3"
  },
  "language_info": {
   "codemirror_mode": {
    "name": "ipython",
    "version": 3
   },
   "file_extension": ".py",
   "mimetype": "text/x-python",
   "name": "python",
   "nbconvert_exporter": "python",
   "pygments_lexer": "ipython3",
   "version": "3.7.6"
  }
 },
 "nbformat": 4,
 "nbformat_minor": 4
}
