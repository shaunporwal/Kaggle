{
 "cells": [
  {
   "cell_type": "markdown",
   "metadata": {},
   "source": [
    "- Explore + Process Data\n",
    "- Build + Train NN\n",
    "- Visualize Loss + Accuracy\n",
    "- Add Regularization to NN"
   ]
  },
  {
   "cell_type": "markdown",
   "metadata": {},
   "source": [
    "# Exploring and Processing Data"
   ]
  },
  {
   "cell_type": "markdown",
   "metadata": {},
   "source": [
    "First have to read in csv file"
   ]
  },
  {
   "cell_type": "code",
   "execution_count": 1,
   "metadata": {},
   "outputs": [
    {
     "name": "stderr",
     "output_type": "stream",
     "text": [
      "Using TensorFlow backend.\n"
     ]
    }
   ],
   "source": [
    "import pandas as pd\n",
    "import numpy as np\n",
    "import sys\n",
    "from keras.datasets import mnist\n",
    "from keras import models\n",
    "from keras import layers\n",
    "from keras.utils import to_categorical\n",
    "import numpy as np\n",
    "import pandas as pd"
   ]
  },
  {
   "cell_type": "code",
   "execution_count": 85,
   "metadata": {},
   "outputs": [
    {
     "data": {
      "text/html": [
       "<div>\n",
       "<style scoped>\n",
       "    .dataframe tbody tr th:only-of-type {\n",
       "        vertical-align: middle;\n",
       "    }\n",
       "\n",
       "    .dataframe tbody tr th {\n",
       "        vertical-align: top;\n",
       "    }\n",
       "\n",
       "    .dataframe thead th {\n",
       "        text-align: right;\n",
       "    }\n",
       "</style>\n",
       "<table border=\"1\" class=\"dataframe\">\n",
       "  <thead>\n",
       "    <tr style=\"text-align: right;\">\n",
       "      <th></th>\n",
       "      <th>Unnamed: 0</th>\n",
       "      <th>Severity</th>\n",
       "      <th>Start_Lng</th>\n",
       "      <th>Start_Lat</th>\n",
       "      <th>Distance(mi)</th>\n",
       "      <th>Temperature(F)</th>\n",
       "      <th>Wind_Chill(F)</th>\n",
       "      <th>Humidity(%)</th>\n",
       "      <th>Pressure(in)</th>\n",
       "      <th>Visibility(mi)</th>\n",
       "      <th>...</th>\n",
       "      <th>Crossing_True</th>\n",
       "      <th>Give_Way_True</th>\n",
       "      <th>Junction_True</th>\n",
       "      <th>No_Exit_True</th>\n",
       "      <th>Railway_True</th>\n",
       "      <th>Roundabout_True</th>\n",
       "      <th>Station_True</th>\n",
       "      <th>Stop_True</th>\n",
       "      <th>Traffic_Calming_True</th>\n",
       "      <th>Traffic_Signal_True</th>\n",
       "    </tr>\n",
       "  </thead>\n",
       "  <tbody>\n",
       "    <tr>\n",
       "      <th>0</th>\n",
       "      <td>0</td>\n",
       "      <td>3</td>\n",
       "      <td>-84.058723</td>\n",
       "      <td>39.865147</td>\n",
       "      <td>0.01</td>\n",
       "      <td>36.9</td>\n",
       "      <td>51.326849</td>\n",
       "      <td>91.0</td>\n",
       "      <td>29.68</td>\n",
       "      <td>10.0</td>\n",
       "      <td>...</td>\n",
       "      <td>0</td>\n",
       "      <td>0</td>\n",
       "      <td>0</td>\n",
       "      <td>0</td>\n",
       "      <td>0</td>\n",
       "      <td>0</td>\n",
       "      <td>0</td>\n",
       "      <td>0</td>\n",
       "      <td>0</td>\n",
       "      <td>0</td>\n",
       "    </tr>\n",
       "    <tr>\n",
       "      <th>1</th>\n",
       "      <td>1</td>\n",
       "      <td>2</td>\n",
       "      <td>-82.831184</td>\n",
       "      <td>39.928059</td>\n",
       "      <td>0.01</td>\n",
       "      <td>37.9</td>\n",
       "      <td>51.326849</td>\n",
       "      <td>100.0</td>\n",
       "      <td>29.65</td>\n",
       "      <td>10.0</td>\n",
       "      <td>...</td>\n",
       "      <td>0</td>\n",
       "      <td>0</td>\n",
       "      <td>0</td>\n",
       "      <td>0</td>\n",
       "      <td>0</td>\n",
       "      <td>0</td>\n",
       "      <td>0</td>\n",
       "      <td>0</td>\n",
       "      <td>0</td>\n",
       "      <td>0</td>\n",
       "    </tr>\n",
       "    <tr>\n",
       "      <th>2</th>\n",
       "      <td>2</td>\n",
       "      <td>2</td>\n",
       "      <td>-84.032608</td>\n",
       "      <td>39.063148</td>\n",
       "      <td>0.01</td>\n",
       "      <td>36.0</td>\n",
       "      <td>33.300000</td>\n",
       "      <td>100.0</td>\n",
       "      <td>29.67</td>\n",
       "      <td>10.0</td>\n",
       "      <td>...</td>\n",
       "      <td>0</td>\n",
       "      <td>0</td>\n",
       "      <td>0</td>\n",
       "      <td>0</td>\n",
       "      <td>0</td>\n",
       "      <td>0</td>\n",
       "      <td>0</td>\n",
       "      <td>0</td>\n",
       "      <td>0</td>\n",
       "      <td>1</td>\n",
       "    </tr>\n",
       "    <tr>\n",
       "      <th>3</th>\n",
       "      <td>3</td>\n",
       "      <td>3</td>\n",
       "      <td>-84.205582</td>\n",
       "      <td>39.747753</td>\n",
       "      <td>0.01</td>\n",
       "      <td>35.1</td>\n",
       "      <td>31.000000</td>\n",
       "      <td>96.0</td>\n",
       "      <td>29.64</td>\n",
       "      <td>9.0</td>\n",
       "      <td>...</td>\n",
       "      <td>0</td>\n",
       "      <td>0</td>\n",
       "      <td>0</td>\n",
       "      <td>0</td>\n",
       "      <td>0</td>\n",
       "      <td>0</td>\n",
       "      <td>0</td>\n",
       "      <td>0</td>\n",
       "      <td>0</td>\n",
       "      <td>0</td>\n",
       "    </tr>\n",
       "    <tr>\n",
       "      <th>4</th>\n",
       "      <td>4</td>\n",
       "      <td>2</td>\n",
       "      <td>-84.188354</td>\n",
       "      <td>39.627781</td>\n",
       "      <td>0.01</td>\n",
       "      <td>36.0</td>\n",
       "      <td>33.300000</td>\n",
       "      <td>89.0</td>\n",
       "      <td>29.65</td>\n",
       "      <td>6.0</td>\n",
       "      <td>...</td>\n",
       "      <td>0</td>\n",
       "      <td>0</td>\n",
       "      <td>0</td>\n",
       "      <td>0</td>\n",
       "      <td>0</td>\n",
       "      <td>0</td>\n",
       "      <td>0</td>\n",
       "      <td>0</td>\n",
       "      <td>0</td>\n",
       "      <td>1</td>\n",
       "    </tr>\n",
       "    <tr>\n",
       "      <th>...</th>\n",
       "      <td>...</td>\n",
       "      <td>...</td>\n",
       "      <td>...</td>\n",
       "      <td>...</td>\n",
       "      <td>...</td>\n",
       "      <td>...</td>\n",
       "      <td>...</td>\n",
       "      <td>...</td>\n",
       "      <td>...</td>\n",
       "      <td>...</td>\n",
       "      <td>...</td>\n",
       "      <td>...</td>\n",
       "      <td>...</td>\n",
       "      <td>...</td>\n",
       "      <td>...</td>\n",
       "      <td>...</td>\n",
       "      <td>...</td>\n",
       "      <td>...</td>\n",
       "      <td>...</td>\n",
       "      <td>...</td>\n",
       "      <td>...</td>\n",
       "    </tr>\n",
       "    <tr>\n",
       "      <th>2246259</th>\n",
       "      <td>2246259</td>\n",
       "      <td>3</td>\n",
       "      <td>-118.623932</td>\n",
       "      <td>34.495808</td>\n",
       "      <td>0.00</td>\n",
       "      <td>100.0</td>\n",
       "      <td>100.000000</td>\n",
       "      <td>18.0</td>\n",
       "      <td>28.85</td>\n",
       "      <td>10.0</td>\n",
       "      <td>...</td>\n",
       "      <td>0</td>\n",
       "      <td>0</td>\n",
       "      <td>0</td>\n",
       "      <td>0</td>\n",
       "      <td>0</td>\n",
       "      <td>0</td>\n",
       "      <td>0</td>\n",
       "      <td>0</td>\n",
       "      <td>0</td>\n",
       "      <td>0</td>\n",
       "    </tr>\n",
       "    <tr>\n",
       "      <th>2246260</th>\n",
       "      <td>2246260</td>\n",
       "      <td>3</td>\n",
       "      <td>-118.433723</td>\n",
       "      <td>34.031322</td>\n",
       "      <td>0.00</td>\n",
       "      <td>77.0</td>\n",
       "      <td>51.326849</td>\n",
       "      <td>64.0</td>\n",
       "      <td>29.69</td>\n",
       "      <td>10.0</td>\n",
       "      <td>...</td>\n",
       "      <td>0</td>\n",
       "      <td>0</td>\n",
       "      <td>0</td>\n",
       "      <td>0</td>\n",
       "      <td>0</td>\n",
       "      <td>0</td>\n",
       "      <td>0</td>\n",
       "      <td>0</td>\n",
       "      <td>0</td>\n",
       "      <td>0</td>\n",
       "    </tr>\n",
       "    <tr>\n",
       "      <th>2246261</th>\n",
       "      <td>2246261</td>\n",
       "      <td>3</td>\n",
       "      <td>-117.369102</td>\n",
       "      <td>34.106785</td>\n",
       "      <td>0.00</td>\n",
       "      <td>102.2</td>\n",
       "      <td>51.326849</td>\n",
       "      <td>16.0</td>\n",
       "      <td>29.73</td>\n",
       "      <td>6.0</td>\n",
       "      <td>...</td>\n",
       "      <td>0</td>\n",
       "      <td>0</td>\n",
       "      <td>0</td>\n",
       "      <td>0</td>\n",
       "      <td>0</td>\n",
       "      <td>0</td>\n",
       "      <td>0</td>\n",
       "      <td>0</td>\n",
       "      <td>0</td>\n",
       "      <td>0</td>\n",
       "    </tr>\n",
       "    <tr>\n",
       "      <th>2246262</th>\n",
       "      <td>2246262</td>\n",
       "      <td>3</td>\n",
       "      <td>-118.103981</td>\n",
       "      <td>33.924686</td>\n",
       "      <td>0.00</td>\n",
       "      <td>88.0</td>\n",
       "      <td>51.326849</td>\n",
       "      <td>39.0</td>\n",
       "      <td>29.68</td>\n",
       "      <td>10.0</td>\n",
       "      <td>...</td>\n",
       "      <td>0</td>\n",
       "      <td>0</td>\n",
       "      <td>0</td>\n",
       "      <td>0</td>\n",
       "      <td>0</td>\n",
       "      <td>0</td>\n",
       "      <td>0</td>\n",
       "      <td>0</td>\n",
       "      <td>0</td>\n",
       "      <td>0</td>\n",
       "    </tr>\n",
       "    <tr>\n",
       "      <th>2246263</th>\n",
       "      <td>2246263</td>\n",
       "      <td>2</td>\n",
       "      <td>-117.397354</td>\n",
       "      <td>33.729469</td>\n",
       "      <td>0.00</td>\n",
       "      <td>89.6</td>\n",
       "      <td>51.326849</td>\n",
       "      <td>40.0</td>\n",
       "      <td>29.78</td>\n",
       "      <td>10.0</td>\n",
       "      <td>...</td>\n",
       "      <td>0</td>\n",
       "      <td>0</td>\n",
       "      <td>0</td>\n",
       "      <td>0</td>\n",
       "      <td>0</td>\n",
       "      <td>0</td>\n",
       "      <td>0</td>\n",
       "      <td>0</td>\n",
       "      <td>0</td>\n",
       "      <td>0</td>\n",
       "    </tr>\n",
       "  </tbody>\n",
       "</table>\n",
       "<p>2246264 rows × 73 columns</p>\n",
       "</div>"
      ],
      "text/plain": [
       "         Unnamed: 0  Severity   Start_Lng  Start_Lat  Distance(mi)  \\\n",
       "0                 0         3  -84.058723  39.865147          0.01   \n",
       "1                 1         2  -82.831184  39.928059          0.01   \n",
       "2                 2         2  -84.032608  39.063148          0.01   \n",
       "3                 3         3  -84.205582  39.747753          0.01   \n",
       "4                 4         2  -84.188354  39.627781          0.01   \n",
       "...             ...       ...         ...        ...           ...   \n",
       "2246259     2246259         3 -118.623932  34.495808          0.00   \n",
       "2246260     2246260         3 -118.433723  34.031322          0.00   \n",
       "2246261     2246261         3 -117.369102  34.106785          0.00   \n",
       "2246262     2246262         3 -118.103981  33.924686          0.00   \n",
       "2246263     2246263         2 -117.397354  33.729469          0.00   \n",
       "\n",
       "         Temperature(F)  Wind_Chill(F)  Humidity(%)  Pressure(in)  \\\n",
       "0                  36.9      51.326849         91.0         29.68   \n",
       "1                  37.9      51.326849        100.0         29.65   \n",
       "2                  36.0      33.300000        100.0         29.67   \n",
       "3                  35.1      31.000000         96.0         29.64   \n",
       "4                  36.0      33.300000         89.0         29.65   \n",
       "...                 ...            ...          ...           ...   \n",
       "2246259           100.0     100.000000         18.0         28.85   \n",
       "2246260            77.0      51.326849         64.0         29.69   \n",
       "2246261           102.2      51.326849         16.0         29.73   \n",
       "2246262            88.0      51.326849         39.0         29.68   \n",
       "2246263            89.6      51.326849         40.0         29.78   \n",
       "\n",
       "         Visibility(mi)  ...  Crossing_True  Give_Way_True  Junction_True  \\\n",
       "0                  10.0  ...              0              0              0   \n",
       "1                  10.0  ...              0              0              0   \n",
       "2                  10.0  ...              0              0              0   \n",
       "3                   9.0  ...              0              0              0   \n",
       "4                   6.0  ...              0              0              0   \n",
       "...                 ...  ...            ...            ...            ...   \n",
       "2246259            10.0  ...              0              0              0   \n",
       "2246260            10.0  ...              0              0              0   \n",
       "2246261             6.0  ...              0              0              0   \n",
       "2246262            10.0  ...              0              0              0   \n",
       "2246263            10.0  ...              0              0              0   \n",
       "\n",
       "         No_Exit_True  Railway_True  Roundabout_True  Station_True  Stop_True  \\\n",
       "0                   0             0                0             0          0   \n",
       "1                   0             0                0             0          0   \n",
       "2                   0             0                0             0          0   \n",
       "3                   0             0                0             0          0   \n",
       "4                   0             0                0             0          0   \n",
       "...               ...           ...              ...           ...        ...   \n",
       "2246259             0             0                0             0          0   \n",
       "2246260             0             0                0             0          0   \n",
       "2246261             0             0                0             0          0   \n",
       "2246262             0             0                0             0          0   \n",
       "2246263             0             0                0             0          0   \n",
       "\n",
       "         Traffic_Calming_True  Traffic_Signal_True  \n",
       "0                           0                    0  \n",
       "1                           0                    0  \n",
       "2                           0                    1  \n",
       "3                           0                    0  \n",
       "4                           0                    1  \n",
       "...                       ...                  ...  \n",
       "2246259                     0                    0  \n",
       "2246260                     0                    0  \n",
       "2246261                     0                    0  \n",
       "2246262                     0                    0  \n",
       "2246263                     0                    0  \n",
       "\n",
       "[2246264 rows x 73 columns]"
      ]
     },
     "execution_count": 85,
     "metadata": {},
     "output_type": "execute_result"
    }
   ],
   "source": [
    "sys.executable\n",
    "db = pd.read_csv('./sinai_classes/BMI3002_ML_2020/MLProject/dummy_numerical_US_accidents_2019.zip')"
   ]
  },
  {
   "cell_type": "markdown",
   "metadata": {},
   "source": [
    "convert pd dataframe to array by accessing values: "
   ]
  },
  {
   "cell_type": "code",
   "execution_count": 1,
   "metadata": {},
   "outputs": [
    {
     "ename": "NameError",
     "evalue": "name 'db' is not defined",
     "output_type": "error",
     "traceback": [
      "\u001b[0;31m---------------------------------------------------------------------------\u001b[0m",
      "\u001b[0;31mNameError\u001b[0m                                 Traceback (most recent call last)",
      "\u001b[0;32m<ipython-input-1-bedd31abd684>\u001b[0m in \u001b[0;36m<module>\u001b[0;34m\u001b[0m\n\u001b[0;32m----> 1\u001b[0;31m \u001b[0mdb\u001b[0m \u001b[0;34m=\u001b[0m \u001b[0mdb\u001b[0m\u001b[0;34m.\u001b[0m\u001b[0mvalues\u001b[0m\u001b[0;34m\u001b[0m\u001b[0;34m\u001b[0m\u001b[0m\n\u001b[0m",
      "\u001b[0;31mNameError\u001b[0m: name 'db' is not defined"
     ]
    }
   ],
   "source": [
    "db = db.values"
   ]
  },
  {
   "cell_type": "markdown",
   "metadata": {},
   "source": [
    "Now, we split the dataset into our input features and the label we wish to predict."
   ]
  },
  {
   "cell_type": "code",
   "execution_count": null,
   "metadata": {},
   "outputs": [],
   "source": [
    "X = db[:,2:]\n",
    "Y = db[:,1]\n",
    "Y = Y.astype(int)"
   ]
  },
  {
   "cell_type": "markdown",
   "metadata": {},
   "source": [
    "Can normalize data to have input features on same order of magnitude, use min-max scaler from sklearn, which scales data from 0 to 1"
   ]
  },
  {
   "cell_type": "code",
   "execution_count": null,
   "metadata": {},
   "outputs": [],
   "source": [
    "from sklearn import preprocessing"
   ]
  },
  {
   "cell_type": "code",
   "execution_count": null,
   "metadata": {},
   "outputs": [],
   "source": [
    "min_max_scaler = preprocessing.MinMaxScaler()\n",
    "X_scale = min_max_scaler.fit_transform(X)"
   ]
  },
  {
   "cell_type": "markdown",
   "metadata": {},
   "source": [
    "Lastly, we wish to set aside some parts of our dataset for a validation set and a test set. We use the function train_test_split from scikit-learn to do that."
   ]
  },
  {
   "cell_type": "code",
   "execution_count": 176,
   "metadata": {},
   "outputs": [],
   "source": [
    "from sklearn.model_selection import train_test_split"
   ]
  },
  {
   "cell_type": "code",
   "execution_count": 177,
   "metadata": {},
   "outputs": [],
   "source": [
    "X_train, X_val_and_test, Y_train, Y_val_and_test = train_test_split(X_scale, Y, test_size=0.3)"
   ]
  },
  {
   "cell_type": "code",
   "execution_count": 178,
   "metadata": {},
   "outputs": [],
   "source": [
    "X_val, X_test, Y_val, Y_test = train_test_split(X_val_and_test, Y_val_and_test, test_size=0.5)"
   ]
  },
  {
   "cell_type": "code",
   "execution_count": 179,
   "metadata": {},
   "outputs": [
    {
     "name": "stdout",
     "output_type": "stream",
     "text": [
      "(1572384, 71) (336940, 71) (336940, 71) (1572384,) (336940,) (336940,)\n"
     ]
    }
   ],
   "source": [
    "print(X_train.shape, X_val.shape, X_test.shape, Y_train.shape, Y_val.shape, Y_test.shape)"
   ]
  },
  {
   "cell_type": "markdown",
   "metadata": {},
   "source": [
    "# Building First Neural Network"
   ]
  },
  {
   "cell_type": "markdown",
   "metadata": {},
   "source": [
    "We will be using Keras to build our architecture. Let's import the code from Keras that we will need to use:"
   ]
  },
  {
   "cell_type": "code",
   "execution_count": 180,
   "metadata": {},
   "outputs": [],
   "source": [
    "from keras.models import Sequential\n",
    "from keras.layers import Dense\n",
    "from sklearn.metrics import classification_report, roc_curve, auc, confusion_matrix, multilabel_confusion_matrix, accuracy_score, log_loss, f1_score"
   ]
  },
  {
   "cell_type": "markdown",
   "metadata": {},
   "source": [
    "- Hidden layer 1: 30 neurons, ReLU \n",
    "- Output layer  : 1  neuron , softmax "
   ]
  },
  {
   "cell_type": "code",
   "execution_count": null,
   "metadata": {},
   "outputs": [],
   "source": [
    "model = Sequential([\n",
    "    Dense(30, activation='relu'),\n",
    "    Dense(5, activation='softmax')\n",
    "])"
   ]
  },
  {
   "cell_type": "markdown",
   "metadata": {},
   "source": [
    "#### Find best numbers for specified architecture above. Configure the model: \n",
    "- Optimization Algorithm: ADAM (combination of RMSprop, SGDM)\n",
    "- Loss Function: Categorical Cross Entropy\n",
    "- Metrics to Track: Accuracy"
   ]
  },
  {
   "cell_type": "code",
   "execution_count": 129,
   "metadata": {},
   "outputs": [],
   "source": [
    "model.compile(optimizer='adam',\n",
    "              loss='categorical_crossentropy',\n",
    "              metrics=['accuracy']\n",
    "             )\n",
    "# categorical_crossentropy for Multi-class single-label classification"
   ]
  },
  {
   "cell_type": "markdown",
   "metadata": {},
   "source": [
    "Train data through function fit. For that we need a couple things: \n",
    "- data we are training on (X_train and Y_train) \n",
    "- mini-batch size\n",
    "- How long (how many epochs) to train NN for\n",
    "- what our validation data is so that the model will tell us how we are doing on the validation data at each point.\n",
    "\n",
    "Output is history, which will be used to plot different attributes of the trained model. "
   ]
  },
  {
   "cell_type": "code",
   "execution_count": 173,
   "metadata": {},
   "outputs": [],
   "source": [
    "Y_train = to_categorical(Y_train)\n",
    "Y_val = to_categorical(Y_val)"
   ]
  },
  {
   "cell_type": "code",
   "execution_count": 132,
   "metadata": {
    "collapsed": true,
    "jupyter": {
     "outputs_hidden": true
    }
   },
   "outputs": [
    {
     "name": "stdout",
     "output_type": "stream",
     "text": [
      "Train on 1572384 samples, validate on 336940 samples\n",
      "Epoch 1/50\n",
      "1572384/1572384 [==============================] - 3s 2us/step - loss: 1.3086 - accuracy: 0.4472 - val_loss: 1.1491 - val_accuracy: 0.5429\n",
      "Epoch 2/50\n",
      "1572384/1572384 [==============================] - 2s 1us/step - loss: 1.0417 - accuracy: 0.5922 - val_loss: 0.9319 - val_accuracy: 0.6322\n",
      "Epoch 3/50\n",
      "1572384/1572384 [==============================] - 2s 1us/step - loss: 0.8652 - accuracy: 0.6434 - val_loss: 0.7994 - val_accuracy: 0.6503\n",
      "Epoch 4/50\n",
      "1572384/1572384 [==============================] - 2s 1us/step - loss: 0.7596 - accuracy: 0.6537 - val_loss: 0.7201 - val_accuracy: 0.6575\n",
      "Epoch 5/50\n",
      "1572384/1572384 [==============================] - 2s 1us/step - loss: 0.6960 - accuracy: 0.6610 - val_loss: 0.6717 - val_accuracy: 0.6635\n",
      "Epoch 6/50\n",
      "1572384/1572384 [==============================] - 2s 1us/step - loss: 0.6560 - accuracy: 0.6667 - val_loss: 0.6399 - val_accuracy: 0.6704\n",
      "Epoch 7/50\n",
      "1572384/1572384 [==============================] - 2s 1us/step - loss: 0.6288 - accuracy: 0.6740 - val_loss: 0.6174 - val_accuracy: 0.6777\n",
      "Epoch 8/50\n",
      "1572384/1572384 [==============================] - 2s 1us/step - loss: 0.6091 - accuracy: 0.6807 - val_loss: 0.6004 - val_accuracy: 0.6834\n",
      "Epoch 9/50\n",
      "1572384/1572384 [==============================] - 2s 1us/step - loss: 0.5937 - accuracy: 0.6847 - val_loss: 0.5867 - val_accuracy: 0.6863\n",
      "Epoch 10/50\n",
      "1572384/1572384 [==============================] - 2s 1us/step - loss: 0.5812 - accuracy: 0.6866 - val_loss: 0.5756 - val_accuracy: 0.6874\n",
      "Epoch 11/50\n",
      "1572384/1572384 [==============================] - 2s 2us/step - loss: 0.5714 - accuracy: 0.6878 - val_loss: 0.5673 - val_accuracy: 0.6884\n",
      "Epoch 12/50\n",
      "1572384/1572384 [==============================] - 2s 1us/step - loss: 0.5642 - accuracy: 0.6884 - val_loss: 0.5613 - val_accuracy: 0.6892\n",
      "Epoch 13/50\n",
      "1572384/1572384 [==============================] - 2s 1us/step - loss: 0.5591 - accuracy: 0.6895 - val_loss: 0.5570 - val_accuracy: 0.6898\n",
      "Epoch 14/50\n",
      "1572384/1572384 [==============================] - 2s 1us/step - loss: 0.5554 - accuracy: 0.6903 - val_loss: 0.5538 - val_accuracy: 0.6911\n",
      "Epoch 15/50\n",
      "1572384/1572384 [==============================] - 2s 1us/step - loss: 0.5526 - accuracy: 0.6914 - val_loss: 0.5514 - val_accuracy: 0.6916\n",
      "Epoch 16/50\n",
      "1572384/1572384 [==============================] - 2s 2us/step - loss: 0.5505 - accuracy: 0.6922 - val_loss: 0.5496 - val_accuracy: 0.6928\n",
      "Epoch 17/50\n",
      "1572384/1572384 [==============================] - 2s 2us/step - loss: 0.5489 - accuracy: 0.6932 - val_loss: 0.5483 - val_accuracy: 0.6936\n",
      "Epoch 18/50\n",
      "1572384/1572384 [==============================] - 2s 2us/step - loss: 0.5477 - accuracy: 0.6939 - val_loss: 0.5472 - val_accuracy: 0.6942\n",
      "Epoch 19/50\n",
      "1572384/1572384 [==============================] - 2s 2us/step - loss: 0.5468 - accuracy: 0.6947 - val_loss: 0.5464 - val_accuracy: 0.6951\n",
      "Epoch 20/50\n",
      "1572384/1572384 [==============================] - 2s 2us/step - loss: 0.5460 - accuracy: 0.6954 - val_loss: 0.5457 - val_accuracy: 0.6952\n",
      "Epoch 21/50\n",
      "1572384/1572384 [==============================] - 3s 2us/step - loss: 0.5454 - accuracy: 0.6961 - val_loss: 0.5451 - val_accuracy: 0.6961\n",
      "Epoch 22/50\n",
      "1572384/1572384 [==============================] - 2s 2us/step - loss: 0.5448 - accuracy: 0.6965 - val_loss: 0.5445 - val_accuracy: 0.6967\n",
      "Epoch 23/50\n",
      "1572384/1572384 [==============================] - 2s 2us/step - loss: 0.5443 - accuracy: 0.6972 - val_loss: 0.5440 - val_accuracy: 0.6971\n",
      "Epoch 24/50\n",
      "1572384/1572384 [==============================] - 2s 2us/step - loss: 0.5438 - accuracy: 0.6975 - val_loss: 0.5435 - val_accuracy: 0.6978\n",
      "Epoch 25/50\n",
      "1572384/1572384 [==============================] - 3s 2us/step - loss: 0.5433 - accuracy: 0.6978 - val_loss: 0.5431 - val_accuracy: 0.6981\n",
      "Epoch 26/50\n",
      "1572384/1572384 [==============================] - 3s 2us/step - loss: 0.5429 - accuracy: 0.6980 - val_loss: 0.5427 - val_accuracy: 0.6985\n",
      "Epoch 27/50\n",
      "1572384/1572384 [==============================] - 2s 2us/step - loss: 0.5425 - accuracy: 0.6984 - val_loss: 0.5424 - val_accuracy: 0.6988\n",
      "Epoch 28/50\n",
      "1572384/1572384 [==============================] - 2s 2us/step - loss: 0.5422 - accuracy: 0.6986 - val_loss: 0.5420 - val_accuracy: 0.6989\n",
      "Epoch 29/50\n",
      "1572384/1572384 [==============================] - 2s 2us/step - loss: 0.5419 - accuracy: 0.6988 - val_loss: 0.5417 - val_accuracy: 0.6993\n",
      "Epoch 30/50\n",
      "1572384/1572384 [==============================] - 2s 2us/step - loss: 0.5416 - accuracy: 0.6990 - val_loss: 0.5415 - val_accuracy: 0.6997\n",
      "Epoch 31/50\n",
      "1572384/1572384 [==============================] - 3s 2us/step - loss: 0.5413 - accuracy: 0.6991 - val_loss: 0.5412 - val_accuracy: 0.6997\n",
      "Epoch 32/50\n",
      "1572384/1572384 [==============================] - 2s 2us/step - loss: 0.5410 - accuracy: 0.6995 - val_loss: 0.5410 - val_accuracy: 0.7001\n",
      "Epoch 33/50\n",
      "1572384/1572384 [==============================] - 2s 1us/step - loss: 0.5408 - accuracy: 0.6996 - val_loss: 0.5407 - val_accuracy: 0.7000\n",
      "Epoch 34/50\n",
      "1572384/1572384 [==============================] - 2s 2us/step - loss: 0.5406 - accuracy: 0.6998 - val_loss: 0.5405 - val_accuracy: 0.7000\n",
      "Epoch 35/50\n",
      "1572384/1572384 [==============================] - 2s 2us/step - loss: 0.5404 - accuracy: 0.7000 - val_loss: 0.5403 - val_accuracy: 0.7002\n",
      "Epoch 36/50\n",
      "1572384/1572384 [==============================] - 2s 2us/step - loss: 0.5402 - accuracy: 0.7002 - val_loss: 0.5401 - val_accuracy: 0.7005\n",
      "Epoch 37/50\n",
      "1572384/1572384 [==============================] - 2s 2us/step - loss: 0.5400 - accuracy: 0.7004 - val_loss: 0.5399 - val_accuracy: 0.7004\n",
      "Epoch 38/50\n",
      "1572384/1572384 [==============================] - 2s 2us/step - loss: 0.5398 - accuracy: 0.7004 - val_loss: 0.5398 - val_accuracy: 0.7004\n",
      "Epoch 39/50\n",
      "1572384/1572384 [==============================] - 2s 2us/step - loss: 0.5396 - accuracy: 0.7006 - val_loss: 0.5396 - val_accuracy: 0.7005\n",
      "Epoch 40/50\n",
      "1572384/1572384 [==============================] - 2s 2us/step - loss: 0.5395 - accuracy: 0.7007 - val_loss: 0.5394 - val_accuracy: 0.7005\n",
      "Epoch 41/50\n",
      "1572384/1572384 [==============================] - 2s 2us/step - loss: 0.5393 - accuracy: 0.7008 - val_loss: 0.5393 - val_accuracy: 0.7005\n",
      "Epoch 42/50\n",
      "1572384/1572384 [==============================] - 2s 2us/step - loss: 0.5392 - accuracy: 0.7009 - val_loss: 0.5391 - val_accuracy: 0.7009\n",
      "Epoch 43/50\n",
      "1572384/1572384 [==============================] - 3s 2us/step - loss: 0.5390 - accuracy: 0.7010 - val_loss: 0.5390 - val_accuracy: 0.7009\n",
      "Epoch 44/50\n",
      "1572384/1572384 [==============================] - 3s 2us/step - loss: 0.5389 - accuracy: 0.7011 - val_loss: 0.5389 - val_accuracy: 0.7007\n",
      "Epoch 45/50\n",
      "1572384/1572384 [==============================] - 2s 2us/step - loss: 0.5387 - accuracy: 0.7011 - val_loss: 0.5387 - val_accuracy: 0.7012\n",
      "Epoch 46/50\n",
      "1572384/1572384 [==============================] - 2s 1us/step - loss: 0.5386 - accuracy: 0.7013 - val_loss: 0.5386 - val_accuracy: 0.7010\n",
      "Epoch 47/50\n",
      "1572384/1572384 [==============================] - 2s 2us/step - loss: 0.5385 - accuracy: 0.7013 - val_loss: 0.5384 - val_accuracy: 0.7011\n",
      "Epoch 48/50\n",
      "1572384/1572384 [==============================] - 2s 2us/step - loss: 0.5383 - accuracy: 0.7014 - val_loss: 0.5383 - val_accuracy: 0.7011\n",
      "Epoch 49/50\n",
      "1572384/1572384 [==============================] - 2s 2us/step - loss: 0.5382 - accuracy: 0.7015 - val_loss: 0.5382 - val_accuracy: 0.7012\n",
      "Epoch 50/50\n",
      "1572384/1572384 [==============================] - 2s 2us/step - loss: 0.5380 - accuracy: 0.7016 - val_loss: 0.5380 - val_accuracy: 0.7014\n"
     ]
    }
   ],
   "source": [
    "hist = model.fit(X_train, Y_train,\n",
    "          batch_size=100000, epochs=50,\n",
    "          validation_data=(X_val, Y_val))"
   ]
  },
  {
   "cell_type": "markdown",
   "metadata": {},
   "source": [
    "Evaluating our data on the test set:"
   ]
  },
  {
   "cell_type": "code",
   "execution_count": 184,
   "metadata": {},
   "outputs": [
    {
     "name": "stdout",
     "output_type": "stream",
     "text": [
      "336940/336940 [==============================] - 6s 18us/step\n"
     ]
    },
    {
     "data": {
      "text/plain": [
       "array([[0., 0., 0., 1., 0.],\n",
       "       [0., 0., 0., 1., 0.],\n",
       "       [0., 0., 0., 1., 0.],\n",
       "       ...,\n",
       "       [0., 0., 1., 0., 0.],\n",
       "       [0., 0., 0., 1., 0.],\n",
       "       [0., 0., 0., 1., 0.]], dtype=float32)"
      ]
     },
     "execution_count": 184,
     "metadata": {},
     "output_type": "execute_result"
    }
   ],
   "source": [
    "model.evaluate(X_test, Y_test)\n",
    "X_test\n",
    "Y_test"
   ]
  },
  {
   "cell_type": "code",
   "execution_count": 181,
   "metadata": {},
   "outputs": [
    {
     "name": "stdout",
     "output_type": "stream",
     "text": [
      "              precision    recall  f1-score   support\n",
      "\n",
      "           1       0.00      0.00      0.00       139\n",
      "           2       0.75      0.83      0.78    220505\n",
      "           3       0.58      0.47      0.52    115551\n",
      "           4       0.00      0.00      0.00       745\n",
      "\n",
      "    accuracy                           0.70    336940\n",
      "   macro avg       0.33      0.32      0.33    336940\n",
      "weighted avg       0.69      0.70      0.69    336940\n",
      "\n"
     ]
    },
    {
     "data": {
      "image/png": "[encoded data removed]",
      "text/plain": [
       "<Figure size 432x288 with 2 Axes>"
      ]
     },
     "metadata": {
      "needs_background": "light"
     },
     "output_type": "display_data"
    }
   ],
   "source": [
    "import seaborn as sns\n",
    "Y_test_arr = np.array(Y_test)\n",
    "Y_test = to_categorical(Y_test)\n",
    "Y_pred = model.predict_classes(X_test)\n",
    "print(classification_report(Y_test_arr,Y_pred))\n",
    "plt.title('Confusion Matrix for Low Pop Density')\n",
    "sns.heatmap(confusion_matrix(Y_test_arr, Y_pred), annot=True)\n",
    "plt.xlabel('Predicted')\n",
    "plt.ylabel('True')\n",
    "plt.show()"
   ]
  },
  {
   "cell_type": "markdown",
   "metadata": {},
   "source": [
    "# Visualizing Loss and Accuracy"
   ]
  },
  {
   "cell_type": "markdown",
   "metadata": {},
   "source": [
    "Import the relevant package we need to do the visualization"
   ]
  },
  {
   "cell_type": "code",
   "execution_count": 136,
   "metadata": {},
   "outputs": [],
   "source": [
    "import matplotlib.pyplot as plt"
   ]
  },
  {
   "cell_type": "markdown",
   "metadata": {},
   "source": [
    "We want to visualize the training loss and the validation loss like this:"
   ]
  },
  {
   "cell_type": "code",
   "execution_count": 137,
   "metadata": {},
   "outputs": [
    {
     "data": {
      "image/png": "[encoded data removed]",
      "text/plain": [
       "<Figure size 432x288 with 1 Axes>"
      ]
     },
     "metadata": {
      "needs_background": "light"
     },
     "output_type": "display_data"
    }
   ],
   "source": [
    "plt.plot(hist.history['loss'])\n",
    "plt.plot(hist.history['val_loss'])\n",
    "plt.title('Model loss')\n",
    "plt.ylabel('Loss')\n",
    "plt.xlabel('Epoch')\n",
    "plt.legend(['Train', 'Val'], loc='upper right')\n",
    "plt.show()"
   ]
  },
  {
   "cell_type": "markdown",
   "metadata": {},
   "source": [
    "We can also visualize the training accuracy and the validation accuracy like this:"
   ]
  },
  {
   "cell_type": "code",
   "execution_count": 138,
   "metadata": {},
   "outputs": [
    {
     "data": {
      "image/png": "[encoded data removed]",
      "text/plain": [
       "<Figure size 432x288 with 1 Axes>"
      ]
     },
     "metadata": {
      "needs_background": "light"
     },
     "output_type": "display_data"
    }
   ],
   "source": [
    "plt.plot(hist.history['accuracy'])\n",
    "plt.plot(hist.history['val_accuracy'])\n",
    "plt.title('Model accuracy')\n",
    "plt.ylabel('Accuracy')\n",
    "plt.xlabel('Epoch')\n",
    "plt.legend(['Train', 'Val'], loc='lower right')\n",
    "plt.show()"
   ]
  },
  {
   "cell_type": "markdown",
   "metadata": {},
   "source": [
    "# Adding Regularization to our Neural Network"
   ]
  },
  {
   "cell_type": "markdown",
   "metadata": {},
   "source": [
    "We'll train a model which will overfit, which we call Model 2. This might take a few minutes."
   ]
  },
  {
   "cell_type": "code",
   "execution_count": 139,
   "metadata": {
    "collapsed": true,
    "jupyter": {
     "outputs_hidden": true
    }
   },
   "outputs": [
    {
     "name": "stdout",
     "output_type": "stream",
     "text": [
      "Train on 1572384 samples, validate on 336940 samples\n",
      "Epoch 1/100\n",
      "1572384/1572384 [==============================] - 5s 3us/step - loss: 1.0702 - accuracy: 0.6327 - val_loss: 0.7168 - val_accuracy: 0.6532\n",
      "Epoch 2/100\n",
      "1572384/1572384 [==============================] - 4s 3us/step - loss: 0.6490 - accuracy: 0.6545 - val_loss: 0.6107 - val_accuracy: 0.6540\n",
      "Epoch 3/100\n",
      "1572384/1572384 [==============================] - 4s 3us/step - loss: 0.5874 - accuracy: 0.6620 - val_loss: 0.5651 - val_accuracy: 0.6735\n",
      "Epoch 4/100\n",
      "1572384/1572384 [==============================] - 5s 3us/step - loss: 0.5591 - accuracy: 0.6797 - val_loss: 0.5530 - val_accuracy: 0.6851\n",
      "Epoch 5/100\n",
      "1572384/1572384 [==============================] - 5s 3us/step - loss: 0.5507 - accuracy: 0.6878 - val_loss: 0.5481 - val_accuracy: 0.6896\n",
      "Epoch 6/100\n",
      "1572384/1572384 [==============================] - 5s 3us/step - loss: 0.5469 - accuracy: 0.6911 - val_loss: 0.5455 - val_accuracy: 0.6922\n",
      "Epoch 7/100\n",
      "1572384/1572384 [==============================] - 5s 3us/step - loss: 0.5446 - accuracy: 0.6940 - val_loss: 0.5437 - val_accuracy: 0.6943\n",
      "Epoch 8/100\n",
      "1572384/1572384 [==============================] - 5s 3us/step - loss: 0.5430 - accuracy: 0.6960 - val_loss: 0.5422 - val_accuracy: 0.6962\n",
      "Epoch 9/100\n",
      "1572384/1572384 [==============================] - 5s 3us/step - loss: 0.5416 - accuracy: 0.6975 - val_loss: 0.5410 - val_accuracy: 0.6974\n",
      "Epoch 10/100\n",
      "1572384/1572384 [==============================] - 5s 3us/step - loss: 0.5404 - accuracy: 0.6990 - val_loss: 0.5400 - val_accuracy: 0.6985\n",
      "Epoch 11/100\n",
      "1572384/1572384 [==============================] - 5s 3us/step - loss: 0.5395 - accuracy: 0.7003 - val_loss: 0.5392 - val_accuracy: 0.7005\n",
      "Epoch 12/100\n",
      "1572384/1572384 [==============================] - 5s 3us/step - loss: 0.5386 - accuracy: 0.7013 - val_loss: 0.5382 - val_accuracy: 0.7010\n",
      "Epoch 13/100\n",
      "1572384/1572384 [==============================] - 5s 3us/step - loss: 0.5379 - accuracy: 0.7023 - val_loss: 0.5376 - val_accuracy: 0.7015\n",
      "Epoch 14/100\n",
      "1572384/1572384 [==============================] - 5s 3us/step - loss: 0.5372 - accuracy: 0.7030 - val_loss: 0.5370 - val_accuracy: 0.7026\n",
      "Epoch 15/100\n",
      "1572384/1572384 [==============================] - 5s 3us/step - loss: 0.5365 - accuracy: 0.7037 - val_loss: 0.5365 - val_accuracy: 0.7031\n",
      "Epoch 16/100\n",
      "1572384/1572384 [==============================] - 5s 3us/step - loss: 0.5360 - accuracy: 0.7041 - val_loss: 0.5359 - val_accuracy: 0.7037\n",
      "Epoch 17/100\n",
      "1572384/1572384 [==============================] - 5s 3us/step - loss: 0.5354 - accuracy: 0.7047 - val_loss: 0.5355 - val_accuracy: 0.7032\n",
      "Epoch 18/100\n",
      "1572384/1572384 [==============================] - 5s 3us/step - loss: 0.5349 - accuracy: 0.7054 - val_loss: 0.5349 - val_accuracy: 0.7045\n",
      "Epoch 19/100\n",
      "1572384/1572384 [==============================] - 5s 3us/step - loss: 0.5344 - accuracy: 0.7057 - val_loss: 0.5344 - val_accuracy: 0.7044\n",
      "Epoch 20/100\n",
      "1572384/1572384 [==============================] - 5s 3us/step - loss: 0.5339 - accuracy: 0.7060 - val_loss: 0.5340 - val_accuracy: 0.7046\n",
      "Epoch 21/100\n",
      "1572384/1572384 [==============================] - 5s 3us/step - loss: 0.5335 - accuracy: 0.7063 - val_loss: 0.5335 - val_accuracy: 0.7054\n",
      "Epoch 22/100\n",
      "1572384/1572384 [==============================] - 5s 3us/step - loss: 0.5330 - accuracy: 0.7067 - val_loss: 0.5333 - val_accuracy: 0.7049\n",
      "Epoch 23/100\n",
      "1572384/1572384 [==============================] - 5s 3us/step - loss: 0.5327 - accuracy: 0.7065 - val_loss: 0.5333 - val_accuracy: 0.7045\n",
      "Epoch 24/100\n",
      "1572384/1572384 [==============================] - 5s 3us/step - loss: 0.5323 - accuracy: 0.7069 - val_loss: 0.5330 - val_accuracy: 0.7043\n",
      "Epoch 25/100\n",
      "1572384/1572384 [==============================] - 5s 3us/step - loss: 0.5320 - accuracy: 0.7074 - val_loss: 0.5321 - val_accuracy: 0.7066\n",
      "Epoch 26/100\n",
      "1572384/1572384 [==============================] - 5s 3us/step - loss: 0.5313 - accuracy: 0.7082 - val_loss: 0.5318 - val_accuracy: 0.7067\n",
      "Epoch 27/100\n",
      "1572384/1572384 [==============================] - 5s 3us/step - loss: 0.5309 - accuracy: 0.7085 - val_loss: 0.5315 - val_accuracy: 0.7070\n",
      "Epoch 28/100\n",
      "1572384/1572384 [==============================] - 5s 3us/step - loss: 0.5305 - accuracy: 0.7089 - val_loss: 0.5311 - val_accuracy: 0.7068\n",
      "Epoch 29/100\n",
      "1572384/1572384 [==============================] - 5s 3us/step - loss: 0.5302 - accuracy: 0.7092 - val_loss: 0.5305 - val_accuracy: 0.7075\n",
      "Epoch 30/100\n",
      "1572384/1572384 [==============================] - 5s 3us/step - loss: 0.5297 - accuracy: 0.7100 - val_loss: 0.5304 - val_accuracy: 0.7076\n",
      "Epoch 31/100\n",
      "1572384/1572384 [==============================] - 5s 3us/step - loss: 0.5294 - accuracy: 0.7101 - val_loss: 0.5299 - val_accuracy: 0.7082\n",
      "Epoch 32/100\n",
      "1572384/1572384 [==============================] - 5s 3us/step - loss: 0.5292 - accuracy: 0.7103 - val_loss: 0.5306 - val_accuracy: 0.7078\n",
      "Epoch 33/100\n",
      "1572384/1572384 [==============================] - 5s 3us/step - loss: 0.5289 - accuracy: 0.7105 - val_loss: 0.5292 - val_accuracy: 0.7095\n",
      "Epoch 34/100\n",
      "1572384/1572384 [==============================] - 5s 3us/step - loss: 0.5283 - accuracy: 0.7116 - val_loss: 0.5291 - val_accuracy: 0.7093\n",
      "Epoch 35/100\n",
      "1572384/1572384 [==============================] - 5s 3us/step - loss: 0.5277 - accuracy: 0.7124 - val_loss: 0.5284 - val_accuracy: 0.7108\n",
      "Epoch 36/100\n",
      "1572384/1572384 [==============================] - 5s 3us/step - loss: 0.5273 - accuracy: 0.7128 - val_loss: 0.5280 - val_accuracy: 0.7109\n",
      "Epoch 37/100\n",
      "1572384/1572384 [==============================] - 5s 3us/step - loss: 0.5267 - accuracy: 0.7137 - val_loss: 0.5274 - val_accuracy: 0.7120\n",
      "Epoch 38/100\n",
      "1572384/1572384 [==============================] - 5s 3us/step - loss: 0.5263 - accuracy: 0.7144 - val_loss: 0.5271 - val_accuracy: 0.7122\n",
      "Epoch 39/100\n",
      "1572384/1572384 [==============================] - 5s 3us/step - loss: 0.5259 - accuracy: 0.7149 - val_loss: 0.5268 - val_accuracy: 0.7130\n",
      "Epoch 40/100\n",
      "1572384/1572384 [==============================] - 5s 3us/step - loss: 0.5257 - accuracy: 0.7150 - val_loss: 0.5264 - val_accuracy: 0.7134\n",
      "Epoch 41/100\n",
      "1572384/1572384 [==============================] - 5s 3us/step - loss: 0.5252 - accuracy: 0.7156 - val_loss: 0.5260 - val_accuracy: 0.7137\n",
      "Epoch 42/100\n",
      "1572384/1572384 [==============================] - 5s 3us/step - loss: 0.5249 - accuracy: 0.7159 - val_loss: 0.5260 - val_accuracy: 0.7138\n",
      "Epoch 43/100\n",
      "1572384/1572384 [==============================] - 5s 3us/step - loss: 0.5246 - accuracy: 0.7163 - val_loss: 0.5256 - val_accuracy: 0.7141\n",
      "Epoch 44/100\n",
      "1572384/1572384 [==============================] - 5s 3us/step - loss: 0.5243 - accuracy: 0.7167 - val_loss: 0.5256 - val_accuracy: 0.7140\n",
      "Epoch 45/100\n",
      "1572384/1572384 [==============================] - 5s 3us/step - loss: 0.5240 - accuracy: 0.7166 - val_loss: 0.5252 - val_accuracy: 0.7152\n",
      "Epoch 46/100\n",
      "1572384/1572384 [==============================] - 5s 3us/step - loss: 0.5237 - accuracy: 0.7173 - val_loss: 0.5254 - val_accuracy: 0.7140\n",
      "Epoch 47/100\n",
      "1572384/1572384 [==============================] - 5s 3us/step - loss: 0.5236 - accuracy: 0.7169 - val_loss: 0.5245 - val_accuracy: 0.7155\n",
      "Epoch 48/100\n",
      "1572384/1572384 [==============================] - 5s 3us/step - loss: 0.5232 - accuracy: 0.7176 - val_loss: 0.5243 - val_accuracy: 0.7158\n",
      "Epoch 49/100\n",
      "1572384/1572384 [==============================] - 5s 3us/step - loss: 0.5228 - accuracy: 0.7181 - val_loss: 0.5245 - val_accuracy: 0.7155\n",
      "Epoch 50/100\n",
      "1572384/1572384 [==============================] - 5s 3us/step - loss: 0.5226 - accuracy: 0.7181 - val_loss: 0.5240 - val_accuracy: 0.7166\n",
      "Epoch 51/100\n",
      "1572384/1572384 [==============================] - 5s 3us/step - loss: 0.5224 - accuracy: 0.7184 - val_loss: 0.5237 - val_accuracy: 0.7168\n",
      "Epoch 52/100\n",
      "1572384/1572384 [==============================] - 5s 3us/step - loss: 0.5224 - accuracy: 0.7181 - val_loss: 0.5253 - val_accuracy: 0.7134\n",
      "Epoch 53/100\n",
      "1572384/1572384 [==============================] - 5s 3us/step - loss: 0.5224 - accuracy: 0.7179 - val_loss: 0.5241 - val_accuracy: 0.7158\n",
      "Epoch 54/100\n",
      "1572384/1572384 [==============================] - 5s 3us/step - loss: 0.5220 - accuracy: 0.7185 - val_loss: 0.5229 - val_accuracy: 0.7174\n",
      "Epoch 55/100\n",
      "1572384/1572384 [==============================] - 5s 3us/step - loss: 0.5212 - accuracy: 0.7195 - val_loss: 0.5227 - val_accuracy: 0.7177\n",
      "Epoch 56/100\n",
      "1572384/1572384 [==============================] - 5s 3us/step - loss: 0.5211 - accuracy: 0.7195 - val_loss: 0.5227 - val_accuracy: 0.7167\n",
      "Epoch 57/100\n",
      "1572384/1572384 [==============================] - 5s 3us/step - loss: 0.5207 - accuracy: 0.7199 - val_loss: 0.5222 - val_accuracy: 0.7182\n",
      "Epoch 58/100\n",
      "1572384/1572384 [==============================] - 5s 3us/step - loss: 0.5207 - accuracy: 0.7201 - val_loss: 0.5227 - val_accuracy: 0.7174\n",
      "Epoch 59/100\n",
      "1572384/1572384 [==============================] - 5s 3us/step - loss: 0.5206 - accuracy: 0.7200 - val_loss: 0.5216 - val_accuracy: 0.7194\n",
      "Epoch 60/100\n",
      "1572384/1572384 [==============================] - 5s 3us/step - loss: 0.5200 - accuracy: 0.7209 - val_loss: 0.5213 - val_accuracy: 0.7197\n",
      "Epoch 61/100\n",
      "1572384/1572384 [==============================] - 5s 3us/step - loss: 0.5194 - accuracy: 0.7216 - val_loss: 0.5209 - val_accuracy: 0.7198\n",
      "Epoch 62/100\n",
      "1572384/1572384 [==============================] - 5s 3us/step - loss: 0.5191 - accuracy: 0.7219 - val_loss: 0.5208 - val_accuracy: 0.7196\n",
      "Epoch 63/100\n",
      "1572384/1572384 [==============================] - 5s 3us/step - loss: 0.5196 - accuracy: 0.7211 - val_loss: 0.5207 - val_accuracy: 0.7199\n",
      "Epoch 64/100\n",
      "1572384/1572384 [==============================] - 5s 3us/step - loss: 0.5187 - accuracy: 0.7220 - val_loss: 0.5208 - val_accuracy: 0.7202\n",
      "Epoch 65/100\n",
      "1572384/1572384 [==============================] - 5s 3us/step - loss: 0.5189 - accuracy: 0.7220 - val_loss: 0.5201 - val_accuracy: 0.7207\n",
      "Epoch 66/100\n",
      "1572384/1572384 [==============================] - 5s 3us/step - loss: 0.5190 - accuracy: 0.7217 - val_loss: 0.5215 - val_accuracy: 0.7188\n",
      "Epoch 67/100\n",
      "1572384/1572384 [==============================] - 5s 3us/step - loss: 0.5183 - accuracy: 0.7224 - val_loss: 0.5196 - val_accuracy: 0.7213\n",
      "Epoch 68/100\n",
      "1572384/1572384 [==============================] - 5s 3us/step - loss: 0.5181 - accuracy: 0.7225 - val_loss: 0.5201 - val_accuracy: 0.7200\n",
      "Epoch 69/100\n",
      "1572384/1572384 [==============================] - 5s 3us/step - loss: 0.5176 - accuracy: 0.7234 - val_loss: 0.5194 - val_accuracy: 0.7210\n",
      "Epoch 70/100\n",
      "1572384/1572384 [==============================] - 5s 3us/step - loss: 0.5173 - accuracy: 0.7236 - val_loss: 0.5191 - val_accuracy: 0.7215\n",
      "Epoch 71/100\n",
      "1572384/1572384 [==============================] - 5s 3us/step - loss: 0.5176 - accuracy: 0.7228 - val_loss: 0.5191 - val_accuracy: 0.7215\n",
      "Epoch 72/100\n",
      "1572384/1572384 [==============================] - 5s 3us/step - loss: 0.5173 - accuracy: 0.7231 - val_loss: 0.5192 - val_accuracy: 0.7211\n",
      "Epoch 73/100\n",
      "1572384/1572384 [==============================] - 5s 3us/step - loss: 0.5167 - accuracy: 0.7240 - val_loss: 0.5184 - val_accuracy: 0.7224\n",
      "Epoch 74/100\n",
      "1572384/1572384 [==============================] - 5s 3us/step - loss: 0.5163 - accuracy: 0.7243 - val_loss: 0.5183 - val_accuracy: 0.7220\n",
      "Epoch 75/100\n",
      "1572384/1572384 [==============================] - 5s 3us/step - loss: 0.5160 - accuracy: 0.7245 - val_loss: 0.5184 - val_accuracy: 0.7222\n",
      "Epoch 76/100\n",
      "1572384/1572384 [==============================] - 5s 3us/step - loss: 0.5160 - accuracy: 0.7245 - val_loss: 0.5181 - val_accuracy: 0.7225\n",
      "Epoch 77/100\n",
      "1572384/1572384 [==============================] - 5s 3us/step - loss: 0.5160 - accuracy: 0.7243 - val_loss: 0.5177 - val_accuracy: 0.7228\n",
      "Epoch 78/100\n",
      "1572384/1572384 [==============================] - 5s 3us/step - loss: 0.5155 - accuracy: 0.7250 - val_loss: 0.5176 - val_accuracy: 0.7228\n",
      "Epoch 79/100\n",
      "1572384/1572384 [==============================] - 5s 3us/step - loss: 0.5161 - accuracy: 0.7239 - val_loss: 0.5178 - val_accuracy: 0.7226\n",
      "Epoch 80/100\n",
      "1572384/1572384 [==============================] - 5s 3us/step - loss: 0.5158 - accuracy: 0.7243 - val_loss: 0.5187 - val_accuracy: 0.7218\n",
      "Epoch 81/100\n",
      "1572384/1572384 [==============================] - 5s 3us/step - loss: 0.5152 - accuracy: 0.7249 - val_loss: 0.5173 - val_accuracy: 0.7223\n",
      "Epoch 82/100\n",
      "1572384/1572384 [==============================] - 5s 3us/step - loss: 0.5150 - accuracy: 0.7251 - val_loss: 0.5170 - val_accuracy: 0.7229\n",
      "Epoch 83/100\n",
      "1572384/1572384 [==============================] - 5s 3us/step - loss: 0.5152 - accuracy: 0.7248 - val_loss: 0.5168 - val_accuracy: 0.7233\n",
      "Epoch 84/100\n",
      "1572384/1572384 [==============================] - 5s 3us/step - loss: 0.5145 - accuracy: 0.7254 - val_loss: 0.5173 - val_accuracy: 0.7232\n",
      "Epoch 85/100\n",
      "1572384/1572384 [==============================] - 5s 3us/step - loss: 0.5150 - accuracy: 0.7248 - val_loss: 0.5165 - val_accuracy: 0.7233\n",
      "Epoch 86/100\n",
      "1572384/1572384 [==============================] - 5s 3us/step - loss: 0.5145 - accuracy: 0.7256 - val_loss: 0.5167 - val_accuracy: 0.7235\n",
      "Epoch 87/100\n",
      "1572384/1572384 [==============================] - 5s 3us/step - loss: 0.5138 - accuracy: 0.7263 - val_loss: 0.5163 - val_accuracy: 0.7242\n",
      "Epoch 88/100\n",
      "1572384/1572384 [==============================] - 5s 3us/step - loss: 0.5136 - accuracy: 0.7265 - val_loss: 0.5168 - val_accuracy: 0.7235\n",
      "Epoch 89/100\n",
      "1572384/1572384 [==============================] - 5s 3us/step - loss: 0.5134 - accuracy: 0.7267 - val_loss: 0.5158 - val_accuracy: 0.7239\n",
      "Epoch 90/100\n",
      "1572384/1572384 [==============================] - 5s 3us/step - loss: 0.5133 - accuracy: 0.7266 - val_loss: 0.5157 - val_accuracy: 0.7236\n",
      "Epoch 91/100\n",
      "1572384/1572384 [==============================] - 5s 3us/step - loss: 0.5138 - accuracy: 0.7258 - val_loss: 0.5165 - val_accuracy: 0.7238\n",
      "Epoch 92/100\n",
      "1572384/1572384 [==============================] - 5s 3us/step - loss: 0.5131 - accuracy: 0.7269 - val_loss: 0.5171 - val_accuracy: 0.7213\n",
      "Epoch 93/100\n",
      "1572384/1572384 [==============================] - 5s 3us/step - loss: 0.5132 - accuracy: 0.7262 - val_loss: 0.5184 - val_accuracy: 0.7209\n",
      "Epoch 94/100\n",
      "1572384/1572384 [==============================] - 5s 3us/step - loss: 0.5134 - accuracy: 0.7259 - val_loss: 0.5154 - val_accuracy: 0.7248\n",
      "Epoch 95/100\n",
      "1572384/1572384 [==============================] - 5s 3us/step - loss: 0.5129 - accuracy: 0.7263 - val_loss: 0.5158 - val_accuracy: 0.7245\n",
      "Epoch 96/100\n",
      "1572384/1572384 [==============================] - 5s 3us/step - loss: 0.5121 - accuracy: 0.7274 - val_loss: 0.5152 - val_accuracy: 0.7247\n",
      "Epoch 97/100\n",
      "1572384/1572384 [==============================] - 5s 3us/step - loss: 0.5126 - accuracy: 0.7267 - val_loss: 0.5149 - val_accuracy: 0.7241\n",
      "Epoch 98/100\n",
      "1572384/1572384 [==============================] - 5s 3us/step - loss: 0.5121 - accuracy: 0.7272 - val_loss: 0.5146 - val_accuracy: 0.7251\n",
      "Epoch 99/100\n",
      "1572384/1572384 [==============================] - 5s 3us/step - loss: 0.5116 - accuracy: 0.7278 - val_loss: 0.5144 - val_accuracy: 0.7246\n",
      "Epoch 100/100\n",
      "1572384/1572384 [==============================] - 5s 3us/step - loss: 0.5124 - accuracy: 0.7266 - val_loss: 0.5146 - val_accuracy: 0.7251\n"
     ]
    }
   ],
   "source": [
    "model_2 = Sequential([\n",
    "    Dense(100, activation='relu'),\n",
    "    Dense(100, activation='relu'),\n",
    "    Dense(100, activation='relu'),\n",
    "    Dense(5, activation='softmax')\n",
    "])\n",
    "model_2.compile(optimizer='adam',\n",
    "              loss='categorical_crossentropy',\n",
    "              metrics=['accuracy'])\n",
    "hist_2 = model_2.fit(X_train, Y_train,\n",
    "          batch_size=100000, epochs=100,\n",
    "          validation_data=(X_val, Y_val))"
   ]
  },
  {
   "cell_type": "code",
   "execution_count": 182,
   "metadata": {},
   "outputs": [
    {
     "name": "stdout",
     "output_type": "stream",
     "text": [
      "              precision    recall  f1-score   support\n",
      "\n",
      "           1       0.00      0.00      0.00       139\n",
      "           2       0.79      0.80      0.79    220505\n",
      "           3       0.61      0.60      0.60    115551\n",
      "           4       0.00      0.00      0.00       745\n",
      "\n",
      "    accuracy                           0.73    336940\n",
      "   macro avg       0.35      0.35      0.35    336940\n",
      "weighted avg       0.73      0.73      0.73    336940\n",
      "\n"
     ]
    },
    {
     "data": {
      "image/png": "[encoded data removed]",
      "text/plain": [
       "<Figure size 432x288 with 2 Axes>"
      ]
     },
     "metadata": {
      "needs_background": "light"
     },
     "output_type": "display_data"
    }
   ],
   "source": [
    "import seaborn as sns\n",
    "Y_pred = model_2.predict_classes(X_test)\n",
    "print(classification_report(Y_test_arr,Y_pred))\n",
    "plt.title('Confusion Matrix for Low Pop Density')\n",
    "sns.heatmap(confusion_matrix(Y_test_arr, Y_pred), annot=True)\n",
    "plt.xlabel('Predicted')\n",
    "plt.ylabel('True')\n",
    "plt.show()"
   ]
  },
  {
   "cell_type": "markdown",
   "metadata": {},
   "source": [
    "Let's do the same visualization to see what overfitting looks like in terms of the loss and accuracy."
   ]
  },
  {
   "cell_type": "code",
   "execution_count": 140,
   "metadata": {},
   "outputs": [
    {
     "data": {
      "image/png": "[encoded data removed]",
      "text/plain": [
       "<Figure size 432x288 with 1 Axes>"
      ]
     },
     "metadata": {
      "needs_background": "light"
     },
     "output_type": "display_data"
    }
   ],
   "source": [
    "plt.plot(hist_2.history['loss'])\n",
    "plt.plot(hist_2.history['val_loss'])\n",
    "plt.title('Model loss')\n",
    "plt.ylabel('Loss')\n",
    "plt.xlabel('Epoch')\n",
    "plt.legend(['Train', 'Val'], loc='upper right')\n",
    "plt.show()"
   ]
  },
  {
   "cell_type": "code",
   "execution_count": 141,
   "metadata": {},
   "outputs": [
    {
     "data": {
      "image/png": "[encoded data removed]",
      "text/plain": [
       "<Figure size 432x288 with 1 Axes>"
      ]
     },
     "metadata": {
      "needs_background": "light"
     },
     "output_type": "display_data"
    }
   ],
   "source": [
    "plt.plot(hist_2.history['accuracy'])\n",
    "plt.plot(hist_2.history['val_accuracy'])\n",
    "plt.title('Model accuracy')\n",
    "plt.ylabel('Accuracy')\n",
    "plt.xlabel('Epoch')\n",
    "plt.legend(['Train', 'Val'], loc='lower right')\n",
    "plt.show()"
   ]
  },
  {
   "cell_type": "code",
   "execution_count": null,
   "metadata": {},
   "outputs": [],
   "source": []
  },
  {
   "cell_type": "markdown",
   "metadata": {},
   "source": [
    "Because there is not enough computational power to overfit the model to the data in a timely manner, this next part created to reduce overfitting through dropouts will not be run, but rather displayed for reference. The overfitting that would have been in model 2 will be addressed through L2 regularization and dropout in model 3 below. "
   ]
  },
  {
   "cell_type": "code",
   "execution_count": 142,
   "metadata": {},
   "outputs": [],
   "source": [
    "from keras.layers import Dropout\n",
    "from keras import regularizers"
   ]
  },
  {
   "cell_type": "code",
   "execution_count": 143,
   "metadata": {},
   "outputs": [],
   "source": [
    "# model_3 = Sequential([\n",
    "#     Dense(100, activation='relu', kernel_regularizer=regularizers.l2(0.01)),\n",
    "#     Dropout(0.3),\n",
    "#     Dense(100, activation='relu', kernel_regularizer=regularizers.l2(0.01)),\n",
    "#     Dropout(0.3),\n",
    "#     Dense(100, activation='relu', kernel_regularizer=regularizers.l2(0.01)),\n",
    "#     Dropout(0.3),\n",
    "#     Dense(5, activation='softmax', kernel_regularizer=regularizers.l2(0.01))\n",
    "# ])"
   ]
  },
  {
   "cell_type": "code",
   "execution_count": 144,
   "metadata": {
    "collapsed": true,
    "jupyter": {
     "outputs_hidden": true
    }
   },
   "outputs": [
    {
     "name": "stdout",
     "output_type": "stream",
     "text": [
      "Train on 1572384 samples, validate on 336940 samples\n",
      "Epoch 1/100\n",
      "1572384/1572384 [==============================] - 15s 10us/step - loss: 3.9776 - accuracy: 0.5520 - val_loss: 3.2720 - val_accuracy: 0.6532\n",
      "Epoch 2/100\n",
      "1572384/1572384 [==============================] - 14s 9us/step - loss: 2.9870 - accuracy: 0.6438 - val_loss: 2.6642 - val_accuracy: 0.6532\n",
      "Epoch 3/100\n"
     ]
    },
    {
     "ename": "KeyboardInterrupt",
     "evalue": "",
     "output_type": "error",
     "traceback": [
      "\u001b[0;31m---------------------------------------------------------------------------\u001b[0m",
      "\u001b[0;31mKeyboardInterrupt\u001b[0m                         Traceback (most recent call last)",
      "\u001b[0;32m<ipython-input-144-7fb93f8c92ab>\u001b[0m in \u001b[0;36m<module>\u001b[0;34m\u001b[0m\n\u001b[1;32m      4\u001b[0m hist_3 = model_3.fit(X_train, Y_train,\n\u001b[1;32m      5\u001b[0m           \u001b[0mbatch_size\u001b[0m\u001b[0;34m=\u001b[0m\u001b[0;36m100000\u001b[0m\u001b[0;34m,\u001b[0m \u001b[0mepochs\u001b[0m\u001b[0;34m=\u001b[0m\u001b[0;36m100\u001b[0m\u001b[0;34m,\u001b[0m\u001b[0;34m\u001b[0m\u001b[0;34m\u001b[0m\u001b[0m\n\u001b[0;32m----> 6\u001b[0;31m           validation_data=(X_val, Y_val))\n\u001b[0m",
      "\u001b[0;32m/opt/anaconda3/lib/python3.7/site-packages/keras/engine/training.py\u001b[0m in \u001b[0;36mfit\u001b[0;34m(self, x, y, batch_size, epochs, verbose, callbacks, validation_split, validation_data, shuffle, class_weight, sample_weight, initial_epoch, steps_per_epoch, validation_steps, validation_freq, max_queue_size, workers, use_multiprocessing, **kwargs)\u001b[0m\n\u001b[1;32m   1237\u001b[0m                                         \u001b[0msteps_per_epoch\u001b[0m\u001b[0;34m=\u001b[0m\u001b[0msteps_per_epoch\u001b[0m\u001b[0;34m,\u001b[0m\u001b[0;34m\u001b[0m\u001b[0;34m\u001b[0m\u001b[0m\n\u001b[1;32m   1238\u001b[0m                                         \u001b[0mvalidation_steps\u001b[0m\u001b[0;34m=\u001b[0m\u001b[0mvalidation_steps\u001b[0m\u001b[0;34m,\u001b[0m\u001b[0;34m\u001b[0m\u001b[0;34m\u001b[0m\u001b[0m\n\u001b[0;32m-> 1239\u001b[0;31m                                         validation_freq=validation_freq)\n\u001b[0m\u001b[1;32m   1240\u001b[0m \u001b[0;34m\u001b[0m\u001b[0m\n\u001b[1;32m   1241\u001b[0m     def evaluate(self,\n",
      "\u001b[0;32m/opt/anaconda3/lib/python3.7/site-packages/keras/engine/training_arrays.py\u001b[0m in \u001b[0;36mfit_loop\u001b[0;34m(model, fit_function, fit_inputs, out_labels, batch_size, epochs, verbose, callbacks, val_function, val_inputs, shuffle, initial_epoch, steps_per_epoch, validation_steps, validation_freq)\u001b[0m\n\u001b[1;32m    194\u001b[0m                     \u001b[0mins_batch\u001b[0m\u001b[0;34m[\u001b[0m\u001b[0mi\u001b[0m\u001b[0;34m]\u001b[0m \u001b[0;34m=\u001b[0m \u001b[0mins_batch\u001b[0m\u001b[0;34m[\u001b[0m\u001b[0mi\u001b[0m\u001b[0;34m]\u001b[0m\u001b[0;34m.\u001b[0m\u001b[0mtoarray\u001b[0m\u001b[0;34m(\u001b[0m\u001b[0;34m)\u001b[0m\u001b[0;34m\u001b[0m\u001b[0;34m\u001b[0m\u001b[0m\n\u001b[1;32m    195\u001b[0m \u001b[0;34m\u001b[0m\u001b[0m\n\u001b[0;32m--> 196\u001b[0;31m                 \u001b[0mouts\u001b[0m \u001b[0;34m=\u001b[0m \u001b[0mfit_function\u001b[0m\u001b[0;34m(\u001b[0m\u001b[0mins_batch\u001b[0m\u001b[0;34m)\u001b[0m\u001b[0;34m\u001b[0m\u001b[0;34m\u001b[0m\u001b[0m\n\u001b[0m\u001b[1;32m    197\u001b[0m                 \u001b[0mouts\u001b[0m \u001b[0;34m=\u001b[0m \u001b[0mto_list\u001b[0m\u001b[0;34m(\u001b[0m\u001b[0mouts\u001b[0m\u001b[0;34m)\u001b[0m\u001b[0;34m\u001b[0m\u001b[0;34m\u001b[0m\u001b[0m\n\u001b[1;32m    198\u001b[0m                 \u001b[0;32mfor\u001b[0m \u001b[0ml\u001b[0m\u001b[0;34m,\u001b[0m \u001b[0mo\u001b[0m \u001b[0;32min\u001b[0m \u001b[0mzip\u001b[0m\u001b[0;34m(\u001b[0m\u001b[0mout_labels\u001b[0m\u001b[0;34m,\u001b[0m \u001b[0mouts\u001b[0m\u001b[0;34m)\u001b[0m\u001b[0;34m:\u001b[0m\u001b[0;34m\u001b[0m\u001b[0;34m\u001b[0m\u001b[0m\n",
      "\u001b[0;32m/opt/anaconda3/lib/python3.7/site-packages/tensorflow_core/python/keras/backend.py\u001b[0m in \u001b[0;36m__call__\u001b[0;34m(self, inputs)\u001b[0m\n\u001b[1;32m   3738\u001b[0m         \u001b[0mvalue\u001b[0m \u001b[0;34m=\u001b[0m \u001b[0mmath_ops\u001b[0m\u001b[0;34m.\u001b[0m\u001b[0mcast\u001b[0m\u001b[0;34m(\u001b[0m\u001b[0mvalue\u001b[0m\u001b[0;34m,\u001b[0m \u001b[0mtensor\u001b[0m\u001b[0;34m.\u001b[0m\u001b[0mdtype\u001b[0m\u001b[0;34m)\u001b[0m\u001b[0;34m\u001b[0m\u001b[0;34m\u001b[0m\u001b[0m\n\u001b[1;32m   3739\u001b[0m       \u001b[0mconverted_inputs\u001b[0m\u001b[0;34m.\u001b[0m\u001b[0mappend\u001b[0m\u001b[0;34m(\u001b[0m\u001b[0mvalue\u001b[0m\u001b[0;34m)\u001b[0m\u001b[0;34m\u001b[0m\u001b[0;34m\u001b[0m\u001b[0m\n\u001b[0;32m-> 3740\u001b[0;31m     \u001b[0moutputs\u001b[0m \u001b[0;34m=\u001b[0m \u001b[0mself\u001b[0m\u001b[0;34m.\u001b[0m\u001b[0m_graph_fn\u001b[0m\u001b[0;34m(\u001b[0m\u001b[0;34m*\u001b[0m\u001b[0mconverted_inputs\u001b[0m\u001b[0;34m)\u001b[0m\u001b[0;34m\u001b[0m\u001b[0;34m\u001b[0m\u001b[0m\n\u001b[0m\u001b[1;32m   3741\u001b[0m \u001b[0;34m\u001b[0m\u001b[0m\n\u001b[1;32m   3742\u001b[0m     \u001b[0;31m# EagerTensor.numpy() will often make a copy to ensure memory safety.\u001b[0m\u001b[0;34m\u001b[0m\u001b[0;34m\u001b[0m\u001b[0;34m\u001b[0m\u001b[0m\n",
      "\u001b[0;32m/opt/anaconda3/lib/python3.7/site-packages/tensorflow_core/python/eager/function.py\u001b[0m in \u001b[0;36m__call__\u001b[0;34m(self, *args, **kwargs)\u001b[0m\n\u001b[1;32m   1079\u001b[0m       \u001b[0mTypeError\u001b[0m\u001b[0;34m:\u001b[0m \u001b[0mFor\u001b[0m \u001b[0minvalid\u001b[0m \u001b[0mpositional\u001b[0m\u001b[0;34m/\u001b[0m\u001b[0mkeyword\u001b[0m \u001b[0margument\u001b[0m \u001b[0mcombinations\u001b[0m\u001b[0;34m.\u001b[0m\u001b[0;34m\u001b[0m\u001b[0;34m\u001b[0m\u001b[0m\n\u001b[1;32m   1080\u001b[0m     \"\"\"\n\u001b[0;32m-> 1081\u001b[0;31m     \u001b[0;32mreturn\u001b[0m \u001b[0mself\u001b[0m\u001b[0;34m.\u001b[0m\u001b[0m_call_impl\u001b[0m\u001b[0;34m(\u001b[0m\u001b[0margs\u001b[0m\u001b[0;34m,\u001b[0m \u001b[0mkwargs\u001b[0m\u001b[0;34m)\u001b[0m\u001b[0;34m\u001b[0m\u001b[0;34m\u001b[0m\u001b[0m\n\u001b[0m\u001b[1;32m   1082\u001b[0m \u001b[0;34m\u001b[0m\u001b[0m\n\u001b[1;32m   1083\u001b[0m   \u001b[0;32mdef\u001b[0m \u001b[0m_call_impl\u001b[0m\u001b[0;34m(\u001b[0m\u001b[0mself\u001b[0m\u001b[0;34m,\u001b[0m \u001b[0margs\u001b[0m\u001b[0;34m,\u001b[0m \u001b[0mkwargs\u001b[0m\u001b[0;34m,\u001b[0m \u001b[0mcancellation_manager\u001b[0m\u001b[0;34m=\u001b[0m\u001b[0;32mNone\u001b[0m\u001b[0;34m)\u001b[0m\u001b[0;34m:\u001b[0m\u001b[0;34m\u001b[0m\u001b[0;34m\u001b[0m\u001b[0m\n",
      "\u001b[0;32m/opt/anaconda3/lib/python3.7/site-packages/tensorflow_core/python/eager/function.py\u001b[0m in \u001b[0;36m_call_impl\u001b[0;34m(self, args, kwargs, cancellation_manager)\u001b[0m\n\u001b[1;32m   1119\u001b[0m       raise TypeError(\"Keyword arguments {} unknown. Expected {}.\".format(\n\u001b[1;32m   1120\u001b[0m           list(kwargs.keys()), list(self._arg_keywords)))\n\u001b[0;32m-> 1121\u001b[0;31m     \u001b[0;32mreturn\u001b[0m \u001b[0mself\u001b[0m\u001b[0;34m.\u001b[0m\u001b[0m_call_flat\u001b[0m\u001b[0;34m(\u001b[0m\u001b[0margs\u001b[0m\u001b[0;34m,\u001b[0m \u001b[0mself\u001b[0m\u001b[0;34m.\u001b[0m\u001b[0mcaptured_inputs\u001b[0m\u001b[0;34m,\u001b[0m \u001b[0mcancellation_manager\u001b[0m\u001b[0;34m)\u001b[0m\u001b[0;34m\u001b[0m\u001b[0;34m\u001b[0m\u001b[0m\n\u001b[0m\u001b[1;32m   1122\u001b[0m \u001b[0;34m\u001b[0m\u001b[0m\n\u001b[1;32m   1123\u001b[0m   \u001b[0;32mdef\u001b[0m \u001b[0m_filtered_call\u001b[0m\u001b[0;34m(\u001b[0m\u001b[0mself\u001b[0m\u001b[0;34m,\u001b[0m \u001b[0margs\u001b[0m\u001b[0;34m,\u001b[0m \u001b[0mkwargs\u001b[0m\u001b[0;34m)\u001b[0m\u001b[0;34m:\u001b[0m\u001b[0;34m\u001b[0m\u001b[0;34m\u001b[0m\u001b[0m\n",
      "\u001b[0;32m/opt/anaconda3/lib/python3.7/site-packages/tensorflow_core/python/eager/function.py\u001b[0m in \u001b[0;36m_call_flat\u001b[0;34m(self, args, captured_inputs, cancellation_manager)\u001b[0m\n\u001b[1;32m   1222\u001b[0m     \u001b[0;32mif\u001b[0m \u001b[0mexecuting_eagerly\u001b[0m\u001b[0;34m:\u001b[0m\u001b[0;34m\u001b[0m\u001b[0;34m\u001b[0m\u001b[0m\n\u001b[1;32m   1223\u001b[0m       flat_outputs = forward_function.call(\n\u001b[0;32m-> 1224\u001b[0;31m           ctx, args, cancellation_manager=cancellation_manager)\n\u001b[0m\u001b[1;32m   1225\u001b[0m     \u001b[0;32melse\u001b[0m\u001b[0;34m:\u001b[0m\u001b[0;34m\u001b[0m\u001b[0;34m\u001b[0m\u001b[0m\n\u001b[1;32m   1226\u001b[0m       \u001b[0mgradient_name\u001b[0m \u001b[0;34m=\u001b[0m \u001b[0mself\u001b[0m\u001b[0;34m.\u001b[0m\u001b[0m_delayed_rewrite_functions\u001b[0m\u001b[0;34m.\u001b[0m\u001b[0mregister\u001b[0m\u001b[0;34m(\u001b[0m\u001b[0;34m)\u001b[0m\u001b[0;34m\u001b[0m\u001b[0;34m\u001b[0m\u001b[0m\n",
      "\u001b[0;32m/opt/anaconda3/lib/python3.7/site-packages/tensorflow_core/python/eager/function.py\u001b[0m in \u001b[0;36mcall\u001b[0;34m(self, ctx, args, cancellation_manager)\u001b[0m\n\u001b[1;32m    509\u001b[0m               \u001b[0minputs\u001b[0m\u001b[0;34m=\u001b[0m\u001b[0margs\u001b[0m\u001b[0;34m,\u001b[0m\u001b[0;34m\u001b[0m\u001b[0;34m\u001b[0m\u001b[0m\n\u001b[1;32m    510\u001b[0m               \u001b[0mattrs\u001b[0m\u001b[0;34m=\u001b[0m\u001b[0;34m(\u001b[0m\u001b[0;34m\"executor_type\"\u001b[0m\u001b[0;34m,\u001b[0m \u001b[0mexecutor_type\u001b[0m\u001b[0;34m,\u001b[0m \u001b[0;34m\"config_proto\"\u001b[0m\u001b[0;34m,\u001b[0m \u001b[0mconfig\u001b[0m\u001b[0;34m)\u001b[0m\u001b[0;34m,\u001b[0m\u001b[0;34m\u001b[0m\u001b[0;34m\u001b[0m\u001b[0m\n\u001b[0;32m--> 511\u001b[0;31m               ctx=ctx)\n\u001b[0m\u001b[1;32m    512\u001b[0m         \u001b[0;32melse\u001b[0m\u001b[0;34m:\u001b[0m\u001b[0;34m\u001b[0m\u001b[0;34m\u001b[0m\u001b[0m\n\u001b[1;32m    513\u001b[0m           outputs = execute.execute_with_cancellation(\n",
      "\u001b[0;32m/opt/anaconda3/lib/python3.7/site-packages/tensorflow_core/python/eager/execute.py\u001b[0m in \u001b[0;36mquick_execute\u001b[0;34m(op_name, num_outputs, inputs, attrs, ctx, name)\u001b[0m\n\u001b[1;32m     59\u001b[0m     tensors = pywrap_tensorflow.TFE_Py_Execute(ctx._handle, device_name,\n\u001b[1;32m     60\u001b[0m                                                \u001b[0mop_name\u001b[0m\u001b[0;34m,\u001b[0m \u001b[0minputs\u001b[0m\u001b[0;34m,\u001b[0m \u001b[0mattrs\u001b[0m\u001b[0;34m,\u001b[0m\u001b[0;34m\u001b[0m\u001b[0;34m\u001b[0m\u001b[0m\n\u001b[0;32m---> 61\u001b[0;31m                                                num_outputs)\n\u001b[0m\u001b[1;32m     62\u001b[0m   \u001b[0;32mexcept\u001b[0m \u001b[0mcore\u001b[0m\u001b[0;34m.\u001b[0m\u001b[0m_NotOkStatusException\u001b[0m \u001b[0;32mas\u001b[0m \u001b[0me\u001b[0m\u001b[0;34m:\u001b[0m\u001b[0;34m\u001b[0m\u001b[0;34m\u001b[0m\u001b[0m\n\u001b[1;32m     63\u001b[0m     \u001b[0;32mif\u001b[0m \u001b[0mname\u001b[0m \u001b[0;32mis\u001b[0m \u001b[0;32mnot\u001b[0m \u001b[0;32mNone\u001b[0m\u001b[0;34m:\u001b[0m\u001b[0;34m\u001b[0m\u001b[0;34m\u001b[0m\u001b[0m\n",
      "\u001b[0;31mKeyboardInterrupt\u001b[0m: "
     ]
    }
   ],
   "source": [
    "# model_3.compile(optimizer='adam',\n",
    "#               loss='categorical_crossentropy',\n",
    "#               metrics=['accuracy'])\n",
    "# hist_3 = model_3.fit(X_train, Y_train,\n",
    "#           batch_size=100000, epochs=100,\n",
    "#           validation_data=(X_val, Y_val))"
   ]
  },
  {
   "cell_type": "markdown",
   "metadata": {},
   "source": [
    "Loss is a lot higher at the start bc changed loss function"
   ]
  },
  {
   "cell_type": "code",
   "execution_count": null,
   "metadata": {},
   "outputs": [],
   "source": [
    "# plt.plot(hist_3.history['loss'])\n",
    "# plt.plot(hist_3.history['val_loss'])\n",
    "# plt.title('Model loss')\n",
    "# plt.ylabel('Loss')\n",
    "# plt.xlabel('Epoch')\n",
    "# plt.legend(['Train', 'Val'], loc='upper right')\n",
    "# #plt.ylim(top=1.2, bottom=0)\n",
    "# plt.show()"
   ]
  },
  {
   "cell_type": "code",
   "execution_count": null,
   "metadata": {},
   "outputs": [],
   "source": [
    "# plt.plot(hist_3.history['accuracy'])\n",
    "# plt.plot(hist_3.history['val_accuracy'])\n",
    "# plt.title('Model accuracy')\n",
    "# plt.ylabel('Accuracy')\n",
    "# plt.xlabel('Epoch')\n",
    "# plt.legend(['Train', 'Val'], loc='lower right')\n",
    "# plt.show()"
   ]
  },
  {
   "cell_type": "markdown",
   "metadata": {},
   "source": [
    "!Should! be less overfitting"
   ]
  },
  {
   "cell_type": "markdown",
   "metadata": {},
   "source": [
    "Model 2 analysis"
   ]
  },
  {
   "cell_type": "code",
   "execution_count": 146,
   "metadata": {},
   "outputs": [
    {
     "data": {
      "text/plain": [
       "array([2, 3, 3, ..., 2, 2, 3])"
      ]
     },
     "execution_count": 146,
     "metadata": {},
     "output_type": "execute_result"
    }
   ],
   "source": [
    "model_2.predict_classes(X_test)"
   ]
  }
 ],
 "metadata": {
  "kernelspec": {
   "display_name": "Python 3",
   "language": "python",
   "name": "python3"
  },
  "language_info": {
   "codemirror_mode": {
    "name": "ipython",
    "version": 3
   },
   "file_extension": ".py",
   "mimetype": "text/x-python",
   "name": "python",
   "nbconvert_exporter": "python",
   "pygments_lexer": "ipython3",
   "version": "3.7.6"
  }
 },
 "nbformat": 4,
 "nbformat_minor": 4
}
