{
 "cells": [
  {
   "cell_type": "markdown",
   "metadata": {},
   "source": [
    "NN for NJ and NE"
   ]
  },
  {
   "cell_type": "code",
   "execution_count": 232,
   "metadata": {},
   "outputs": [],
   "source": [
    "import pandas as pd\n",
    "import numpy as np\n",
    "import sys\n",
    "from keras.datasets import mnist\n",
    "from keras import models\n",
    "from keras import layers\n",
    "from keras.utils import to_categorical\n",
    "import numpy as np\n",
    "import pandas as pd\n",
    "sys.executable\n",
    "db = pd.read_csv('./sinai_classes/BMI3002_ML_2020/MLProject/clean_US_accidents_2019.zip')"
   ]
  },
  {
   "cell_type": "code",
   "execution_count": 233,
   "metadata": {},
   "outputs": [],
   "source": [
    "NJ_state = 'NJ'\n",
    "NE_state = 'NE'"
   ]
  },
  {
   "cell_type": "code",
   "execution_count": 234,
   "metadata": {
    "collapsed": true,
    "jupyter": {
     "outputs_hidden": true
    }
   },
   "outputs": [
    {
     "name": "stdout",
     "output_type": "stream",
     "text": [
      "         Unnamed: 0         ID    Source    TMC  Severity  \\\n",
      "194254       194254   A-194256  MapQuest  201.0         2   \n",
      "194270       194270   A-194272  MapQuest  201.0         2   \n",
      "194271       194271   A-194273  MapQuest  201.0         2   \n",
      "194280       194280   A-194282  MapQuest  241.0         3   \n",
      "194299       194299   A-194301  MapQuest  203.0         2   \n",
      "...             ...        ...       ...    ...       ...   \n",
      "2243999     2243999  A-2244023  MapQuest  201.0         2   \n",
      "2244003     2244003  A-2244027  MapQuest  241.0         2   \n",
      "2244006     2244006  A-2244030  MapQuest  201.0         2   \n",
      "2244011     2244011  A-2244035  MapQuest  241.0         3   \n",
      "2244016     2244016  A-2244040  MapQuest  201.0         2   \n",
      "\n",
      "                  Start_Time             End_Time  Start_Lat  Start_Lng  \\\n",
      "194254   2016-11-30 16:37:24  2016-11-30 17:22:05  40.775616 -74.237305   \n",
      "194270   2016-11-30 17:11:50  2016-11-30 17:56:38  40.944626 -74.100800   \n",
      "194271   2016-11-30 17:13:28  2016-11-30 18:13:14  40.846260 -74.042770   \n",
      "194280   2016-11-30 17:29:30  2016-11-30 18:14:16  40.641262 -74.205650   \n",
      "194299   2016-11-30 19:10:49  2016-11-30 20:10:39  40.957714 -73.975098   \n",
      "...                      ...                  ...        ...        ...   \n",
      "2243999  2017-08-30 17:46:53  2017-08-30 18:31:34  40.429905 -74.341026   \n",
      "2244003  2017-08-30 18:31:25  2017-08-30 19:16:12  39.956821 -74.987762   \n",
      "2244006  2017-08-30 18:59:04  2017-08-30 19:43:25  40.770985 -74.351814   \n",
      "2244011  2017-08-30 19:30:22  2017-08-30 20:15:01  40.541271 -74.308556   \n",
      "2244016  2017-08-30 20:13:22  2017-08-30 20:58:15  39.637039 -75.256744   \n",
      "\n",
      "         Distance(mi)  ... Sunrise_Sunset Civil_Twilight Nautical_Twilight  \\\n",
      "194254           0.01  ...          Night            Day               Day   \n",
      "194270           0.01  ...          Night          Night               Day   \n",
      "194271           0.01  ...          Night          Night               Day   \n",
      "194280           0.01  ...          Night          Night               Day   \n",
      "194299           0.01  ...          Night          Night             Night   \n",
      "...               ...  ...            ...            ...               ...   \n",
      "2243999          4.34  ...            Day            Day               Day   \n",
      "2244003          0.00  ...            Day            Day               Day   \n",
      "2244006          0.00  ...            Day            Day               Day   \n",
      "2244011          0.00  ...            Day            Day               Day   \n",
      "2244016          0.00  ...          Night          Night               Day   \n",
      "\n",
      "        Astronomical_Twilight  Year Month Day Hour Weekday Time_Duration(min)  \n",
      "194254                    Day  2016   Nov  30   16     Wed               45.0  \n",
      "194270                    Day  2016   Nov  30   17     Wed               45.0  \n",
      "194271                    Day  2016   Nov  30   17     Wed               60.0  \n",
      "194280                    Day  2016   Nov  30   17     Wed               45.0  \n",
      "194299                  Night  2016   Nov  30   19     Wed               60.0  \n",
      "...                       ...   ...   ...  ..  ...     ...                ...  \n",
      "2243999                   Day  2017   Aug  30   17     Wed               45.0  \n",
      "2244003                   Day  2017   Aug  30   18     Wed               45.0  \n",
      "2244006                   Day  2017   Aug  30   18     Wed               44.0  \n",
      "2244011                   Day  2017   Aug  30   19     Wed               45.0  \n",
      "2244016                   Day  2017   Aug  30   20     Wed               45.0  \n",
      "\n",
      "[33860 rows x 53 columns]\n"
     ]
    }
   ],
   "source": [
    "# Select New Jersey\n",
    "NJ_db = db.loc[db.State==NJ_state].copy()\n",
    "print(NJ_db)\n",
    "NJ_db.drop('State', axis=1, inplace=True)\n",
    "\n",
    "# Select Nebraska\n",
    "NE_db = db.loc[db.State==NE_state].copy()\n",
    "NE_db.drop('State', axis=1, inplace=True)"
   ]
  },
  {
   "cell_type": "code",
   "execution_count": 235,
   "metadata": {},
   "outputs": [
    {
     "name": "stdout",
     "output_type": "stream",
     "text": [
      "(33860, 65)\n",
      "(21206, 68)\n"
     ]
    }
   ],
   "source": [
    "#Create dummies to deal with categorical data\n",
    "# Set the list of features to include in Machine Learning\n",
    "ft=['Severity','Start_Lng','Start_Lat','Distance(mi)','Side','Timezone',\\\n",
    "              'Temperature(F)','Wind_Chill(F)','Humidity(%)','Pressure(in)',\\\n",
    "              'Visibility(mi)', 'Wind_Direction','Amenity','Bump','Crossing',\\\n",
    "              'Give_Way','Junction','No_Exit','Railway','Roundabout','Station',\\\n",
    "              'Stop','Traffic_Calming', 'Traffic_Signal','Turning_Loop',\\\n",
    "              'Sunrise_Sunset','Civil_Twilight', 'Month', 'Nautical_Twilight',\\\n",
    "              'Astronomical_Twilight','Hour','Weekday', 'Time_Duration(min)']\n",
    "\n",
    "NJ_db = NJ_db[ft].copy()\n",
    "NE_db = NE_db[ft].copy()\n",
    "\n",
    "cat_columns = ['Side','Timezone','Sunrise_Sunset', 'Civil_Twilight', 'Month',\\\n",
    "              'Nautical_Twilight', 'Astronomical_Twilight', 'Weekday',\\\n",
    "              'Wind_Direction', 'Amenity', 'Bump', 'Crossing', 'Give_Way',\\\n",
    "              'Junction','No_Exit', 'Railway','Roundabout', 'Station', 'Stop',\\\n",
    "               'Traffic_Calming','Traffic_Signal', 'Turning_Loop']\n",
    "\n",
    "NJ_dummy = pd.get_dummies(NJ_db, columns = cat_columns, drop_first = True)\n",
    "NE_dummy = pd.get_dummies(NE_db, columns = cat_columns, drop_first = True)"
   ]
  },
  {
   "cell_type": "code",
   "execution_count": 236,
   "metadata": {},
   "outputs": [
    {
     "name": "stdout",
     "output_type": "stream",
     "text": [
      "(33860, 41)\n",
      "(21206, 41)\n"
     ]
    }
   ],
   "source": [
    "# Only use the columns that from feature selection\n",
    "\n",
    "select_ft =['Severity', 'Start_Lng', 'Start_Lat', 'Distance(mi)', 'Temperature(F)', \\\n",
    "              'Wind_Chill(F)', 'Humidity(%)', 'Pressure(in)', 'Visibility(mi)',\\\n",
    "              'Hour', 'Time_Duration(min)', 'Side_R', \\\n",
    "              'Sunrise_Sunset_Night', 'Civil_Twilight_Night', 'Month_Dec', \n",
    "              'Month_Jul', 'Month_Jun', 'Month_Nov','Month_Oct', 'Month_Sep',\\\n",
    "              'Nautical_Twilight_Night', 'Astronomical_Twilight_Night', \\\n",
    "              'Weekday_Mon', 'Weekday_Sat', 'Weekday_Sun', 'Weekday_Thu', \\\n",
    "              'Weekday_Tue', 'Weekday_Wed', 'Wind_Direction_Calm', 'Wind_Direction_East',\\\n",
    "              'Wind_Direction_NNE', 'Wind_Direction_North', 'Wind_Direction_Variable',\\\n",
    "              'Wind_Direction_WSW', 'Wind_Direction_West', 'Amenity_True', 'Crossing_True',\\\n",
    "              'Junction_True', 'Station_True', 'Stop_True', 'Traffic_Signal_True']\n",
    "\n",
    "NJ_dummy = NJ_dummy[select_ft].copy()\n",
    "print(NJ_dummy.shape) \n",
    "\n",
    "NE_dummy = NE_dummy[select_ft].copy()\n",
    "print(NE_dummy.shape) \n"
   ]
  },
  {
   "cell_type": "code",
   "execution_count": 237,
   "metadata": {},
   "outputs": [],
   "source": [
    "#Set up data into train and test\n",
    "# Set the target for the prediction\n",
    "\n",
    "target='Severity'\n",
    "\n",
    "# Create arrays for the features and the response variable\n",
    "# set X and y\n",
    "\n",
    "y_NJ = NJ_dummy[target]\n",
    "X_NJ = NJ_dummy.drop(target, axis=1)\n",
    "\n",
    "y_NE = NE_dummy[target]\n",
    "X_NE = NE_dummy.drop(target, axis=1)"
   ]
  },
  {
   "cell_type": "code",
   "execution_count": 292,
   "metadata": {},
   "outputs": [],
   "source": [
    "from sklearn import preprocessing\n",
    "from sklearn.model_selection import train_test_split\n",
    "from sklearn.metrics import classification_report,\\\n",
    "roc_curve, auc, confusion_matrix, multilabel_confusion_matrix, accuracy_score, log_loss, f1_score"
   ]
  },
  {
   "cell_type": "code",
   "execution_count": 239,
   "metadata": {},
   "outputs": [],
   "source": [
    "min_max_scaler = preprocessing.MinMaxScaler()\n",
    "X_NJ_scale = min_max_scaler.fit_transform(X_NJ)\n",
    "X_NE_scale = min_max_scaler.fit_transform(X_NE)"
   ]
  },
  {
   "cell_type": "markdown",
   "metadata": {},
   "source": [
    "# NJ-NN"
   ]
  },
  {
   "cell_type": "code",
   "execution_count": 283,
   "metadata": {},
   "outputs": [],
   "source": [
    "X_train, X_val_and_test, Y_train, Y_val_and_test = train_test_split(X_NJ_scale, y_NJ, test_size=0.3)"
   ]
  },
  {
   "cell_type": "code",
   "execution_count": 284,
   "metadata": {},
   "outputs": [],
   "source": [
    "X_val, X_test, Y_val, Y_test = train_test_split(X_val_and_test, Y_val_and_test, test_size=0.5)"
   ]
  },
  {
   "cell_type": "code",
   "execution_count": 285,
   "metadata": {
    "collapsed": true,
    "jupyter": {
     "outputs_hidden": true
    }
   },
   "outputs": [
    {
     "name": "stdout",
     "output_type": "stream",
     "text": [
      "(20316, 40) (6772, 40) (6772, 40) (20316,) (6772,) (6772,)\n"
     ]
    }
   ],
   "source": [
    "print(X_train.shape, X_val.shape, X_test.shape, Y_train.shape, Y_val.shape, Y_test.shape)"
   ]
  },
  {
   "cell_type": "code",
   "execution_count": 286,
   "metadata": {},
   "outputs": [],
   "source": [
    "from keras.models import Sequential\n",
    "from keras.layers import Dense\n",
    "import seaborn as sns"
   ]
  },
  {
   "cell_type": "code",
   "execution_count": 287,
   "metadata": {},
   "outputs": [],
   "source": [
    "NJ_model = Sequential([\n",
    "    Dense(32, activation='relu'),\n",
    "    Dense(32, activation='relu'),\n",
    "    Dense(5 , activation='softmax')\n",
    "])"
   ]
  },
  {
   "cell_type": "code",
   "execution_count": 288,
   "metadata": {},
   "outputs": [],
   "source": [
    "NJ_model.compile(optimizer='adam',\n",
    "              loss='categorical_crossentropy',\n",
    "              metrics=['accuracy'])"
   ]
  },
  {
   "cell_type": "code",
   "execution_count": 289,
   "metadata": {},
   "outputs": [],
   "source": [
    "Y_train = to_categorical(Y_train)\n",
    "Y_val = to_categorical(Y_val)"
   ]
  },
  {
   "cell_type": "code",
   "execution_count": 290,
   "metadata": {
    "collapsed": true,
    "jupyter": {
     "outputs_hidden": true
    }
   },
   "outputs": [
    {
     "name": "stdout",
     "output_type": "stream",
     "text": [
      "Train on 20316 samples, validate on 6772 samples\n",
      "Epoch 1/100\n",
      "20316/20316 [==============================] - 1s 45us/step - loss: 1.4081 - accuracy: 0.3659 - val_loss: 1.1610 - val_accuracy: 0.6540\n",
      "Epoch 2/100\n",
      "20316/20316 [==============================] - 0s 7us/step - loss: 0.9791 - accuracy: 0.6686 - val_loss: 0.7993 - val_accuracy: 0.6754\n",
      "Epoch 3/100\n",
      "20316/20316 [==============================] - 0s 7us/step - loss: 0.7299 - accuracy: 0.6748 - val_loss: 0.6798 - val_accuracy: 0.6754\n",
      "Epoch 4/100\n",
      "20316/20316 [==============================] - 0s 8us/step - loss: 0.6626 - accuracy: 0.6749 - val_loss: 0.6476 - val_accuracy: 0.6756\n",
      "Epoch 5/100\n",
      "20316/20316 [==============================] - 0s 7us/step - loss: 0.6365 - accuracy: 0.6747 - val_loss: 0.6267 - val_accuracy: 0.6757\n",
      "Epoch 6/100\n",
      "20316/20316 [==============================] - 0s 7us/step - loss: 0.6166 - accuracy: 0.6746 - val_loss: 0.6114 - val_accuracy: 0.6753\n",
      "Epoch 7/100\n",
      "20316/20316 [==============================] - 0s 7us/step - loss: 0.6020 - accuracy: 0.6753 - val_loss: 0.6001 - val_accuracy: 0.6732\n",
      "Epoch 8/100\n",
      "20316/20316 [==============================] - 0s 7us/step - loss: 0.5911 - accuracy: 0.6754 - val_loss: 0.5907 - val_accuracy: 0.6738\n",
      "Epoch 9/100\n",
      "20316/20316 [==============================] - 0s 7us/step - loss: 0.5825 - accuracy: 0.6751 - val_loss: 0.5852 - val_accuracy: 0.6747\n",
      "Epoch 10/100\n",
      "20316/20316 [==============================] - 0s 7us/step - loss: 0.5775 - accuracy: 0.6764 - val_loss: 0.5814 - val_accuracy: 0.6741\n",
      "Epoch 11/100\n",
      "20316/20316 [==============================] - 0s 7us/step - loss: 0.5741 - accuracy: 0.6773 - val_loss: 0.5791 - val_accuracy: 0.6753\n",
      "Epoch 12/100\n",
      "20316/20316 [==============================] - 0s 7us/step - loss: 0.5717 - accuracy: 0.6780 - val_loss: 0.5769 - val_accuracy: 0.6779\n",
      "Epoch 13/100\n",
      "20316/20316 [==============================] - 0s 7us/step - loss: 0.5702 - accuracy: 0.6788 - val_loss: 0.5769 - val_accuracy: 0.6750\n",
      "Epoch 14/100\n",
      "20316/20316 [==============================] - 0s 6us/step - loss: 0.5697 - accuracy: 0.6779 - val_loss: 0.5745 - val_accuracy: 0.6787\n",
      "Epoch 15/100\n",
      "20316/20316 [==============================] - 0s 7us/step - loss: 0.5683 - accuracy: 0.6809 - val_loss: 0.5739 - val_accuracy: 0.6813\n",
      "Epoch 16/100\n",
      "20316/20316 [==============================] - 0s 7us/step - loss: 0.5675 - accuracy: 0.6803 - val_loss: 0.5731 - val_accuracy: 0.6778\n",
      "Epoch 17/100\n",
      "20316/20316 [==============================] - 0s 7us/step - loss: 0.5665 - accuracy: 0.6804 - val_loss: 0.5725 - val_accuracy: 0.6776\n",
      "Epoch 18/100\n",
      "20316/20316 [==============================] - 0s 7us/step - loss: 0.5661 - accuracy: 0.6800 - val_loss: 0.5715 - val_accuracy: 0.6806\n",
      "Epoch 19/100\n",
      "20316/20316 [==============================] - 0s 7us/step - loss: 0.5652 - accuracy: 0.6827 - val_loss: 0.5709 - val_accuracy: 0.6796\n",
      "Epoch 20/100\n",
      "20316/20316 [==============================] - 0s 7us/step - loss: 0.5645 - accuracy: 0.6822 - val_loss: 0.5725 - val_accuracy: 0.6744\n",
      "Epoch 21/100\n",
      "20316/20316 [==============================] - 0s 7us/step - loss: 0.5658 - accuracy: 0.6778 - val_loss: 0.5696 - val_accuracy: 0.6799\n",
      "Epoch 22/100\n",
      "20316/20316 [==============================] - 0s 8us/step - loss: 0.5635 - accuracy: 0.6819 - val_loss: 0.5691 - val_accuracy: 0.6803\n",
      "Epoch 23/100\n",
      "20316/20316 [==============================] - 0s 7us/step - loss: 0.5631 - accuracy: 0.6813 - val_loss: 0.5688 - val_accuracy: 0.6812\n",
      "Epoch 24/100\n",
      "20316/20316 [==============================] - 0s 7us/step - loss: 0.5627 - accuracy: 0.6816 - val_loss: 0.5684 - val_accuracy: 0.6790\n",
      "Epoch 25/100\n",
      "20316/20316 [==============================] - 0s 6us/step - loss: 0.5623 - accuracy: 0.6817 - val_loss: 0.5680 - val_accuracy: 0.6812\n",
      "Epoch 26/100\n",
      "20316/20316 [==============================] - 0s 7us/step - loss: 0.5622 - accuracy: 0.6824 - val_loss: 0.5677 - val_accuracy: 0.6788\n",
      "Epoch 27/100\n",
      "20316/20316 [==============================] - 0s 6us/step - loss: 0.5613 - accuracy: 0.6815 - val_loss: 0.5671 - val_accuracy: 0.6790\n",
      "Epoch 28/100\n",
      "20316/20316 [==============================] - 0s 7us/step - loss: 0.5610 - accuracy: 0.6833 - val_loss: 0.5667 - val_accuracy: 0.6794\n",
      "Epoch 29/100\n",
      "20316/20316 [==============================] - 0s 6us/step - loss: 0.5606 - accuracy: 0.6817 - val_loss: 0.5659 - val_accuracy: 0.6804\n",
      "Epoch 30/100\n",
      "20316/20316 [==============================] - 0s 6us/step - loss: 0.5604 - accuracy: 0.6828 - val_loss: 0.5663 - val_accuracy: 0.6816\n",
      "Epoch 31/100\n",
      "20316/20316 [==============================] - 0s 7us/step - loss: 0.5597 - accuracy: 0.6832 - val_loss: 0.5652 - val_accuracy: 0.6804\n",
      "Epoch 32/100\n",
      "20316/20316 [==============================] - 0s 7us/step - loss: 0.5600 - accuracy: 0.6819 - val_loss: 0.5655 - val_accuracy: 0.6806\n",
      "Epoch 33/100\n",
      "20316/20316 [==============================] - 0s 7us/step - loss: 0.5592 - accuracy: 0.6811 - val_loss: 0.5652 - val_accuracy: 0.6838\n",
      "Epoch 34/100\n",
      "20316/20316 [==============================] - 0s 7us/step - loss: 0.5587 - accuracy: 0.6827 - val_loss: 0.5655 - val_accuracy: 0.6760\n",
      "Epoch 35/100\n",
      "20316/20316 [==============================] - 0s 7us/step - loss: 0.5583 - accuracy: 0.6835 - val_loss: 0.5643 - val_accuracy: 0.6818\n",
      "Epoch 36/100\n",
      "20316/20316 [==============================] - 0s 7us/step - loss: 0.5578 - accuracy: 0.6834 - val_loss: 0.5639 - val_accuracy: 0.6784\n",
      "Epoch 37/100\n",
      "20316/20316 [==============================] - 0s 7us/step - loss: 0.5575 - accuracy: 0.6831 - val_loss: 0.5642 - val_accuracy: 0.6784\n",
      "Epoch 38/100\n",
      "20316/20316 [==============================] - 0s 9us/step - loss: 0.5578 - accuracy: 0.6825 - val_loss: 0.5634 - val_accuracy: 0.6809\n",
      "Epoch 39/100\n",
      "20316/20316 [==============================] - 0s 7us/step - loss: 0.5567 - accuracy: 0.6828 - val_loss: 0.5633 - val_accuracy: 0.6799\n",
      "Epoch 40/100\n",
      "20316/20316 [==============================] - 0s 7us/step - loss: 0.5569 - accuracy: 0.6828 - val_loss: 0.5642 - val_accuracy: 0.6753\n",
      "Epoch 41/100\n",
      "20316/20316 [==============================] - 0s 6us/step - loss: 0.5568 - accuracy: 0.6807 - val_loss: 0.5634 - val_accuracy: 0.6838\n",
      "Epoch 42/100\n",
      "20316/20316 [==============================] - 0s 7us/step - loss: 0.5556 - accuracy: 0.6812 - val_loss: 0.5622 - val_accuracy: 0.6776\n",
      "Epoch 43/100\n",
      "20316/20316 [==============================] - 0s 7us/step - loss: 0.5556 - accuracy: 0.6840 - val_loss: 0.5639 - val_accuracy: 0.6771\n",
      "Epoch 44/100\n",
      "20316/20316 [==============================] - 0s 6us/step - loss: 0.5555 - accuracy: 0.6844 - val_loss: 0.5620 - val_accuracy: 0.6813\n",
      "Epoch 45/100\n",
      "20316/20316 [==============================] - 0s 7us/step - loss: 0.5543 - accuracy: 0.6847 - val_loss: 0.5623 - val_accuracy: 0.6807\n",
      "Epoch 46/100\n",
      "20316/20316 [==============================] - 0s 7us/step - loss: 0.5546 - accuracy: 0.6840 - val_loss: 0.5619 - val_accuracy: 0.6807\n",
      "Epoch 47/100\n",
      "20316/20316 [==============================] - 0s 7us/step - loss: 0.5535 - accuracy: 0.6848 - val_loss: 0.5618 - val_accuracy: 0.6821\n",
      "Epoch 48/100\n",
      "20316/20316 [==============================] - 0s 7us/step - loss: 0.5548 - accuracy: 0.6814 - val_loss: 0.5613 - val_accuracy: 0.6803\n",
      "Epoch 49/100\n",
      "20316/20316 [==============================] - 0s 6us/step - loss: 0.5539 - accuracy: 0.6844 - val_loss: 0.5640 - val_accuracy: 0.6720\n",
      "Epoch 50/100\n",
      "20316/20316 [==============================] - 0s 7us/step - loss: 0.5524 - accuracy: 0.6862 - val_loss: 0.5606 - val_accuracy: 0.6810\n",
      "Epoch 51/100\n",
      "20316/20316 [==============================] - 0s 7us/step - loss: 0.5526 - accuracy: 0.6866 - val_loss: 0.5619 - val_accuracy: 0.6781\n",
      "Epoch 52/100\n",
      "20316/20316 [==============================] - 0s 7us/step - loss: 0.5521 - accuracy: 0.6866 - val_loss: 0.5599 - val_accuracy: 0.6809\n",
      "Epoch 53/100\n",
      "20316/20316 [==============================] - 0s 7us/step - loss: 0.5516 - accuracy: 0.6873 - val_loss: 0.5608 - val_accuracy: 0.6862\n",
      "Epoch 54/100\n",
      "20316/20316 [==============================] - 0s 7us/step - loss: 0.5526 - accuracy: 0.6861 - val_loss: 0.5628 - val_accuracy: 0.6723\n",
      "Epoch 55/100\n",
      "20316/20316 [==============================] - 0s 7us/step - loss: 0.5507 - accuracy: 0.6865 - val_loss: 0.5591 - val_accuracy: 0.6831\n",
      "Epoch 56/100\n",
      "20316/20316 [==============================] - 0s 7us/step - loss: 0.5500 - accuracy: 0.6882 - val_loss: 0.5600 - val_accuracy: 0.6791\n",
      "Epoch 57/100\n",
      "20316/20316 [==============================] - 0s 7us/step - loss: 0.5502 - accuracy: 0.6884 - val_loss: 0.5592 - val_accuracy: 0.6853\n",
      "Epoch 58/100\n",
      "20316/20316 [==============================] - 0s 7us/step - loss: 0.5500 - accuracy: 0.6885 - val_loss: 0.5595 - val_accuracy: 0.6797\n",
      "Epoch 59/100\n",
      "20316/20316 [==============================] - 0s 6us/step - loss: 0.5491 - accuracy: 0.6904 - val_loss: 0.5581 - val_accuracy: 0.6849\n",
      "Epoch 60/100\n",
      "20316/20316 [==============================] - 0s 7us/step - loss: 0.5485 - accuracy: 0.6902 - val_loss: 0.5581 - val_accuracy: 0.6821\n",
      "Epoch 61/100\n",
      "20316/20316 [==============================] - 0s 6us/step - loss: 0.5477 - accuracy: 0.6917 - val_loss: 0.5579 - val_accuracy: 0.6858\n",
      "Epoch 62/100\n",
      "20316/20316 [==============================] - 0s 7us/step - loss: 0.5475 - accuracy: 0.6904 - val_loss: 0.5579 - val_accuracy: 0.6816\n",
      "Epoch 63/100\n",
      "20316/20316 [==============================] - 0s 7us/step - loss: 0.5471 - accuracy: 0.6909 - val_loss: 0.5576 - val_accuracy: 0.6821\n",
      "Epoch 64/100\n",
      "20316/20316 [==============================] - 0s 7us/step - loss: 0.5467 - accuracy: 0.6917 - val_loss: 0.5571 - val_accuracy: 0.6849\n",
      "Epoch 65/100\n",
      "20316/20316 [==============================] - 0s 7us/step - loss: 0.5460 - accuracy: 0.6925 - val_loss: 0.5569 - val_accuracy: 0.6828\n",
      "Epoch 66/100\n",
      "20316/20316 [==============================] - 0s 7us/step - loss: 0.5454 - accuracy: 0.6926 - val_loss: 0.5569 - val_accuracy: 0.6835\n",
      "Epoch 67/100\n",
      "20316/20316 [==============================] - 0s 7us/step - loss: 0.5455 - accuracy: 0.6927 - val_loss: 0.5598 - val_accuracy: 0.6768\n",
      "Epoch 68/100\n",
      "20316/20316 [==============================] - 0s 7us/step - loss: 0.5454 - accuracy: 0.6929 - val_loss: 0.5569 - val_accuracy: 0.6861\n",
      "Epoch 69/100\n",
      "20316/20316 [==============================] - 0s 7us/step - loss: 0.5450 - accuracy: 0.6952 - val_loss: 0.5569 - val_accuracy: 0.6833\n",
      "Epoch 70/100\n",
      "20316/20316 [==============================] - 0s 7us/step - loss: 0.5444 - accuracy: 0.6946 - val_loss: 0.5561 - val_accuracy: 0.6837\n",
      "Epoch 71/100\n",
      "20316/20316 [==============================] - 0s 7us/step - loss: 0.5433 - accuracy: 0.6960 - val_loss: 0.5581 - val_accuracy: 0.6890\n",
      "Epoch 72/100\n",
      "20316/20316 [==============================] - 0s 7us/step - loss: 0.5440 - accuracy: 0.6954 - val_loss: 0.5553 - val_accuracy: 0.6849\n",
      "Epoch 73/100\n",
      "20316/20316 [==============================] - 0s 7us/step - loss: 0.5439 - accuracy: 0.6976 - val_loss: 0.5581 - val_accuracy: 0.6815\n",
      "Epoch 74/100\n",
      "20316/20316 [==============================] - 0s 6us/step - loss: 0.5433 - accuracy: 0.6968 - val_loss: 0.5548 - val_accuracy: 0.6849\n",
      "Epoch 75/100\n",
      "20316/20316 [==============================] - 0s 7us/step - loss: 0.5422 - accuracy: 0.6975 - val_loss: 0.5552 - val_accuracy: 0.6868\n",
      "Epoch 76/100\n",
      "20316/20316 [==============================] - 0s 7us/step - loss: 0.5422 - accuracy: 0.6977 - val_loss: 0.5569 - val_accuracy: 0.6812\n",
      "Epoch 77/100\n",
      "20316/20316 [==============================] - 0s 7us/step - loss: 0.5417 - accuracy: 0.6995 - val_loss: 0.5542 - val_accuracy: 0.6871\n",
      "Epoch 78/100\n",
      "20316/20316 [==============================] - 0s 7us/step - loss: 0.5412 - accuracy: 0.6985 - val_loss: 0.5545 - val_accuracy: 0.6871\n",
      "Epoch 79/100\n",
      "20316/20316 [==============================] - 0s 7us/step - loss: 0.5408 - accuracy: 0.6984 - val_loss: 0.5544 - val_accuracy: 0.6874\n",
      "Epoch 80/100\n",
      "20316/20316 [==============================] - 0s 7us/step - loss: 0.5399 - accuracy: 0.7017 - val_loss: 0.5535 - val_accuracy: 0.6872\n",
      "Epoch 81/100\n",
      "20316/20316 [==============================] - 0s 7us/step - loss: 0.5391 - accuracy: 0.6999 - val_loss: 0.5559 - val_accuracy: 0.6837\n",
      "Epoch 82/100\n",
      "20316/20316 [==============================] - 0s 7us/step - loss: 0.5397 - accuracy: 0.6989 - val_loss: 0.5538 - val_accuracy: 0.6898\n",
      "Epoch 83/100\n",
      "20316/20316 [==============================] - 0s 7us/step - loss: 0.5381 - accuracy: 0.7020 - val_loss: 0.5525 - val_accuracy: 0.6889\n",
      "Epoch 84/100\n",
      "20316/20316 [==============================] - 0s 7us/step - loss: 0.5376 - accuracy: 0.7030 - val_loss: 0.5524 - val_accuracy: 0.6892\n",
      "Epoch 85/100\n",
      "20316/20316 [==============================] - 0s 7us/step - loss: 0.5382 - accuracy: 0.7003 - val_loss: 0.5523 - val_accuracy: 0.6911\n",
      "Epoch 86/100\n",
      "20316/20316 [==============================] - 0s 7us/step - loss: 0.5364 - accuracy: 0.7041 - val_loss: 0.5524 - val_accuracy: 0.6920\n",
      "Epoch 87/100\n",
      "20316/20316 [==============================] - 0s 7us/step - loss: 0.5363 - accuracy: 0.7039 - val_loss: 0.5515 - val_accuracy: 0.6921\n",
      "Epoch 88/100\n",
      "20316/20316 [==============================] - 0s 7us/step - loss: 0.5364 - accuracy: 0.7040 - val_loss: 0.5508 - val_accuracy: 0.6914\n",
      "Epoch 89/100\n",
      "20316/20316 [==============================] - 0s 7us/step - loss: 0.5353 - accuracy: 0.7042 - val_loss: 0.5515 - val_accuracy: 0.6921\n",
      "Epoch 90/100\n",
      "20316/20316 [==============================] - 0s 7us/step - loss: 0.5349 - accuracy: 0.7042 - val_loss: 0.5506 - val_accuracy: 0.6934\n",
      "Epoch 91/100\n",
      "20316/20316 [==============================] - 0s 7us/step - loss: 0.5346 - accuracy: 0.7066 - val_loss: 0.5505 - val_accuracy: 0.6927\n",
      "Epoch 92/100\n",
      "20316/20316 [==============================] - 0s 7us/step - loss: 0.5341 - accuracy: 0.7057 - val_loss: 0.5505 - val_accuracy: 0.6918\n",
      "Epoch 93/100\n",
      "20316/20316 [==============================] - 0s 7us/step - loss: 0.5336 - accuracy: 0.7066 - val_loss: 0.5496 - val_accuracy: 0.6931\n",
      "Epoch 94/100\n",
      "20316/20316 [==============================] - 0s 7us/step - loss: 0.5331 - accuracy: 0.7080 - val_loss: 0.5503 - val_accuracy: 0.6933\n",
      "Epoch 95/100\n",
      "20316/20316 [==============================] - 0s 7us/step - loss: 0.5355 - accuracy: 0.7025 - val_loss: 0.5497 - val_accuracy: 0.6951\n",
      "Epoch 96/100\n",
      "20316/20316 [==============================] - 0s 7us/step - loss: 0.5329 - accuracy: 0.7081 - val_loss: 0.5548 - val_accuracy: 0.6793\n",
      "Epoch 97/100\n",
      "20316/20316 [==============================] - 0s 7us/step - loss: 0.5339 - accuracy: 0.7053 - val_loss: 0.5490 - val_accuracy: 0.6951\n",
      "Epoch 98/100\n",
      "20316/20316 [==============================] - 0s 8us/step - loss: 0.5336 - accuracy: 0.7044 - val_loss: 0.5495 - val_accuracy: 0.6964\n",
      "Epoch 99/100\n",
      "20316/20316 [==============================] - 0s 8us/step - loss: 0.5315 - accuracy: 0.7091 - val_loss: 0.5482 - val_accuracy: 0.6942\n",
      "Epoch 100/100\n",
      "20316/20316 [==============================] - 0s 7us/step - loss: 0.5311 - accuracy: 0.7101 - val_loss: 0.5488 - val_accuracy: 0.6971\n"
     ]
    }
   ],
   "source": [
    "NJ_hist = NJ_model.fit(X_train, Y_train,\n",
    "          batch_size=1000, epochs=100,\n",
    "          validation_data=(X_val, Y_val))"
   ]
  },
  {
   "cell_type": "code",
   "execution_count": 248,
   "metadata": {},
   "outputs": [],
   "source": [
    "# NJ_model.evaluate(X_test, Y_test)[1]"
   ]
  },
  {
   "cell_type": "code",
   "execution_count": 291,
   "metadata": {},
   "outputs": [
    {
     "name": "stdout",
     "output_type": "stream",
     "text": [
      "              precision    recall  f1-score   support\n",
      "\n",
      "           1       0.00      0.00      0.00         2\n",
      "           2       0.72      0.90      0.80      4567\n",
      "           3       0.56      0.25      0.35      2193\n",
      "           4       0.00      0.00      0.00        10\n",
      "\n",
      "    accuracy                           0.69      6772\n",
      "   macro avg       0.32      0.29      0.29      6772\n",
      "weighted avg       0.66      0.69      0.65      6772\n",
      "\n"
     ]
    },
    {
     "name": "stderr",
     "output_type": "stream",
     "text": [
      "/opt/anaconda3/lib/python3.7/site-packages/sklearn/metrics/_classification.py:1272: UndefinedMetricWarning: Precision and F-score are ill-defined and being set to 0.0 in labels with no predicted samples. Use `zero_division` parameter to control this behavior.\n",
      "  _warn_prf(average, modifier, msg_start, len(result))\n"
     ]
    },
    {
     "data": {
      "image/png": "[encoded data removed]",
      "text/plain": [
       "<Figure size 432x288 with 2 Axes>"
      ]
     },
     "metadata": {
      "needs_background": "light"
     },
     "output_type": "display_data"
    }
   ],
   "source": [
    "Y_test_arr = np.array(Y_test)\n",
    "Y_test = to_categorical(Y_test)\n",
    "Y_pred = NJ_model.predict_classes(X_test)\n",
    "print(classification_report(Y_test_arr,Y_pred))\n",
    "plt.title('Confusion Matrix for High Pop Density')\n",
    "sns.heatmap(confusion_matrix(Y_test_arr, Y_pred), annot=True)\n",
    "plt.xlabel('Predicted')\n",
    "plt.ylabel('True')\n",
    "plt.show()"
   ]
  },
  {
   "cell_type": "markdown",
   "metadata": {},
   "source": [
    "# Visualizing Loss and Accuracy"
   ]
  },
  {
   "cell_type": "code",
   "execution_count": 250,
   "metadata": {},
   "outputs": [],
   "source": [
    "import matplotlib.pyplot as plt"
   ]
  },
  {
   "cell_type": "code",
   "execution_count": 251,
   "metadata": {},
   "outputs": [
    {
     "data": {
      "image/png": "[encoded data removed]",
      "text/plain": [
       "<Figure size 432x288 with 1 Axes>"
      ]
     },
     "metadata": {
      "needs_background": "light"
     },
     "output_type": "display_data"
    }
   ],
   "source": [
    "plt.plot(NJ_hist.history['loss'])\n",
    "plt.plot(NJ_hist.history['val_loss'])\n",
    "plt.title('Model loss')\n",
    "plt.ylabel('Loss')\n",
    "plt.xlabel('Epoch')\n",
    "plt.legend(['Train', 'Val'], loc='upper right')\n",
    "plt.show()"
   ]
  },
  {
   "cell_type": "code",
   "execution_count": 252,
   "metadata": {},
   "outputs": [
    {
     "data": {
      "image/png": "[encoded data removed]",
      "text/plain": [
       "<Figure size 432x288 with 1 Axes>"
      ]
     },
     "metadata": {
      "needs_background": "light"
     },
     "output_type": "display_data"
    }
   ],
   "source": [
    "plt.plot(NJ_hist.history['accuracy'])\n",
    "plt.plot(NJ_hist.history['val_accuracy'])\n",
    "plt.title('Model accuracy')\n",
    "plt.ylabel('Accuracy')\n",
    "plt.xlabel('Epoch')\n",
    "plt.legend(['Train', 'Val'], loc='lower right')\n",
    "plt.show()"
   ]
  },
  {
   "cell_type": "markdown",
   "metadata": {},
   "source": [
    "# Adding Regularization to NN"
   ]
  },
  {
   "cell_type": "code",
   "execution_count": 253,
   "metadata": {
    "collapsed": true,
    "jupyter": {
     "outputs_hidden": true
    }
   },
   "outputs": [
    {
     "name": "stdout",
     "output_type": "stream",
     "text": [
      "Train on 20316 samples, validate on 6772 samples\n",
      "Epoch 1/100\n",
      "20316/20316 [==============================] - 1s 66us/step - loss: 0.8649 - accuracy: 0.6403 - val_loss: 0.6153 - val_accuracy: 0.6679\n",
      "Epoch 2/100\n",
      "20316/20316 [==============================] - 0s 19us/step - loss: 0.5920 - accuracy: 0.6664 - val_loss: 0.5773 - val_accuracy: 0.6655\n",
      "Epoch 3/100\n",
      "20316/20316 [==============================] - 0s 19us/step - loss: 0.5760 - accuracy: 0.6710 - val_loss: 0.5626 - val_accuracy: 0.6809\n",
      "Epoch 4/100\n",
      "20316/20316 [==============================] - 0s 19us/step - loss: 0.5697 - accuracy: 0.6747 - val_loss: 0.5615 - val_accuracy: 0.6799\n",
      "Epoch 5/100\n",
      "20316/20316 [==============================] - 0s 19us/step - loss: 0.5660 - accuracy: 0.6748 - val_loss: 0.5604 - val_accuracy: 0.6763\n",
      "Epoch 6/100\n",
      "20316/20316 [==============================] - 0s 19us/step - loss: 0.5653 - accuracy: 0.6780 - val_loss: 0.5563 - val_accuracy: 0.6877\n",
      "Epoch 7/100\n",
      "20316/20316 [==============================] - 0s 19us/step - loss: 0.5592 - accuracy: 0.6799 - val_loss: 0.5546 - val_accuracy: 0.6837\n",
      "Epoch 8/100\n",
      "20316/20316 [==============================] - 0s 19us/step - loss: 0.5571 - accuracy: 0.6813 - val_loss: 0.5609 - val_accuracy: 0.6639\n",
      "Epoch 9/100\n",
      "20316/20316 [==============================] - 0s 19us/step - loss: 0.5568 - accuracy: 0.6791 - val_loss: 0.5560 - val_accuracy: 0.6785\n",
      "Epoch 10/100\n",
      "20316/20316 [==============================] - 0s 19us/step - loss: 0.5518 - accuracy: 0.6862 - val_loss: 0.5568 - val_accuracy: 0.6883\n",
      "Epoch 11/100\n",
      "20316/20316 [==============================] - 0s 19us/step - loss: 0.5504 - accuracy: 0.6842 - val_loss: 0.5552 - val_accuracy: 0.6714\n",
      "Epoch 12/100\n",
      "20316/20316 [==============================] - 0s 19us/step - loss: 0.5479 - accuracy: 0.6879 - val_loss: 0.5506 - val_accuracy: 0.6831\n",
      "Epoch 13/100\n",
      "20316/20316 [==============================] - 0s 19us/step - loss: 0.5426 - accuracy: 0.6943 - val_loss: 0.5590 - val_accuracy: 0.6642\n",
      "Epoch 14/100\n",
      "20316/20316 [==============================] - 0s 19us/step - loss: 0.5394 - accuracy: 0.6949 - val_loss: 0.5561 - val_accuracy: 0.6909\n",
      "Epoch 15/100\n",
      "20316/20316 [==============================] - 0s 19us/step - loss: 0.5404 - accuracy: 0.6991 - val_loss: 0.5554 - val_accuracy: 0.6864\n",
      "Epoch 16/100\n",
      "20316/20316 [==============================] - 0s 19us/step - loss: 0.5355 - accuracy: 0.6996 - val_loss: 0.5558 - val_accuracy: 0.6711\n",
      "Epoch 17/100\n",
      "20316/20316 [==============================] - 0s 19us/step - loss: 0.5316 - accuracy: 0.7050 - val_loss: 0.5508 - val_accuracy: 0.6818\n",
      "Epoch 18/100\n",
      "20316/20316 [==============================] - 0s 19us/step - loss: 0.5272 - accuracy: 0.7083 - val_loss: 0.5529 - val_accuracy: 0.6858\n",
      "Epoch 19/100\n",
      "20316/20316 [==============================] - 0s 19us/step - loss: 0.5280 - accuracy: 0.7066 - val_loss: 0.5517 - val_accuracy: 0.6769\n",
      "Epoch 20/100\n",
      "20316/20316 [==============================] - 0s 20us/step - loss: 0.5215 - accuracy: 0.7109 - val_loss: 0.5530 - val_accuracy: 0.6886\n",
      "Epoch 21/100\n",
      "20316/20316 [==============================] - 0s 19us/step - loss: 0.5188 - accuracy: 0.7150 - val_loss: 0.5587 - val_accuracy: 0.6889\n",
      "Epoch 22/100\n",
      "20316/20316 [==============================] - 0s 21us/step - loss: 0.5169 - accuracy: 0.7177 - val_loss: 0.5603 - val_accuracy: 0.6679\n",
      "Epoch 23/100\n",
      "20316/20316 [==============================] - 0s 20us/step - loss: 0.5135 - accuracy: 0.7185 - val_loss: 0.5577 - val_accuracy: 0.6779\n",
      "Epoch 24/100\n",
      "20316/20316 [==============================] - 0s 19us/step - loss: 0.5110 - accuracy: 0.7224 - val_loss: 0.5591 - val_accuracy: 0.6861\n",
      "Epoch 25/100\n",
      "20316/20316 [==============================] - 0s 19us/step - loss: 0.5063 - accuracy: 0.7273 - val_loss: 0.5569 - val_accuracy: 0.6847\n",
      "Epoch 26/100\n",
      "20316/20316 [==============================] - 0s 19us/step - loss: 0.5036 - accuracy: 0.7266 - val_loss: 0.5622 - val_accuracy: 0.6745\n",
      "Epoch 27/100\n",
      "20316/20316 [==============================] - 0s 19us/step - loss: 0.5038 - accuracy: 0.7265 - val_loss: 0.5538 - val_accuracy: 0.6847\n",
      "Epoch 28/100\n",
      "20316/20316 [==============================] - 0s 20us/step - loss: 0.4995 - accuracy: 0.7294 - val_loss: 0.5575 - val_accuracy: 0.6828\n",
      "Epoch 29/100\n",
      "20316/20316 [==============================] - 0s 20us/step - loss: 0.4993 - accuracy: 0.7305 - val_loss: 0.5758 - val_accuracy: 0.6936\n",
      "Epoch 30/100\n",
      "20316/20316 [==============================] - 0s 20us/step - loss: 0.4944 - accuracy: 0.7311 - val_loss: 0.5675 - val_accuracy: 0.6793\n",
      "Epoch 31/100\n",
      "20316/20316 [==============================] - 0s 19us/step - loss: 0.4934 - accuracy: 0.7328 - val_loss: 0.5637 - val_accuracy: 0.6862\n",
      "Epoch 32/100\n",
      "20316/20316 [==============================] - 0s 20us/step - loss: 0.4886 - accuracy: 0.7368 - val_loss: 0.5736 - val_accuracy: 0.6763\n",
      "Epoch 33/100\n",
      "20316/20316 [==============================] - 0s 20us/step - loss: 0.4858 - accuracy: 0.7388 - val_loss: 0.5719 - val_accuracy: 0.6809\n",
      "Epoch 34/100\n",
      "20316/20316 [==============================] - 0s 20us/step - loss: 0.4836 - accuracy: 0.7442 - val_loss: 0.5691 - val_accuracy: 0.6821\n",
      "Epoch 35/100\n",
      "20316/20316 [==============================] - 0s 20us/step - loss: 0.4794 - accuracy: 0.7474 - val_loss: 0.5871 - val_accuracy: 0.6846\n",
      "Epoch 36/100\n",
      "20316/20316 [==============================] - 0s 19us/step - loss: 0.4784 - accuracy: 0.7444 - val_loss: 0.5715 - val_accuracy: 0.6970\n",
      "Epoch 37/100\n",
      "20316/20316 [==============================] - 0s 21us/step - loss: 0.4775 - accuracy: 0.7433 - val_loss: 0.5763 - val_accuracy: 0.6821\n",
      "Epoch 38/100\n",
      "20316/20316 [==============================] - 0s 19us/step - loss: 0.4727 - accuracy: 0.7468 - val_loss: 0.5809 - val_accuracy: 0.6835\n",
      "Epoch 39/100\n",
      "20316/20316 [==============================] - 0s 20us/step - loss: 0.4706 - accuracy: 0.7497 - val_loss: 0.5951 - val_accuracy: 0.6862\n",
      "Epoch 40/100\n",
      "20316/20316 [==============================] - 0s 20us/step - loss: 0.4713 - accuracy: 0.7486 - val_loss: 0.5865 - val_accuracy: 0.6728\n",
      "Epoch 41/100\n",
      "20316/20316 [==============================] - 0s 20us/step - loss: 0.4681 - accuracy: 0.7521 - val_loss: 0.5844 - val_accuracy: 0.6909\n",
      "Epoch 42/100\n",
      "20316/20316 [==============================] - 0s 20us/step - loss: 0.4638 - accuracy: 0.7532 - val_loss: 0.5835 - val_accuracy: 0.6834\n",
      "Epoch 43/100\n",
      "20316/20316 [==============================] - 0s 20us/step - loss: 0.4644 - accuracy: 0.7497 - val_loss: 0.6066 - val_accuracy: 0.6887\n",
      "Epoch 44/100\n",
      "20316/20316 [==============================] - 0s 20us/step - loss: 0.4590 - accuracy: 0.7567 - val_loss: 0.5941 - val_accuracy: 0.6865\n",
      "Epoch 45/100\n",
      "20316/20316 [==============================] - 0s 19us/step - loss: 0.4561 - accuracy: 0.7556 - val_loss: 0.5958 - val_accuracy: 0.6748\n",
      "Epoch 46/100\n",
      "20316/20316 [==============================] - 0s 20us/step - loss: 0.4548 - accuracy: 0.7623 - val_loss: 0.6045 - val_accuracy: 0.6723\n",
      "Epoch 47/100\n",
      "20316/20316 [==============================] - 0s 19us/step - loss: 0.4526 - accuracy: 0.7625 - val_loss: 0.5997 - val_accuracy: 0.6683\n",
      "Epoch 48/100\n",
      "20316/20316 [==============================] - 0s 19us/step - loss: 0.4553 - accuracy: 0.7602 - val_loss: 0.6123 - val_accuracy: 0.6828\n",
      "Epoch 49/100\n",
      "20316/20316 [==============================] - 0s 19us/step - loss: 0.4461 - accuracy: 0.7645 - val_loss: 0.6136 - val_accuracy: 0.6723\n",
      "Epoch 50/100\n",
      "20316/20316 [==============================] - 0s 19us/step - loss: 0.4464 - accuracy: 0.7662 - val_loss: 0.6046 - val_accuracy: 0.6825\n",
      "Epoch 51/100\n",
      "20316/20316 [==============================] - 0s 19us/step - loss: 0.4432 - accuracy: 0.7689 - val_loss: 0.6160 - val_accuracy: 0.6692\n",
      "Epoch 52/100\n",
      "20316/20316 [==============================] - 0s 19us/step - loss: 0.4365 - accuracy: 0.7711 - val_loss: 0.6173 - val_accuracy: 0.6701\n",
      "Epoch 53/100\n",
      "20316/20316 [==============================] - 0s 19us/step - loss: 0.4342 - accuracy: 0.7751 - val_loss: 0.6253 - val_accuracy: 0.6701\n",
      "Epoch 54/100\n",
      "20316/20316 [==============================] - 0s 19us/step - loss: 0.4334 - accuracy: 0.7736 - val_loss: 0.6271 - val_accuracy: 0.6703\n",
      "Epoch 55/100\n",
      "20316/20316 [==============================] - 0s 19us/step - loss: 0.4310 - accuracy: 0.7787 - val_loss: 0.6207 - val_accuracy: 0.6830\n",
      "Epoch 56/100\n",
      "20316/20316 [==============================] - 0s 19us/step - loss: 0.4310 - accuracy: 0.7763 - val_loss: 0.6402 - val_accuracy: 0.6784\n",
      "Epoch 57/100\n",
      "20316/20316 [==============================] - 0s 20us/step - loss: 0.4249 - accuracy: 0.7815 - val_loss: 0.6302 - val_accuracy: 0.6720\n",
      "Epoch 58/100\n",
      "20316/20316 [==============================] - 0s 20us/step - loss: 0.4225 - accuracy: 0.7793 - val_loss: 0.6563 - val_accuracy: 0.6889\n",
      "Epoch 59/100\n",
      "20316/20316 [==============================] - 0s 19us/step - loss: 0.4216 - accuracy: 0.7810 - val_loss: 0.6407 - val_accuracy: 0.6804\n",
      "Epoch 60/100\n",
      "20316/20316 [==============================] - 0s 20us/step - loss: 0.4183 - accuracy: 0.7823 - val_loss: 0.6848 - val_accuracy: 0.6838\n",
      "Epoch 61/100\n",
      "20316/20316 [==============================] - 0s 19us/step - loss: 0.4257 - accuracy: 0.7762 - val_loss: 0.7222 - val_accuracy: 0.6931\n",
      "Epoch 62/100\n",
      "20316/20316 [==============================] - 0s 19us/step - loss: 0.4172 - accuracy: 0.7841 - val_loss: 0.6671 - val_accuracy: 0.6855\n",
      "Epoch 63/100\n",
      "20316/20316 [==============================] - 0s 19us/step - loss: 0.4096 - accuracy: 0.7889 - val_loss: 0.6596 - val_accuracy: 0.6856\n",
      "Epoch 64/100\n",
      "20316/20316 [==============================] - 0s 19us/step - loss: 0.4170 - accuracy: 0.7817 - val_loss: 0.6567 - val_accuracy: 0.6759\n",
      "Epoch 65/100\n",
      "20316/20316 [==============================] - 0s 19us/step - loss: 0.4039 - accuracy: 0.7939 - val_loss: 0.6894 - val_accuracy: 0.6887\n",
      "Epoch 66/100\n",
      "20316/20316 [==============================] - 0s 20us/step - loss: 0.4068 - accuracy: 0.7921 - val_loss: 0.6788 - val_accuracy: 0.6771\n",
      "Epoch 67/100\n",
      "20316/20316 [==============================] - 0s 20us/step - loss: 0.4007 - accuracy: 0.7961 - val_loss: 0.6755 - val_accuracy: 0.6747\n",
      "Epoch 68/100\n",
      "20316/20316 [==============================] - 0s 21us/step - loss: 0.3994 - accuracy: 0.7940 - val_loss: 0.7005 - val_accuracy: 0.6546\n",
      "Epoch 69/100\n",
      "20316/20316 [==============================] - 0s 19us/step - loss: 0.3949 - accuracy: 0.7968 - val_loss: 0.6975 - val_accuracy: 0.6776\n",
      "Epoch 70/100\n",
      "20316/20316 [==============================] - 0s 19us/step - loss: 0.3963 - accuracy: 0.8007 - val_loss: 0.7210 - val_accuracy: 0.6859\n",
      "Epoch 71/100\n",
      "20316/20316 [==============================] - 0s 19us/step - loss: 0.3932 - accuracy: 0.7987 - val_loss: 0.7029 - val_accuracy: 0.6809\n",
      "Epoch 72/100\n",
      "20316/20316 [==============================] - 0s 20us/step - loss: 0.3899 - accuracy: 0.8034 - val_loss: 0.7110 - val_accuracy: 0.6747\n",
      "Epoch 73/100\n",
      "20316/20316 [==============================] - 0s 20us/step - loss: 0.3869 - accuracy: 0.8042 - val_loss: 0.6993 - val_accuracy: 0.6771\n",
      "Epoch 74/100\n",
      "20316/20316 [==============================] - 0s 19us/step - loss: 0.3808 - accuracy: 0.8088 - val_loss: 0.7114 - val_accuracy: 0.6785\n",
      "Epoch 75/100\n",
      "20316/20316 [==============================] - 0s 20us/step - loss: 0.3875 - accuracy: 0.8043 - val_loss: 0.7314 - val_accuracy: 0.6850\n",
      "Epoch 76/100\n",
      "20316/20316 [==============================] - 0s 19us/step - loss: 0.3794 - accuracy: 0.8101 - val_loss: 0.7328 - val_accuracy: 0.6763\n",
      "Epoch 77/100\n",
      "20316/20316 [==============================] - 0s 20us/step - loss: 0.3778 - accuracy: 0.8100 - val_loss: 0.7456 - val_accuracy: 0.6813\n",
      "Epoch 78/100\n",
      "20316/20316 [==============================] - 0s 19us/step - loss: 0.3762 - accuracy: 0.8110 - val_loss: 0.7425 - val_accuracy: 0.6735\n",
      "Epoch 79/100\n",
      "20316/20316 [==============================] - 0s 20us/step - loss: 0.3756 - accuracy: 0.8108 - val_loss: 0.7597 - val_accuracy: 0.6821\n",
      "Epoch 80/100\n",
      "20316/20316 [==============================] - 0s 20us/step - loss: 0.3749 - accuracy: 0.8110 - val_loss: 0.7524 - val_accuracy: 0.6875\n",
      "Epoch 81/100\n",
      "20316/20316 [==============================] - 0s 19us/step - loss: 0.3726 - accuracy: 0.8144 - val_loss: 0.7450 - val_accuracy: 0.6793\n",
      "Epoch 82/100\n",
      "20316/20316 [==============================] - 0s 20us/step - loss: 0.3737 - accuracy: 0.8087 - val_loss: 0.7616 - val_accuracy: 0.6664\n",
      "Epoch 83/100\n",
      "20316/20316 [==============================] - 0s 21us/step - loss: 0.3629 - accuracy: 0.8177 - val_loss: 0.7579 - val_accuracy: 0.6824\n",
      "Epoch 84/100\n",
      "20316/20316 [==============================] - 0s 20us/step - loss: 0.3661 - accuracy: 0.8147 - val_loss: 0.7822 - val_accuracy: 0.6722\n",
      "Epoch 85/100\n",
      "20316/20316 [==============================] - 0s 20us/step - loss: 0.3588 - accuracy: 0.8215 - val_loss: 0.7793 - val_accuracy: 0.6732\n",
      "Epoch 86/100\n",
      "20316/20316 [==============================] - 0s 20us/step - loss: 0.3532 - accuracy: 0.8221 - val_loss: 0.7901 - val_accuracy: 0.6669\n",
      "Epoch 87/100\n",
      "20316/20316 [==============================] - 0s 20us/step - loss: 0.3576 - accuracy: 0.8197 - val_loss: 0.7876 - val_accuracy: 0.6861\n",
      "Epoch 88/100\n",
      "20316/20316 [==============================] - 0s 20us/step - loss: 0.3524 - accuracy: 0.8220 - val_loss: 0.8186 - val_accuracy: 0.6883\n",
      "Epoch 89/100\n",
      "20316/20316 [==============================] - 0s 20us/step - loss: 0.3545 - accuracy: 0.8223 - val_loss: 0.8243 - val_accuracy: 0.6546\n",
      "Epoch 90/100\n",
      "20316/20316 [==============================] - 0s 20us/step - loss: 0.3534 - accuracy: 0.8237 - val_loss: 0.8090 - val_accuracy: 0.6691\n",
      "Epoch 91/100\n",
      "20316/20316 [==============================] - 0s 19us/step - loss: 0.3472 - accuracy: 0.8277 - val_loss: 0.8162 - val_accuracy: 0.6778\n",
      "Epoch 92/100\n",
      "20316/20316 [==============================] - 0s 19us/step - loss: 0.3519 - accuracy: 0.8249 - val_loss: 0.8086 - val_accuracy: 0.6737\n",
      "Epoch 93/100\n",
      "20316/20316 [==============================] - 0s 19us/step - loss: 0.3517 - accuracy: 0.8229 - val_loss: 0.8388 - val_accuracy: 0.6757\n",
      "Epoch 94/100\n",
      "20316/20316 [==============================] - 0s 20us/step - loss: 0.3480 - accuracy: 0.8271 - val_loss: 0.8073 - val_accuracy: 0.6841\n",
      "Epoch 95/100\n",
      "20316/20316 [==============================] - 0s 21us/step - loss: 0.3488 - accuracy: 0.8254 - val_loss: 0.8311 - val_accuracy: 0.6918\n",
      "Epoch 96/100\n",
      "20316/20316 [==============================] - 0s 20us/step - loss: 0.3408 - accuracy: 0.8323 - val_loss: 0.8399 - val_accuracy: 0.6738\n",
      "Epoch 97/100\n",
      "20316/20316 [==============================] - 0s 20us/step - loss: 0.3387 - accuracy: 0.8297 - val_loss: 0.8358 - val_accuracy: 0.6735\n",
      "Epoch 98/100\n",
      "20316/20316 [==============================] - 0s 22us/step - loss: 0.3312 - accuracy: 0.8373 - val_loss: 0.8539 - val_accuracy: 0.6757\n",
      "Epoch 99/100\n",
      "20316/20316 [==============================] - 0s 21us/step - loss: 0.3399 - accuracy: 0.8290 - val_loss: 0.9026 - val_accuracy: 0.6902\n",
      "Epoch 100/100\n",
      "20316/20316 [==============================] - 0s 20us/step - loss: 0.3457 - accuracy: 0.8284 - val_loss: 0.8664 - val_accuracy: 0.6782\n"
     ]
    }
   ],
   "source": [
    "NJ_model_2 = Sequential([\n",
    "    Dense(100, activation='relu'),\n",
    "    Dense(100, activation='relu'),\n",
    "    Dense(100, activation='relu'),\n",
    "    Dense(100, activation='relu'),\n",
    "    Dense(5, activation='softmax'),\n",
    "])\n",
    "NJ_model_2.compile(optimizer='adam',\n",
    "              loss='categorical_crossentropy',\n",
    "              metrics=['accuracy'])\n",
    "NJ_hist_2 = NJ_model_2.fit(X_train, Y_train,\n",
    "          batch_size=500, epochs=100,\n",
    "          validation_data=(X_val, Y_val))"
   ]
  },
  {
   "cell_type": "code",
   "execution_count": 254,
   "metadata": {},
   "outputs": [
    {
     "name": "stderr",
     "output_type": "stream",
     "text": [
      "/opt/anaconda3/lib/python3.7/site-packages/sklearn/metrics/_classification.py:1272: UndefinedMetricWarning: Precision and F-score are ill-defined and being set to 0.0 in labels with no predicted samples. Use `zero_division` parameter to control this behavior.\n",
      "  _warn_prf(average, modifier, msg_start, len(result))\n"
     ]
    },
    {
     "name": "stdout",
     "output_type": "stream",
     "text": [
      "              precision    recall  f1-score   support\n",
      "\n",
      "           1       0.00      0.00      0.00         3\n",
      "           2       0.77      0.78      0.78      4641\n",
      "           3       0.50      0.49      0.50      2117\n",
      "           4       0.00      0.00      0.00        11\n",
      "\n",
      "    accuracy                           0.69      6772\n",
      "   macro avg       0.32      0.32      0.32      6772\n",
      "weighted avg       0.69      0.69      0.69      6772\n",
      "\n"
     ]
    },
    {
     "data": {
      "image/png": "[encoded data removed]",
      "text/plain": [
       "<Figure size 432x288 with 2 Axes>"
      ]
     },
     "metadata": {
      "needs_background": "light"
     },
     "output_type": "display_data"
    }
   ],
   "source": [
    "Y_pred = NJ_model_2.predict_classes(X_test)\n",
    "print(classification_report(Y_test_arr,Y_pred))\n",
    "plt.title('Confusion Matrix for Low Pop Density')\n",
    "sns.heatmap(confusion_matrix(Y_test_arr, Y_pred), annot=True)\n",
    "plt.xlabel('Predicted')\n",
    "plt.ylabel('True')\n",
    "plt.show()"
   ]
  },
  {
   "cell_type": "code",
   "execution_count": 255,
   "metadata": {},
   "outputs": [
    {
     "data": {
      "image/png": "[encoded data removed]",
      "text/plain": [
       "<Figure size 432x288 with 1 Axes>"
      ]
     },
     "metadata": {
      "needs_background": "light"
     },
     "output_type": "display_data"
    }
   ],
   "source": [
    "plt.plot(NJ_hist_2.history['loss'])\n",
    "plt.plot(NJ_hist_2.history['val_loss'])\n",
    "plt.title('Model loss')\n",
    "plt.ylabel('Loss')\n",
    "plt.xlabel('Epoch')\n",
    "plt.legend(['Train', 'Val'], loc='upper right')\n",
    "plt.show()"
   ]
  },
  {
   "cell_type": "code",
   "execution_count": 256,
   "metadata": {},
   "outputs": [
    {
     "data": {
      "image/png": "[encoded data removed]",
      "text/plain": [
       "<Figure size 432x288 with 1 Axes>"
      ]
     },
     "metadata": {
      "needs_background": "light"
     },
     "output_type": "display_data"
    }
   ],
   "source": [
    "plt.plot(NJ_hist_2.history['accuracy'])\n",
    "plt.plot(NJ_hist_2.history['val_accuracy'])\n",
    "plt.title('Model accuracy')\n",
    "plt.ylabel('Accuracy')\n",
    "plt.xlabel('Epoch')\n",
    "plt.legend(['Train', 'Val'], loc='lower right')\n",
    "plt.show()"
   ]
  },
  {
   "cell_type": "code",
   "execution_count": 257,
   "metadata": {},
   "outputs": [],
   "source": [
    "from keras.layers import Dropout\n",
    "from keras import regularizers"
   ]
  },
  {
   "cell_type": "code",
   "execution_count": 258,
   "metadata": {},
   "outputs": [],
   "source": [
    "NJ_model_3 = Sequential([\n",
    "    Dense(100, activation='relu', kernel_regularizer=regularizers.l2(0.01)),\n",
    "    Dropout(0.3),\n",
    "    Dense(100, activation='relu', kernel_regularizer=regularizers.l2(0.01)),\n",
    "    Dropout(0.3),\n",
    "    Dense(100, activation='relu', kernel_regularizer=regularizers.l2(0.01)),\n",
    "    Dropout(0.3),\n",
    "    Dense(100, activation='relu', kernel_regularizer=regularizers.l2(0.01)),\n",
    "    Dropout(0.3),\n",
    "    Dense(5, activation='softmax', kernel_regularizer=regularizers.l2(0.01)),\n",
    "])"
   ]
  },
  {
   "cell_type": "code",
   "execution_count": 259,
   "metadata": {
    "collapsed": true,
    "jupyter": {
     "outputs_hidden": true
    }
   },
   "outputs": [
    {
     "name": "stdout",
     "output_type": "stream",
     "text": [
      "Train on 20316 samples, validate on 6772 samples\n",
      "Epoch 1/100\n",
      "20316/20316 [==============================] - 3s 131us/step - loss: 3.8840 - accuracy: 0.5823 - val_loss: 2.7717 - val_accuracy: 0.6790\n",
      "Epoch 2/100\n",
      "20316/20316 [==============================] - 1s 42us/step - loss: 2.2926 - accuracy: 0.6503 - val_loss: 1.7843 - val_accuracy: 0.6790\n",
      "Epoch 3/100\n",
      "20316/20316 [==============================] - 1s 42us/step - loss: 1.5381 - accuracy: 0.6633 - val_loss: 1.2634 - val_accuracy: 0.6790\n",
      "Epoch 4/100\n",
      "20316/20316 [==============================] - 1s 42us/step - loss: 1.1449 - accuracy: 0.6678 - val_loss: 0.9978 - val_accuracy: 0.6790\n",
      "Epoch 5/100\n",
      "20316/20316 [==============================] - 1s 42us/step - loss: 0.9469 - accuracy: 0.6699 - val_loss: 0.8635 - val_accuracy: 0.6790\n",
      "Epoch 6/100\n",
      "20316/20316 [==============================] - 1s 42us/step - loss: 0.8422 - accuracy: 0.6699 - val_loss: 0.7931 - val_accuracy: 0.6790\n",
      "Epoch 7/100\n",
      "20316/20316 [==============================] - 1s 42us/step - loss: 0.7907 - accuracy: 0.6701 - val_loss: 0.7560 - val_accuracy: 0.6790\n",
      "Epoch 8/100\n",
      "20316/20316 [==============================] - 1s 44us/step - loss: 0.7582 - accuracy: 0.6701 - val_loss: 0.7337 - val_accuracy: 0.6790\n",
      "Epoch 9/100\n",
      "20316/20316 [==============================] - 1s 42us/step - loss: 0.7392 - accuracy: 0.6701 - val_loss: 0.7199 - val_accuracy: 0.6790\n",
      "Epoch 10/100\n",
      "20316/20316 [==============================] - 1s 42us/step - loss: 0.7276 - accuracy: 0.6701 - val_loss: 0.7118 - val_accuracy: 0.6790\n",
      "Epoch 11/100\n",
      "20316/20316 [==============================] - 1s 42us/step - loss: 0.7208 - accuracy: 0.6701 - val_loss: 0.7045 - val_accuracy: 0.6790\n",
      "Epoch 12/100\n",
      "20316/20316 [==============================] - 1s 43us/step - loss: 0.7132 - accuracy: 0.6701 - val_loss: 0.6984 - val_accuracy: 0.6790\n",
      "Epoch 13/100\n",
      "20316/20316 [==============================] - 1s 48us/step - loss: 0.7078 - accuracy: 0.6701 - val_loss: 0.6938 - val_accuracy: 0.6790\n",
      "Epoch 14/100\n",
      "20316/20316 [==============================] - 1s 49us/step - loss: 0.7038 - accuracy: 0.6701 - val_loss: 0.6903 - val_accuracy: 0.6790\n",
      "Epoch 15/100\n",
      "20316/20316 [==============================] - 1s 50us/step - loss: 0.6989 - accuracy: 0.6701 - val_loss: 0.6878 - val_accuracy: 0.6790\n",
      "Epoch 16/100\n",
      "20316/20316 [==============================] - 1s 49us/step - loss: 0.6964 - accuracy: 0.6701 - val_loss: 0.6846 - val_accuracy: 0.6790\n",
      "Epoch 17/100\n",
      "20316/20316 [==============================] - 1s 49us/step - loss: 0.6930 - accuracy: 0.6701 - val_loss: 0.6817 - val_accuracy: 0.6790\n",
      "Epoch 18/100\n",
      "20316/20316 [==============================] - 1s 50us/step - loss: 0.6905 - accuracy: 0.6701 - val_loss: 0.6801 - val_accuracy: 0.6790\n",
      "Epoch 19/100\n",
      "20316/20316 [==============================] - 1s 47us/step - loss: 0.6897 - accuracy: 0.6701 - val_loss: 0.6785 - val_accuracy: 0.6790\n",
      "Epoch 20/100\n",
      "20316/20316 [==============================] - 1s 45us/step - loss: 0.6869 - accuracy: 0.6701 - val_loss: 0.6762 - val_accuracy: 0.6790\n",
      "Epoch 21/100\n",
      "20316/20316 [==============================] - 1s 44us/step - loss: 0.6857 - accuracy: 0.6701 - val_loss: 0.6745 - val_accuracy: 0.6790\n",
      "Epoch 22/100\n",
      "20316/20316 [==============================] - 1s 44us/step - loss: 0.6832 - accuracy: 0.6701 - val_loss: 0.6730 - val_accuracy: 0.6790\n",
      "Epoch 23/100\n",
      "20316/20316 [==============================] - 1s 42us/step - loss: 0.6815 - accuracy: 0.6701 - val_loss: 0.6717 - val_accuracy: 0.6790\n",
      "Epoch 24/100\n",
      "20316/20316 [==============================] - 1s 43us/step - loss: 0.6807 - accuracy: 0.6701 - val_loss: 0.6716 - val_accuracy: 0.6790\n",
      "Epoch 25/100\n",
      "20316/20316 [==============================] - 1s 42us/step - loss: 0.6794 - accuracy: 0.6701 - val_loss: 0.6709 - val_accuracy: 0.6790\n",
      "Epoch 26/100\n",
      "20316/20316 [==============================] - 1s 43us/step - loss: 0.6780 - accuracy: 0.6701 - val_loss: 0.6685 - val_accuracy: 0.6790\n",
      "Epoch 27/100\n",
      "20316/20316 [==============================] - 1s 44us/step - loss: 0.6772 - accuracy: 0.6701 - val_loss: 0.6678 - val_accuracy: 0.6790\n",
      "Epoch 28/100\n",
      "20316/20316 [==============================] - 1s 44us/step - loss: 0.6759 - accuracy: 0.6701 - val_loss: 0.6669 - val_accuracy: 0.6790\n",
      "Epoch 29/100\n",
      "20316/20316 [==============================] - 1s 45us/step - loss: 0.6755 - accuracy: 0.6701 - val_loss: 0.6666 - val_accuracy: 0.6790\n",
      "Epoch 30/100\n",
      "20316/20316 [==============================] - 1s 44us/step - loss: 0.6745 - accuracy: 0.6701 - val_loss: 0.6653 - val_accuracy: 0.6790\n",
      "Epoch 31/100\n",
      "20316/20316 [==============================] - 1s 45us/step - loss: 0.6733 - accuracy: 0.6701 - val_loss: 0.6647 - val_accuracy: 0.6790\n",
      "Epoch 32/100\n",
      "20316/20316 [==============================] - 1s 44us/step - loss: 0.6726 - accuracy: 0.6701 - val_loss: 0.6642 - val_accuracy: 0.6790\n",
      "Epoch 33/100\n",
      "20316/20316 [==============================] - 1s 44us/step - loss: 0.6733 - accuracy: 0.6701 - val_loss: 0.6631 - val_accuracy: 0.6790\n",
      "Epoch 34/100\n",
      "20316/20316 [==============================] - 1s 45us/step - loss: 0.6722 - accuracy: 0.6701 - val_loss: 0.6627 - val_accuracy: 0.6790\n",
      "Epoch 35/100\n",
      "20316/20316 [==============================] - 1s 45us/step - loss: 0.6715 - accuracy: 0.6701 - val_loss: 0.6620 - val_accuracy: 0.6790\n",
      "Epoch 36/100\n",
      "20316/20316 [==============================] - 1s 44us/step - loss: 0.6701 - accuracy: 0.6701 - val_loss: 0.6617 - val_accuracy: 0.6790\n",
      "Epoch 37/100\n",
      "20316/20316 [==============================] - 1s 43us/step - loss: 0.6708 - accuracy: 0.6701 - val_loss: 0.6613 - val_accuracy: 0.6790\n",
      "Epoch 38/100\n",
      "20316/20316 [==============================] - 1s 43us/step - loss: 0.6692 - accuracy: 0.6701 - val_loss: 0.6604 - val_accuracy: 0.6790\n",
      "Epoch 39/100\n",
      "20316/20316 [==============================] - 1s 43us/step - loss: 0.6692 - accuracy: 0.6701 - val_loss: 0.6600 - val_accuracy: 0.6790\n",
      "Epoch 40/100\n",
      "20316/20316 [==============================] - 1s 43us/step - loss: 0.6687 - accuracy: 0.6701 - val_loss: 0.6598 - val_accuracy: 0.6790\n",
      "Epoch 41/100\n",
      "20316/20316 [==============================] - 1s 43us/step - loss: 0.6680 - accuracy: 0.6701 - val_loss: 0.6592 - val_accuracy: 0.6790\n",
      "Epoch 42/100\n",
      "20316/20316 [==============================] - 1s 43us/step - loss: 0.6685 - accuracy: 0.6701 - val_loss: 0.6587 - val_accuracy: 0.6790\n",
      "Epoch 43/100\n",
      "20316/20316 [==============================] - 1s 43us/step - loss: 0.6668 - accuracy: 0.6701 - val_loss: 0.6605 - val_accuracy: 0.6790\n",
      "Epoch 44/100\n",
      "20316/20316 [==============================] - 1s 45us/step - loss: 0.6663 - accuracy: 0.6701 - val_loss: 0.6583 - val_accuracy: 0.6790\n",
      "Epoch 45/100\n",
      "20316/20316 [==============================] - 1s 45us/step - loss: 0.6661 - accuracy: 0.6701 - val_loss: 0.6575 - val_accuracy: 0.6790\n",
      "Epoch 46/100\n",
      "20316/20316 [==============================] - 1s 45us/step - loss: 0.6664 - accuracy: 0.6701 - val_loss: 0.6582 - val_accuracy: 0.6790\n",
      "Epoch 47/100\n",
      "20316/20316 [==============================] - 1s 45us/step - loss: 0.6656 - accuracy: 0.6701 - val_loss: 0.6571 - val_accuracy: 0.6790\n",
      "Epoch 48/100\n",
      "20316/20316 [==============================] - 1s 44us/step - loss: 0.6657 - accuracy: 0.6701 - val_loss: 0.6568 - val_accuracy: 0.6790\n",
      "Epoch 49/100\n",
      "20316/20316 [==============================] - 1s 44us/step - loss: 0.6658 - accuracy: 0.6701 - val_loss: 0.6566 - val_accuracy: 0.6790\n",
      "Epoch 50/100\n",
      "20316/20316 [==============================] - 1s 44us/step - loss: 0.6643 - accuracy: 0.6701 - val_loss: 0.6588 - val_accuracy: 0.6790\n",
      "Epoch 51/100\n",
      "20316/20316 [==============================] - 1s 43us/step - loss: 0.6648 - accuracy: 0.6701 - val_loss: 0.6588 - val_accuracy: 0.6790\n",
      "Epoch 52/100\n",
      "20316/20316 [==============================] - 1s 44us/step - loss: 0.6639 - accuracy: 0.6701 - val_loss: 0.6567 - val_accuracy: 0.6790\n",
      "Epoch 53/100\n",
      "20316/20316 [==============================] - 1s 43us/step - loss: 0.6645 - accuracy: 0.6701 - val_loss: 0.6563 - val_accuracy: 0.6790\n",
      "Epoch 54/100\n",
      "20316/20316 [==============================] - 1s 43us/step - loss: 0.6632 - accuracy: 0.6701 - val_loss: 0.6563 - val_accuracy: 0.6790\n",
      "Epoch 55/100\n",
      "20316/20316 [==============================] - 1s 43us/step - loss: 0.6634 - accuracy: 0.6701 - val_loss: 0.6564 - val_accuracy: 0.6790\n",
      "Epoch 56/100\n",
      "20316/20316 [==============================] - 1s 45us/step - loss: 0.6634 - accuracy: 0.6701 - val_loss: 0.6556 - val_accuracy: 0.6790\n",
      "Epoch 57/100\n",
      "20316/20316 [==============================] - 1s 45us/step - loss: 0.6630 - accuracy: 0.6701 - val_loss: 0.6564 - val_accuracy: 0.6790\n",
      "Epoch 58/100\n",
      "20316/20316 [==============================] - 1s 44us/step - loss: 0.6627 - accuracy: 0.6701 - val_loss: 0.6541 - val_accuracy: 0.6790\n",
      "Epoch 59/100\n",
      "20316/20316 [==============================] - 1s 44us/step - loss: 0.6629 - accuracy: 0.6701 - val_loss: 0.6539 - val_accuracy: 0.6790\n",
      "Epoch 60/100\n",
      "20316/20316 [==============================] - 1s 45us/step - loss: 0.6627 - accuracy: 0.6701 - val_loss: 0.6539 - val_accuracy: 0.6790\n",
      "Epoch 61/100\n",
      "20316/20316 [==============================] - 1s 44us/step - loss: 0.6615 - accuracy: 0.6701 - val_loss: 0.6534 - val_accuracy: 0.6790\n",
      "Epoch 62/100\n",
      "20316/20316 [==============================] - 1s 43us/step - loss: 0.6610 - accuracy: 0.6701 - val_loss: 0.6540 - val_accuracy: 0.6790\n",
      "Epoch 63/100\n",
      "20316/20316 [==============================] - 1s 43us/step - loss: 0.6620 - accuracy: 0.6701 - val_loss: 0.6531 - val_accuracy: 0.6790\n",
      "Epoch 64/100\n",
      "20316/20316 [==============================] - 1s 43us/step - loss: 0.6604 - accuracy: 0.6701 - val_loss: 0.6531 - val_accuracy: 0.6790\n",
      "Epoch 65/100\n",
      "20316/20316 [==============================] - 1s 43us/step - loss: 0.6606 - accuracy: 0.6701 - val_loss: 0.6537 - val_accuracy: 0.6790\n",
      "Epoch 66/100\n",
      "20316/20316 [==============================] - 1s 43us/step - loss: 0.6610 - accuracy: 0.6701 - val_loss: 0.6525 - val_accuracy: 0.6790\n",
      "Epoch 67/100\n",
      "20316/20316 [==============================] - 1s 43us/step - loss: 0.6612 - accuracy: 0.6701 - val_loss: 0.6527 - val_accuracy: 0.6790\n",
      "Epoch 68/100\n",
      "20316/20316 [==============================] - 1s 46us/step - loss: 0.6608 - accuracy: 0.6701 - val_loss: 0.6523 - val_accuracy: 0.6790\n",
      "Epoch 69/100\n",
      "20316/20316 [==============================] - 1s 44us/step - loss: 0.6601 - accuracy: 0.6701 - val_loss: 0.6522 - val_accuracy: 0.6790\n",
      "Epoch 70/100\n",
      "20316/20316 [==============================] - 1s 45us/step - loss: 0.6602 - accuracy: 0.6701 - val_loss: 0.6519 - val_accuracy: 0.6790\n",
      "Epoch 71/100\n",
      "20316/20316 [==============================] - 1s 46us/step - loss: 0.6597 - accuracy: 0.6701 - val_loss: 0.6516 - val_accuracy: 0.6790\n",
      "Epoch 72/100\n",
      "20316/20316 [==============================] - 1s 44us/step - loss: 0.6597 - accuracy: 0.6701 - val_loss: 0.6514 - val_accuracy: 0.6790\n",
      "Epoch 73/100\n",
      "20316/20316 [==============================] - 1s 45us/step - loss: 0.6594 - accuracy: 0.6701 - val_loss: 0.6513 - val_accuracy: 0.6790\n",
      "Epoch 74/100\n",
      "20316/20316 [==============================] - 1s 44us/step - loss: 0.6597 - accuracy: 0.6701 - val_loss: 0.6511 - val_accuracy: 0.6790\n",
      "Epoch 75/100\n",
      "20316/20316 [==============================] - 1s 44us/step - loss: 0.6601 - accuracy: 0.6701 - val_loss: 0.6510 - val_accuracy: 0.6790\n",
      "Epoch 76/100\n",
      "20316/20316 [==============================] - 1s 44us/step - loss: 0.6594 - accuracy: 0.6701 - val_loss: 0.6508 - val_accuracy: 0.6790\n",
      "Epoch 77/100\n",
      "20316/20316 [==============================] - 1s 43us/step - loss: 0.6590 - accuracy: 0.6701 - val_loss: 0.6507 - val_accuracy: 0.6790\n",
      "Epoch 78/100\n",
      "20316/20316 [==============================] - 1s 43us/step - loss: 0.6585 - accuracy: 0.6701 - val_loss: 0.6508 - val_accuracy: 0.6790\n",
      "Epoch 79/100\n",
      "20316/20316 [==============================] - 1s 43us/step - loss: 0.6587 - accuracy: 0.6701 - val_loss: 0.6511 - val_accuracy: 0.6790\n",
      "Epoch 80/100\n",
      "20316/20316 [==============================] - 1s 44us/step - loss: 0.6590 - accuracy: 0.6701 - val_loss: 0.6504 - val_accuracy: 0.6790\n",
      "Epoch 81/100\n",
      "20316/20316 [==============================] - 1s 43us/step - loss: 0.6587 - accuracy: 0.6701 - val_loss: 0.6505 - val_accuracy: 0.6790\n",
      "Epoch 82/100\n",
      "20316/20316 [==============================] - 1s 44us/step - loss: 0.6579 - accuracy: 0.6701 - val_loss: 0.6500 - val_accuracy: 0.6790\n",
      "Epoch 83/100\n",
      "20316/20316 [==============================] - 1s 42us/step - loss: 0.6585 - accuracy: 0.6701 - val_loss: 0.6503 - val_accuracy: 0.6790\n",
      "Epoch 84/100\n",
      "20316/20316 [==============================] - 1s 43us/step - loss: 0.6576 - accuracy: 0.6701 - val_loss: 0.6498 - val_accuracy: 0.6790\n",
      "Epoch 85/100\n",
      "20316/20316 [==============================] - 1s 42us/step - loss: 0.6584 - accuracy: 0.6701 - val_loss: 0.6503 - val_accuracy: 0.6790\n",
      "Epoch 86/100\n",
      "20316/20316 [==============================] - 1s 44us/step - loss: 0.6578 - accuracy: 0.6701 - val_loss: 0.6501 - val_accuracy: 0.6790\n",
      "Epoch 87/100\n",
      "20316/20316 [==============================] - 1s 44us/step - loss: 0.6574 - accuracy: 0.6701 - val_loss: 0.6497 - val_accuracy: 0.6790\n",
      "Epoch 88/100\n",
      "20316/20316 [==============================] - 1s 44us/step - loss: 0.6578 - accuracy: 0.6701 - val_loss: 0.6494 - val_accuracy: 0.6790\n",
      "Epoch 89/100\n",
      "20316/20316 [==============================] - 1s 44us/step - loss: 0.6576 - accuracy: 0.6701 - val_loss: 0.6507 - val_accuracy: 0.6790\n",
      "Epoch 90/100\n",
      "20316/20316 [==============================] - 1s 45us/step - loss: 0.6577 - accuracy: 0.6701 - val_loss: 0.6494 - val_accuracy: 0.6790\n",
      "Epoch 91/100\n",
      "20316/20316 [==============================] - 1s 43us/step - loss: 0.6574 - accuracy: 0.6701 - val_loss: 0.6510 - val_accuracy: 0.6790\n",
      "Epoch 92/100\n",
      "20316/20316 [==============================] - 1s 46us/step - loss: 0.6578 - accuracy: 0.6701 - val_loss: 0.6490 - val_accuracy: 0.6790\n",
      "Epoch 93/100\n",
      "20316/20316 [==============================] - 1s 43us/step - loss: 0.6572 - accuracy: 0.6701 - val_loss: 0.6489 - val_accuracy: 0.6790\n",
      "Epoch 94/100\n",
      "20316/20316 [==============================] - 1s 43us/step - loss: 0.6573 - accuracy: 0.6701 - val_loss: 0.6509 - val_accuracy: 0.6790\n",
      "Epoch 95/100\n",
      "20316/20316 [==============================] - 1s 43us/step - loss: 0.6566 - accuracy: 0.6701 - val_loss: 0.6489 - val_accuracy: 0.6790\n",
      "Epoch 96/100\n",
      "20316/20316 [==============================] - 1s 43us/step - loss: 0.6566 - accuracy: 0.6701 - val_loss: 0.6501 - val_accuracy: 0.6790\n",
      "Epoch 97/100\n",
      "20316/20316 [==============================] - 1s 44us/step - loss: 0.6565 - accuracy: 0.6701 - val_loss: 0.6487 - val_accuracy: 0.6790\n",
      "Epoch 98/100\n",
      "20316/20316 [==============================] - 1s 45us/step - loss: 0.6568 - accuracy: 0.6701 - val_loss: 0.6489 - val_accuracy: 0.6790\n",
      "Epoch 99/100\n",
      "20316/20316 [==============================] - 1s 45us/step - loss: 0.6563 - accuracy: 0.6701 - val_loss: 0.6487 - val_accuracy: 0.6790\n",
      "Epoch 100/100\n",
      "20316/20316 [==============================] - 1s 45us/step - loss: 0.6563 - accuracy: 0.6701 - val_loss: 0.6492 - val_accuracy: 0.6790\n"
     ]
    }
   ],
   "source": [
    "NJ_model_3.compile(optimizer='adam',\n",
    "              loss='categorical_crossentropy',\n",
    "              metrics=['accuracy'])\n",
    "NJ_hist_3 = NJ_model_3.fit(X_train, Y_train,\n",
    "          batch_size=500, epochs=100,\n",
    "          validation_data=(X_val, Y_val))"
   ]
  },
  {
   "cell_type": "code",
   "execution_count": 281,
   "metadata": {},
   "outputs": [
    {
     "name": "stderr",
     "output_type": "stream",
     "text": [
      "/opt/anaconda3/lib/python3.7/site-packages/sklearn/metrics/_classification.py:1272: UndefinedMetricWarning: Precision and F-score are ill-defined and being set to 0.0 in labels with no predicted samples. Use `zero_division` parameter to control this behavior.\n",
      "  _warn_prf(average, modifier, msg_start, len(result))\n"
     ]
    },
    {
     "name": "stdout",
     "output_type": "stream",
     "text": [
      "              precision    recall  f1-score   support\n",
      "\n",
      "           1       0.00      0.00      0.00         3\n",
      "           2       0.85      1.00      0.92      3589\n",
      "           3       0.00      0.00      0.00       649\n",
      "           4       0.00      0.00      0.00         1\n",
      "\n",
      "    accuracy                           0.85      4242\n",
      "   macro avg       0.21      0.25      0.23      4242\n",
      "weighted avg       0.72      0.85      0.78      4242\n",
      "\n"
     ]
    },
    {
     "data": {
      "image/png": "[encoded data removed]",
      "text/plain": [
       "<Figure size 432x288 with 2 Axes>"
      ]
     },
     "metadata": {
      "needs_background": "light"
     },
     "output_type": "display_data"
    }
   ],
   "source": [
    "Y_pred = NJ_model_3.predict_classes(X_test)\n",
    "print(classification_report(Y_test_arr,Y_pred))\n",
    "plt.title('Confusion Matrix for High Pop Density')\n",
    "sns.heatmap(confusion_matrix(Y_test_arr, Y_pred), annot=True)\n",
    "plt.xlabel('Predicted')\n",
    "plt.ylabel('True')\n",
    "plt.show()"
   ]
  },
  {
   "cell_type": "code",
   "execution_count": 261,
   "metadata": {},
   "outputs": [
    {
     "data": {
      "image/png": "[encoded data removed]",
      "text/plain": [
       "<Figure size 432x288 with 1 Axes>"
      ]
     },
     "metadata": {
      "needs_background": "light"
     },
     "output_type": "display_data"
    }
   ],
   "source": [
    "plt.plot(NJ_hist_3.history['loss'])\n",
    "plt.plot(NJ_hist_3.history['val_loss'])\n",
    "plt.title('Model loss')\n",
    "plt.ylabel('Loss')\n",
    "plt.xlabel('Epoch')\n",
    "plt.legend(['Train', 'Val'], loc='upper right')\n",
    "plt.ylim(top=1.2, bottom=0)\n",
    "plt.show()"
   ]
  },
  {
   "cell_type": "code",
   "execution_count": 262,
   "metadata": {},
   "outputs": [
    {
     "data": {
      "image/png": "[encoded data removed]",
      "text/plain": [
       "<Figure size 432x288 with 1 Axes>"
      ]
     },
     "metadata": {
      "needs_background": "light"
     },
     "output_type": "display_data"
    }
   ],
   "source": [
    "plt.plot(NJ_hist_3.history['accuracy'])\n",
    "plt.plot(NJ_hist_3.history['val_accuracy'])\n",
    "plt.title('Model accuracy')\n",
    "plt.ylabel('Accuracy')\n",
    "plt.xlabel('Epoch')\n",
    "plt.legend(['Train', 'Val'], loc='lower right')\n",
    "plt.show()"
   ]
  },
  {
   "cell_type": "markdown",
   "metadata": {},
   "source": [
    "# NE-NN"
   ]
  },
  {
   "cell_type": "code",
   "execution_count": 263,
   "metadata": {},
   "outputs": [
    {
     "name": "stdout",
     "output_type": "stream",
     "text": [
      "(12723, 40) (4241, 40) (4242, 40) (12723,) (4241,) (4242,)\n"
     ]
    }
   ],
   "source": [
    "X_train, X_val_and_test, Y_train, Y_val_and_test = train_test_split(X_NE_scale, y_NE, test_size=0.4)\n",
    "X_val, X_test, Y_val, Y_test = train_test_split(X_val_and_test, Y_val_and_test, test_size=0.5)\n",
    "print(X_train.shape, X_val.shape, X_test.shape, Y_train.shape, Y_val.shape, Y_test.shape)"
   ]
  },
  {
   "cell_type": "code",
   "execution_count": 264,
   "metadata": {},
   "outputs": [],
   "source": [
    "from keras.models import Sequential\n",
    "from keras.layers import Dense"
   ]
  },
  {
   "cell_type": "code",
   "execution_count": 265,
   "metadata": {},
   "outputs": [],
   "source": [
    "NE_model = Sequential([\n",
    "    Dense(32, activation='relu'),\n",
    "    Dense(32, activation='relu'),\n",
    "    Dense(5 , activation='softmax')\n",
    "])\n",
    "NE_model.compile(optimizer='adam',\n",
    "              loss='categorical_crossentropy',\n",
    "              metrics=['accuracy'])\n",
    "Y_train = to_categorical(Y_train)\n",
    "Y_val = to_categorical(Y_val)"
   ]
  },
  {
   "cell_type": "code",
   "execution_count": 266,
   "metadata": {
    "collapsed": true,
    "jupyter": {
     "outputs_hidden": true
    }
   },
   "outputs": [
    {
     "name": "stdout",
     "output_type": "stream",
     "text": [
      "Train on 12723 samples, validate on 4241 samples\n",
      "Epoch 1/100\n",
      "12723/12723 [==============================] - 1s 65us/step - loss: 1.2996 - accuracy: 0.5611 - val_loss: 1.0756 - val_accuracy: 0.8326\n",
      "Epoch 2/100\n",
      "12723/12723 [==============================] - 0s 7us/step - loss: 0.9011 - accuracy: 0.8455 - val_loss: 0.7363 - val_accuracy: 0.8371\n",
      "Epoch 3/100\n",
      "12723/12723 [==============================] - 0s 7us/step - loss: 0.6236 - accuracy: 0.8460 - val_loss: 0.5488 - val_accuracy: 0.8371\n",
      "Epoch 4/100\n",
      "12723/12723 [==============================] - 0s 8us/step - loss: 0.4879 - accuracy: 0.8460 - val_loss: 0.4634 - val_accuracy: 0.8371\n",
      "Epoch 5/100\n",
      "12723/12723 [==============================] - 0s 8us/step - loss: 0.4221 - accuracy: 0.8460 - val_loss: 0.4156 - val_accuracy: 0.8371\n",
      "Epoch 6/100\n",
      "12723/12723 [==============================] - 0s 8us/step - loss: 0.3840 - accuracy: 0.8460 - val_loss: 0.3854 - val_accuracy: 0.8371\n",
      "Epoch 7/100\n",
      "12723/12723 [==============================] - 0s 8us/step - loss: 0.3590 - accuracy: 0.8461 - val_loss: 0.3661 - val_accuracy: 0.8373\n",
      "Epoch 8/100\n",
      "12723/12723 [==============================] - 0s 8us/step - loss: 0.3430 - accuracy: 0.8459 - val_loss: 0.3540 - val_accuracy: 0.8373\n",
      "Epoch 9/100\n",
      "12723/12723 [==============================] - 0s 8us/step - loss: 0.3316 - accuracy: 0.8462 - val_loss: 0.3445 - val_accuracy: 0.8373\n",
      "Epoch 10/100\n",
      "12723/12723 [==============================] - 0s 7us/step - loss: 0.3233 - accuracy: 0.8476 - val_loss: 0.3385 - val_accuracy: 0.8371\n",
      "Epoch 11/100\n",
      "12723/12723 [==============================] - 0s 8us/step - loss: 0.3179 - accuracy: 0.8487 - val_loss: 0.3341 - val_accuracy: 0.8375\n",
      "Epoch 12/100\n",
      "12723/12723 [==============================] - 0s 7us/step - loss: 0.3137 - accuracy: 0.8499 - val_loss: 0.3318 - val_accuracy: 0.8375\n",
      "Epoch 13/100\n",
      "12723/12723 [==============================] - 0s 7us/step - loss: 0.3115 - accuracy: 0.8500 - val_loss: 0.3334 - val_accuracy: 0.8373\n",
      "Epoch 14/100\n",
      "12723/12723 [==============================] - 0s 7us/step - loss: 0.3103 - accuracy: 0.8515 - val_loss: 0.3289 - val_accuracy: 0.8385\n",
      "Epoch 15/100\n",
      "12723/12723 [==============================] - 0s 7us/step - loss: 0.3080 - accuracy: 0.8516 - val_loss: 0.3277 - val_accuracy: 0.8375\n",
      "Epoch 16/100\n",
      "12723/12723 [==============================] - 0s 7us/step - loss: 0.3071 - accuracy: 0.8518 - val_loss: 0.3273 - val_accuracy: 0.8380\n",
      "Epoch 17/100\n",
      "12723/12723 [==============================] - 0s 8us/step - loss: 0.3063 - accuracy: 0.8518 - val_loss: 0.3265 - val_accuracy: 0.8390\n",
      "Epoch 18/100\n",
      "12723/12723 [==============================] - 0s 7us/step - loss: 0.3061 - accuracy: 0.8513 - val_loss: 0.3259 - val_accuracy: 0.8380\n",
      "Epoch 19/100\n",
      "12723/12723 [==============================] - 0s 8us/step - loss: 0.3051 - accuracy: 0.8522 - val_loss: 0.3257 - val_accuracy: 0.8378\n",
      "Epoch 20/100\n",
      "12723/12723 [==============================] - 0s 8us/step - loss: 0.3049 - accuracy: 0.8517 - val_loss: 0.3255 - val_accuracy: 0.8380\n",
      "Epoch 21/100\n",
      "12723/12723 [==============================] - 0s 8us/step - loss: 0.3041 - accuracy: 0.8515 - val_loss: 0.3256 - val_accuracy: 0.8385\n",
      "Epoch 22/100\n",
      "12723/12723 [==============================] - 0s 8us/step - loss: 0.3040 - accuracy: 0.8518 - val_loss: 0.3253 - val_accuracy: 0.8373\n",
      "Epoch 23/100\n",
      "12723/12723 [==============================] - 0s 8us/step - loss: 0.3036 - accuracy: 0.8518 - val_loss: 0.3244 - val_accuracy: 0.8382\n",
      "Epoch 24/100\n",
      "12723/12723 [==============================] - 0s 8us/step - loss: 0.3029 - accuracy: 0.8529 - val_loss: 0.3245 - val_accuracy: 0.8390\n",
      "Epoch 25/100\n",
      "12723/12723 [==============================] - 0s 8us/step - loss: 0.3027 - accuracy: 0.8526 - val_loss: 0.3242 - val_accuracy: 0.8385\n",
      "Epoch 26/100\n",
      "12723/12723 [==============================] - 0s 7us/step - loss: 0.3020 - accuracy: 0.8522 - val_loss: 0.3239 - val_accuracy: 0.8382\n",
      "Epoch 27/100\n",
      "12723/12723 [==============================] - 0s 7us/step - loss: 0.3017 - accuracy: 0.8528 - val_loss: 0.3237 - val_accuracy: 0.8375\n",
      "Epoch 28/100\n",
      "12723/12723 [==============================] - 0s 8us/step - loss: 0.3024 - accuracy: 0.8510 - val_loss: 0.3236 - val_accuracy: 0.8385\n",
      "Epoch 29/100\n",
      "12723/12723 [==============================] - 0s 8us/step - loss: 0.3015 - accuracy: 0.8511 - val_loss: 0.3265 - val_accuracy: 0.8397\n",
      "Epoch 30/100\n",
      "12723/12723 [==============================] - 0s 8us/step - loss: 0.3007 - accuracy: 0.8526 - val_loss: 0.3237 - val_accuracy: 0.8380\n",
      "Epoch 31/100\n",
      "12723/12723 [==============================] - 0s 7us/step - loss: 0.3004 - accuracy: 0.8533 - val_loss: 0.3231 - val_accuracy: 0.8397\n",
      "Epoch 32/100\n",
      "12723/12723 [==============================] - 0s 7us/step - loss: 0.2997 - accuracy: 0.8537 - val_loss: 0.3229 - val_accuracy: 0.8378\n",
      "Epoch 33/100\n",
      "12723/12723 [==============================] - 0s 7us/step - loss: 0.2993 - accuracy: 0.8523 - val_loss: 0.3228 - val_accuracy: 0.8397\n",
      "Epoch 34/100\n",
      "12723/12723 [==============================] - 0s 7us/step - loss: 0.3006 - accuracy: 0.8518 - val_loss: 0.3241 - val_accuracy: 0.8394\n",
      "Epoch 35/100\n",
      "12723/12723 [==============================] - 0s 8us/step - loss: 0.3008 - accuracy: 0.8521 - val_loss: 0.3230 - val_accuracy: 0.8404\n",
      "Epoch 36/100\n",
      "12723/12723 [==============================] - 0s 8us/step - loss: 0.2985 - accuracy: 0.8543 - val_loss: 0.3243 - val_accuracy: 0.8397\n",
      "Epoch 37/100\n",
      "12723/12723 [==============================] - 0s 8us/step - loss: 0.2985 - accuracy: 0.8538 - val_loss: 0.3234 - val_accuracy: 0.8397\n",
      "Epoch 38/100\n",
      "12723/12723 [==============================] - 0s 8us/step - loss: 0.2977 - accuracy: 0.8539 - val_loss: 0.3233 - val_accuracy: 0.8408\n",
      "Epoch 39/100\n",
      "12723/12723 [==============================] - 0s 8us/step - loss: 0.2968 - accuracy: 0.8543 - val_loss: 0.3219 - val_accuracy: 0.8401\n",
      "Epoch 40/100\n",
      "12723/12723 [==============================] - 0s 8us/step - loss: 0.2963 - accuracy: 0.8551 - val_loss: 0.3224 - val_accuracy: 0.8404\n",
      "Epoch 41/100\n",
      "12723/12723 [==============================] - 0s 7us/step - loss: 0.2964 - accuracy: 0.8553 - val_loss: 0.3216 - val_accuracy: 0.8387\n",
      "Epoch 42/100\n",
      "12723/12723 [==============================] - 0s 8us/step - loss: 0.2958 - accuracy: 0.8556 - val_loss: 0.3219 - val_accuracy: 0.8397\n",
      "Epoch 43/100\n",
      "12723/12723 [==============================] - 0s 7us/step - loss: 0.2950 - accuracy: 0.8559 - val_loss: 0.3225 - val_accuracy: 0.8406\n",
      "Epoch 44/100\n",
      "12723/12723 [==============================] - 0s 7us/step - loss: 0.2948 - accuracy: 0.8560 - val_loss: 0.3214 - val_accuracy: 0.8394\n",
      "Epoch 45/100\n",
      "12723/12723 [==============================] - 0s 8us/step - loss: 0.2945 - accuracy: 0.8562 - val_loss: 0.3212 - val_accuracy: 0.8406\n",
      "Epoch 46/100\n",
      "12723/12723 [==============================] - 0s 8us/step - loss: 0.2939 - accuracy: 0.8568 - val_loss: 0.3213 - val_accuracy: 0.8406\n",
      "Epoch 47/100\n",
      "12723/12723 [==============================] - 0s 8us/step - loss: 0.2936 - accuracy: 0.8573 - val_loss: 0.3217 - val_accuracy: 0.8404\n",
      "Epoch 48/100\n",
      "12723/12723 [==============================] - 0s 8us/step - loss: 0.2933 - accuracy: 0.8579 - val_loss: 0.3212 - val_accuracy: 0.8411\n",
      "Epoch 49/100\n",
      "12723/12723 [==============================] - 0s 7us/step - loss: 0.2927 - accuracy: 0.8582 - val_loss: 0.3233 - val_accuracy: 0.8408\n",
      "Epoch 50/100\n",
      "12723/12723 [==============================] - 0s 8us/step - loss: 0.2926 - accuracy: 0.8581 - val_loss: 0.3212 - val_accuracy: 0.8404\n",
      "Epoch 51/100\n",
      "12723/12723 [==============================] - 0s 8us/step - loss: 0.2921 - accuracy: 0.8571 - val_loss: 0.3207 - val_accuracy: 0.8413\n",
      "Epoch 52/100\n",
      "12723/12723 [==============================] - 0s 8us/step - loss: 0.2919 - accuracy: 0.8585 - val_loss: 0.3213 - val_accuracy: 0.8401\n",
      "Epoch 53/100\n",
      "12723/12723 [==============================] - 0s 7us/step - loss: 0.2913 - accuracy: 0.8586 - val_loss: 0.3211 - val_accuracy: 0.8397\n",
      "Epoch 54/100\n",
      "12723/12723 [==============================] - 0s 8us/step - loss: 0.2910 - accuracy: 0.8592 - val_loss: 0.3214 - val_accuracy: 0.8404\n",
      "Epoch 55/100\n",
      "12723/12723 [==============================] - 0s 8us/step - loss: 0.2906 - accuracy: 0.8586 - val_loss: 0.3211 - val_accuracy: 0.8357\n",
      "Epoch 56/100\n",
      "12723/12723 [==============================] - 0s 8us/step - loss: 0.2913 - accuracy: 0.8575 - val_loss: 0.3204 - val_accuracy: 0.8397\n",
      "Epoch 57/100\n",
      "12723/12723 [==============================] - 0s 7us/step - loss: 0.2909 - accuracy: 0.8588 - val_loss: 0.3209 - val_accuracy: 0.8368\n",
      "Epoch 58/100\n",
      "12723/12723 [==============================] - 0s 7us/step - loss: 0.2921 - accuracy: 0.8567 - val_loss: 0.3213 - val_accuracy: 0.8368\n",
      "Epoch 59/100\n",
      "12723/12723 [==============================] - 0s 8us/step - loss: 0.2907 - accuracy: 0.8585 - val_loss: 0.3204 - val_accuracy: 0.8390\n",
      "Epoch 60/100\n",
      "12723/12723 [==============================] - 0s 7us/step - loss: 0.2894 - accuracy: 0.8599 - val_loss: 0.3206 - val_accuracy: 0.8401\n",
      "Epoch 61/100\n",
      "12723/12723 [==============================] - 0s 7us/step - loss: 0.2885 - accuracy: 0.8600 - val_loss: 0.3221 - val_accuracy: 0.8418\n",
      "Epoch 62/100\n",
      "12723/12723 [==============================] - 0s 7us/step - loss: 0.2895 - accuracy: 0.8600 - val_loss: 0.3207 - val_accuracy: 0.8418\n",
      "Epoch 63/100\n",
      "12723/12723 [==============================] - 0s 7us/step - loss: 0.2885 - accuracy: 0.8600 - val_loss: 0.3207 - val_accuracy: 0.8399\n",
      "Epoch 64/100\n",
      "12723/12723 [==============================] - 0s 7us/step - loss: 0.2884 - accuracy: 0.8610 - val_loss: 0.3202 - val_accuracy: 0.8411\n",
      "Epoch 65/100\n",
      "12723/12723 [==============================] - 0s 7us/step - loss: 0.2875 - accuracy: 0.8610 - val_loss: 0.3204 - val_accuracy: 0.8415\n",
      "Epoch 66/100\n",
      "12723/12723 [==============================] - 0s 8us/step - loss: 0.2876 - accuracy: 0.8610 - val_loss: 0.3207 - val_accuracy: 0.8408\n",
      "Epoch 67/100\n",
      "12723/12723 [==============================] - 0s 8us/step - loss: 0.2873 - accuracy: 0.8608 - val_loss: 0.3205 - val_accuracy: 0.8413\n",
      "Epoch 68/100\n",
      "12723/12723 [==============================] - 0s 8us/step - loss: 0.2874 - accuracy: 0.8614 - val_loss: 0.3220 - val_accuracy: 0.8415\n",
      "Epoch 69/100\n",
      "12723/12723 [==============================] - 0s 8us/step - loss: 0.2879 - accuracy: 0.8597 - val_loss: 0.3232 - val_accuracy: 0.8418\n",
      "Epoch 70/100\n",
      "12723/12723 [==============================] - 0s 8us/step - loss: 0.2872 - accuracy: 0.8606 - val_loss: 0.3216 - val_accuracy: 0.8413\n",
      "Epoch 71/100\n",
      "12723/12723 [==============================] - 0s 8us/step - loss: 0.2868 - accuracy: 0.8606 - val_loss: 0.3207 - val_accuracy: 0.8425\n",
      "Epoch 72/100\n",
      "12723/12723 [==============================] - 0s 8us/step - loss: 0.2868 - accuracy: 0.8614 - val_loss: 0.3209 - val_accuracy: 0.8420\n",
      "Epoch 73/100\n",
      "12723/12723 [==============================] - 0s 8us/step - loss: 0.2887 - accuracy: 0.8595 - val_loss: 0.3215 - val_accuracy: 0.8375\n",
      "Epoch 74/100\n",
      "12723/12723 [==============================] - 0s 8us/step - loss: 0.2865 - accuracy: 0.8613 - val_loss: 0.3207 - val_accuracy: 0.8430\n",
      "Epoch 75/100\n",
      "12723/12723 [==============================] - 0s 8us/step - loss: 0.2855 - accuracy: 0.8612 - val_loss: 0.3214 - val_accuracy: 0.8425\n",
      "Epoch 76/100\n",
      "12723/12723 [==============================] - 0s 8us/step - loss: 0.2855 - accuracy: 0.8611 - val_loss: 0.3211 - val_accuracy: 0.8432\n",
      "Epoch 77/100\n",
      "12723/12723 [==============================] - 0s 8us/step - loss: 0.2849 - accuracy: 0.8617 - val_loss: 0.3230 - val_accuracy: 0.8420\n",
      "Epoch 78/100\n",
      "12723/12723 [==============================] - 0s 8us/step - loss: 0.2855 - accuracy: 0.8626 - val_loss: 0.3212 - val_accuracy: 0.8425\n",
      "Epoch 79/100\n",
      "12723/12723 [==============================] - 0s 8us/step - loss: 0.2849 - accuracy: 0.8616 - val_loss: 0.3224 - val_accuracy: 0.8427\n",
      "Epoch 80/100\n",
      "12723/12723 [==============================] - 0s 8us/step - loss: 0.2847 - accuracy: 0.8625 - val_loss: 0.3210 - val_accuracy: 0.8444\n",
      "Epoch 81/100\n",
      "12723/12723 [==============================] - 0s 8us/step - loss: 0.2848 - accuracy: 0.8620 - val_loss: 0.3209 - val_accuracy: 0.8434\n",
      "Epoch 82/100\n",
      "12723/12723 [==============================] - 0s 8us/step - loss: 0.2851 - accuracy: 0.8610 - val_loss: 0.3211 - val_accuracy: 0.8444\n",
      "Epoch 83/100\n",
      "12723/12723 [==============================] - 0s 8us/step - loss: 0.2842 - accuracy: 0.8622 - val_loss: 0.3217 - val_accuracy: 0.8432\n",
      "Epoch 84/100\n",
      "12723/12723 [==============================] - 0s 8us/step - loss: 0.2840 - accuracy: 0.8627 - val_loss: 0.3212 - val_accuracy: 0.8427\n",
      "Epoch 85/100\n",
      "12723/12723 [==============================] - 0s 8us/step - loss: 0.2839 - accuracy: 0.8614 - val_loss: 0.3213 - val_accuracy: 0.8404\n",
      "Epoch 86/100\n",
      "12723/12723 [==============================] - 0s 8us/step - loss: 0.2840 - accuracy: 0.8612 - val_loss: 0.3213 - val_accuracy: 0.8420\n",
      "Epoch 87/100\n",
      "12723/12723 [==============================] - 0s 8us/step - loss: 0.2836 - accuracy: 0.8610 - val_loss: 0.3218 - val_accuracy: 0.8439\n",
      "Epoch 88/100\n",
      "12723/12723 [==============================] - 0s 8us/step - loss: 0.2831 - accuracy: 0.8625 - val_loss: 0.3223 - val_accuracy: 0.8441\n",
      "Epoch 89/100\n",
      "12723/12723 [==============================] - 0s 8us/step - loss: 0.2830 - accuracy: 0.8626 - val_loss: 0.3220 - val_accuracy: 0.8434\n",
      "Epoch 90/100\n",
      "12723/12723 [==============================] - 0s 8us/step - loss: 0.2826 - accuracy: 0.8627 - val_loss: 0.3218 - val_accuracy: 0.8415\n",
      "Epoch 91/100\n",
      "12723/12723 [==============================] - 0s 8us/step - loss: 0.2828 - accuracy: 0.8634 - val_loss: 0.3223 - val_accuracy: 0.8392\n",
      "Epoch 92/100\n",
      "12723/12723 [==============================] - 0s 8us/step - loss: 0.2822 - accuracy: 0.8623 - val_loss: 0.3238 - val_accuracy: 0.8437\n",
      "Epoch 93/100\n",
      "12723/12723 [==============================] - 0s 8us/step - loss: 0.2824 - accuracy: 0.8618 - val_loss: 0.3248 - val_accuracy: 0.8427\n",
      "Epoch 94/100\n",
      "12723/12723 [==============================] - 0s 8us/step - loss: 0.2821 - accuracy: 0.8635 - val_loss: 0.3238 - val_accuracy: 0.8420\n",
      "Epoch 95/100\n",
      "12723/12723 [==============================] - 0s 8us/step - loss: 0.2818 - accuracy: 0.8627 - val_loss: 0.3231 - val_accuracy: 0.8408\n",
      "Epoch 96/100\n",
      "12723/12723 [==============================] - 0s 8us/step - loss: 0.2818 - accuracy: 0.8622 - val_loss: 0.3229 - val_accuracy: 0.8390\n",
      "Epoch 97/100\n",
      "12723/12723 [==============================] - 0s 8us/step - loss: 0.2819 - accuracy: 0.8626 - val_loss: 0.3250 - val_accuracy: 0.8420\n",
      "Epoch 98/100\n",
      "12723/12723 [==============================] - 0s 8us/step - loss: 0.2813 - accuracy: 0.8632 - val_loss: 0.3233 - val_accuracy: 0.8394\n",
      "Epoch 99/100\n",
      "12723/12723 [==============================] - 0s 8us/step - loss: 0.2814 - accuracy: 0.8638 - val_loss: 0.3232 - val_accuracy: 0.8401\n",
      "Epoch 100/100\n",
      "12723/12723 [==============================] - 0s 8us/step - loss: 0.2830 - accuracy: 0.8634 - val_loss: 0.3238 - val_accuracy: 0.8371\n"
     ]
    }
   ],
   "source": [
    "NE_hist = NE_model.fit(X_train, Y_train,\n",
    "          batch_size=1000, epochs=100,\n",
    "          validation_data=(X_val, Y_val))"
   ]
  },
  {
   "cell_type": "code",
   "execution_count": 267,
   "metadata": {},
   "outputs": [
    {
     "name": "stdout",
     "output_type": "stream",
     "text": [
      "              precision    recall  f1-score   support\n",
      "\n",
      "           1       0.00      0.00      0.00         3\n",
      "           2       0.85      1.00      0.92      3589\n",
      "           3       0.67      0.00      0.01       649\n",
      "           4       0.00      0.00      0.00         1\n",
      "\n",
      "    accuracy                           0.85      4242\n",
      "   macro avg       0.38      0.25      0.23      4242\n",
      "weighted avg       0.82      0.85      0.78      4242\n",
      "\n"
     ]
    },
    {
     "name": "stderr",
     "output_type": "stream",
     "text": [
      "/opt/anaconda3/lib/python3.7/site-packages/sklearn/metrics/_classification.py:1272: UndefinedMetricWarning: Precision and F-score are ill-defined and being set to 0.0 in labels with no predicted samples. Use `zero_division` parameter to control this behavior.\n",
      "  _warn_prf(average, modifier, msg_start, len(result))\n"
     ]
    },
    {
     "data": {
      "image/png": "[encoded data removed]",
      "text/plain": [
       "<Figure size 432x288 with 2 Axes>"
      ]
     },
     "metadata": {
      "needs_background": "light"
     },
     "output_type": "display_data"
    }
   ],
   "source": [
    "Y_test_arr = np.array(Y_test)\n",
    "Y_test = to_categorical(Y_test)\n",
    "Y_pred = NJ_model.predict_classes(X_test)\n",
    "print(classification_report(Y_test_arr,Y_pred))\n",
    "plt.title('Confusion Matrix for Low Pop Density')\n",
    "sns.heatmap(confusion_matrix(Y_test_arr, Y_pred), annot=True)\n",
    "plt.xlabel('Predicted')\n",
    "plt.ylabel('True')\n",
    "plt.show()"
   ]
  },
  {
   "cell_type": "code",
   "execution_count": null,
   "metadata": {},
   "outputs": [],
   "source": []
  },
  {
   "cell_type": "code",
   "execution_count": null,
   "metadata": {},
   "outputs": [],
   "source": []
  },
  {
   "cell_type": "markdown",
   "metadata": {},
   "source": [
    "# Visualizing Loss and Accuracy"
   ]
  },
  {
   "cell_type": "code",
   "execution_count": 268,
   "metadata": {},
   "outputs": [],
   "source": [
    "import matplotlib.pyplot as plt"
   ]
  },
  {
   "cell_type": "code",
   "execution_count": 269,
   "metadata": {},
   "outputs": [
    {
     "data": {
      "image/png": "[encoded data removed]",
      "text/plain": [
       "<Figure size 432x288 with 1 Axes>"
      ]
     },
     "metadata": {
      "needs_background": "light"
     },
     "output_type": "display_data"
    }
   ],
   "source": [
    "plt.plot(NE_hist.history['loss'])\n",
    "plt.plot(NE_hist.history['val_loss'])\n",
    "plt.title('Model loss')\n",
    "plt.ylabel('Loss')\n",
    "plt.xlabel('Epoch')\n",
    "plt.legend(['Train', 'Val'], loc='upper right')\n",
    "plt.show()"
   ]
  },
  {
   "cell_type": "code",
   "execution_count": 270,
   "metadata": {},
   "outputs": [
    {
     "data": {
      "image/png": "[encoded data removed]",
      "text/plain": [
       "<Figure size 432x288 with 1 Axes>"
      ]
     },
     "metadata": {
      "needs_background": "light"
     },
     "output_type": "display_data"
    }
   ],
   "source": [
    "plt.plot(NE_hist.history['accuracy'])\n",
    "plt.plot(NE_hist.history['val_accuracy'])\n",
    "plt.title('Model accuracy')\n",
    "plt.ylabel('Accuracy')\n",
    "plt.xlabel('Epoch')\n",
    "plt.legend(['Train', 'Val'], loc='lower right')\n",
    "plt.show()"
   ]
  },
  {
   "cell_type": "code",
   "execution_count": 271,
   "metadata": {
    "collapsed": true,
    "jupyter": {
     "outputs_hidden": true
    }
   },
   "outputs": [
    {
     "name": "stdout",
     "output_type": "stream",
     "text": [
      "Train on 12723 samples, validate on 4241 samples\n",
      "Epoch 1/100\n",
      "12723/12723 [==============================] - 1s 106us/step - loss: 0.9105 - accuracy: 0.8019 - val_loss: 0.4541 - val_accuracy: 0.8371\n",
      "Epoch 2/100\n",
      "12723/12723 [==============================] - 0s 21us/step - loss: 0.3842 - accuracy: 0.8460 - val_loss: 0.3506 - val_accuracy: 0.8371\n",
      "Epoch 3/100\n",
      "12723/12723 [==============================] - 0s 21us/step - loss: 0.3200 - accuracy: 0.8455 - val_loss: 0.3303 - val_accuracy: 0.8373\n",
      "Epoch 4/100\n",
      "12723/12723 [==============================] - 0s 20us/step - loss: 0.3100 - accuracy: 0.8469 - val_loss: 0.3287 - val_accuracy: 0.8385\n",
      "Epoch 5/100\n",
      "12723/12723 [==============================] - 0s 20us/step - loss: 0.3093 - accuracy: 0.8493 - val_loss: 0.3279 - val_accuracy: 0.8246\n",
      "Epoch 6/100\n",
      "12723/12723 [==============================] - 0s 20us/step - loss: 0.3109 - accuracy: 0.8505 - val_loss: 0.3202 - val_accuracy: 0.8382\n",
      "Epoch 7/100\n",
      "12723/12723 [==============================] - 0s 20us/step - loss: 0.3033 - accuracy: 0.8508 - val_loss: 0.3233 - val_accuracy: 0.8385\n",
      "Epoch 8/100\n",
      "12723/12723 [==============================] - 0s 20us/step - loss: 0.3011 - accuracy: 0.8501 - val_loss: 0.3249 - val_accuracy: 0.8399\n",
      "Epoch 9/100\n",
      "12723/12723 [==============================] - 0s 20us/step - loss: 0.3013 - accuracy: 0.8506 - val_loss: 0.3184 - val_accuracy: 0.8387\n",
      "Epoch 10/100\n",
      "12723/12723 [==============================] - 0s 19us/step - loss: 0.2991 - accuracy: 0.8529 - val_loss: 0.3176 - val_accuracy: 0.8366\n",
      "Epoch 11/100\n",
      "12723/12723 [==============================] - 0s 20us/step - loss: 0.2965 - accuracy: 0.8546 - val_loss: 0.3177 - val_accuracy: 0.8418\n",
      "Epoch 12/100\n",
      "12723/12723 [==============================] - 0s 20us/step - loss: 0.2948 - accuracy: 0.8550 - val_loss: 0.3222 - val_accuracy: 0.8392\n",
      "Epoch 13/100\n",
      "12723/12723 [==============================] - 0s 21us/step - loss: 0.2973 - accuracy: 0.8532 - val_loss: 0.3179 - val_accuracy: 0.8371\n",
      "Epoch 14/100\n",
      "12723/12723 [==============================] - 0s 20us/step - loss: 0.2937 - accuracy: 0.8550 - val_loss: 0.3168 - val_accuracy: 0.8392\n",
      "Epoch 15/100\n",
      "12723/12723 [==============================] - 0s 20us/step - loss: 0.2878 - accuracy: 0.8592 - val_loss: 0.3254 - val_accuracy: 0.8415\n",
      "Epoch 16/100\n",
      "12723/12723 [==============================] - 0s 20us/step - loss: 0.2876 - accuracy: 0.8587 - val_loss: 0.3238 - val_accuracy: 0.8408\n",
      "Epoch 17/100\n",
      "12723/12723 [==============================] - 0s 20us/step - loss: 0.2873 - accuracy: 0.8607 - val_loss: 0.3176 - val_accuracy: 0.8404\n",
      "Epoch 18/100\n",
      "12723/12723 [==============================] - 0s 19us/step - loss: 0.2850 - accuracy: 0.8590 - val_loss: 0.3183 - val_accuracy: 0.8430\n",
      "Epoch 19/100\n",
      "12723/12723 [==============================] - 0s 24us/step - loss: 0.2818 - accuracy: 0.8648 - val_loss: 0.3190 - val_accuracy: 0.8418\n",
      "Epoch 20/100\n",
      "12723/12723 [==============================] - 0s 20us/step - loss: 0.2810 - accuracy: 0.8648 - val_loss: 0.3301 - val_accuracy: 0.8427\n",
      "Epoch 21/100\n",
      "12723/12723 [==============================] - 0s 21us/step - loss: 0.2792 - accuracy: 0.8632 - val_loss: 0.3226 - val_accuracy: 0.8368\n",
      "Epoch 22/100\n",
      "12723/12723 [==============================] - 0s 20us/step - loss: 0.2802 - accuracy: 0.8653 - val_loss: 0.3215 - val_accuracy: 0.8408\n",
      "Epoch 23/100\n",
      "12723/12723 [==============================] - 0s 22us/step - loss: 0.2757 - accuracy: 0.8680 - val_loss: 0.3245 - val_accuracy: 0.8404\n",
      "Epoch 24/100\n",
      "12723/12723 [==============================] - 0s 21us/step - loss: 0.2769 - accuracy: 0.8640 - val_loss: 0.3267 - val_accuracy: 0.8250\n",
      "Epoch 25/100\n",
      "12723/12723 [==============================] - 0s 23us/step - loss: 0.2753 - accuracy: 0.8663 - val_loss: 0.3258 - val_accuracy: 0.8453\n",
      "Epoch 26/100\n",
      "12723/12723 [==============================] - 0s 23us/step - loss: 0.2703 - accuracy: 0.8701 - val_loss: 0.3262 - val_accuracy: 0.8366\n",
      "Epoch 27/100\n",
      "12723/12723 [==============================] - 0s 22us/step - loss: 0.2707 - accuracy: 0.8686 - val_loss: 0.3296 - val_accuracy: 0.8286\n",
      "Epoch 28/100\n",
      "12723/12723 [==============================] - 0s 21us/step - loss: 0.2707 - accuracy: 0.8673 - val_loss: 0.3256 - val_accuracy: 0.8397\n",
      "Epoch 29/100\n",
      "12723/12723 [==============================] - 0s 22us/step - loss: 0.2658 - accuracy: 0.8707 - val_loss: 0.3331 - val_accuracy: 0.8352\n",
      "Epoch 30/100\n",
      "12723/12723 [==============================] - 0s 23us/step - loss: 0.2655 - accuracy: 0.8715 - val_loss: 0.3318 - val_accuracy: 0.8321\n",
      "Epoch 31/100\n",
      "12723/12723 [==============================] - 0s 23us/step - loss: 0.2685 - accuracy: 0.8696 - val_loss: 0.3278 - val_accuracy: 0.8335\n",
      "Epoch 32/100\n",
      "12723/12723 [==============================] - 0s 22us/step - loss: 0.2628 - accuracy: 0.8724 - val_loss: 0.3351 - val_accuracy: 0.8423\n",
      "Epoch 33/100\n",
      "12723/12723 [==============================] - 0s 22us/step - loss: 0.2614 - accuracy: 0.8750 - val_loss: 0.3350 - val_accuracy: 0.8401\n",
      "Epoch 34/100\n",
      "12723/12723 [==============================] - 0s 22us/step - loss: 0.2614 - accuracy: 0.8746 - val_loss: 0.3361 - val_accuracy: 0.8286\n",
      "Epoch 35/100\n",
      "12723/12723 [==============================] - 0s 22us/step - loss: 0.2626 - accuracy: 0.8741 - val_loss: 0.3322 - val_accuracy: 0.8349\n",
      "Epoch 36/100\n",
      "12723/12723 [==============================] - 0s 22us/step - loss: 0.2612 - accuracy: 0.8731 - val_loss: 0.3400 - val_accuracy: 0.8446\n",
      "Epoch 37/100\n",
      "12723/12723 [==============================] - 0s 22us/step - loss: 0.2574 - accuracy: 0.8765 - val_loss: 0.3377 - val_accuracy: 0.8300\n",
      "Epoch 38/100\n",
      "12723/12723 [==============================] - 0s 22us/step - loss: 0.2547 - accuracy: 0.8771 - val_loss: 0.3462 - val_accuracy: 0.8371\n",
      "Epoch 39/100\n",
      "12723/12723 [==============================] - 0s 22us/step - loss: 0.2517 - accuracy: 0.8791 - val_loss: 0.3449 - val_accuracy: 0.8269\n",
      "Epoch 40/100\n",
      "12723/12723 [==============================] - 0s 22us/step - loss: 0.2513 - accuracy: 0.8791 - val_loss: 0.3539 - val_accuracy: 0.8415\n",
      "Epoch 41/100\n",
      "12723/12723 [==============================] - 0s 22us/step - loss: 0.2531 - accuracy: 0.8772 - val_loss: 0.3432 - val_accuracy: 0.8390\n",
      "Epoch 42/100\n",
      "12723/12723 [==============================] - 0s 22us/step - loss: 0.2498 - accuracy: 0.8794 - val_loss: 0.3588 - val_accuracy: 0.8411\n",
      "Epoch 43/100\n",
      "12723/12723 [==============================] - 0s 23us/step - loss: 0.2492 - accuracy: 0.8786 - val_loss: 0.3468 - val_accuracy: 0.8307\n",
      "Epoch 44/100\n",
      "12723/12723 [==============================] - 0s 22us/step - loss: 0.2489 - accuracy: 0.8778 - val_loss: 0.3564 - val_accuracy: 0.8415\n",
      "Epoch 45/100\n",
      "12723/12723 [==============================] - 0s 21us/step - loss: 0.2487 - accuracy: 0.8786 - val_loss: 0.3522 - val_accuracy: 0.8298\n",
      "Epoch 46/100\n",
      "12723/12723 [==============================] - 0s 21us/step - loss: 0.2493 - accuracy: 0.8785 - val_loss: 0.3506 - val_accuracy: 0.8352\n",
      "Epoch 47/100\n",
      "12723/12723 [==============================] - 0s 21us/step - loss: 0.2477 - accuracy: 0.8782 - val_loss: 0.3612 - val_accuracy: 0.8243\n",
      "Epoch 48/100\n",
      "12723/12723 [==============================] - 0s 21us/step - loss: 0.2452 - accuracy: 0.8821 - val_loss: 0.3619 - val_accuracy: 0.8283\n",
      "Epoch 49/100\n",
      "12723/12723 [==============================] - 0s 20us/step - loss: 0.2427 - accuracy: 0.8819 - val_loss: 0.3572 - val_accuracy: 0.8354\n",
      "Epoch 50/100\n",
      "12723/12723 [==============================] - 0s 20us/step - loss: 0.2387 - accuracy: 0.8845 - val_loss: 0.3704 - val_accuracy: 0.8229\n",
      "Epoch 51/100\n",
      "12723/12723 [==============================] - 0s 20us/step - loss: 0.2383 - accuracy: 0.8822 - val_loss: 0.3714 - val_accuracy: 0.8300\n",
      "Epoch 52/100\n",
      "12723/12723 [==============================] - 0s 20us/step - loss: 0.2357 - accuracy: 0.8852 - val_loss: 0.3721 - val_accuracy: 0.8331\n",
      "Epoch 53/100\n",
      "12723/12723 [==============================] - 0s 20us/step - loss: 0.2333 - accuracy: 0.8837 - val_loss: 0.3854 - val_accuracy: 0.8364\n",
      "Epoch 54/100\n",
      "12723/12723 [==============================] - 0s 21us/step - loss: 0.2335 - accuracy: 0.8863 - val_loss: 0.3776 - val_accuracy: 0.8368\n",
      "Epoch 55/100\n",
      "12723/12723 [==============================] - 0s 20us/step - loss: 0.2342 - accuracy: 0.8839 - val_loss: 0.3850 - val_accuracy: 0.8382\n",
      "Epoch 56/100\n",
      "12723/12723 [==============================] - 0s 20us/step - loss: 0.2306 - accuracy: 0.8882 - val_loss: 0.3847 - val_accuracy: 0.8307\n",
      "Epoch 57/100\n",
      "12723/12723 [==============================] - 0s 20us/step - loss: 0.2300 - accuracy: 0.8859 - val_loss: 0.3918 - val_accuracy: 0.8451\n",
      "Epoch 58/100\n",
      "12723/12723 [==============================] - 0s 20us/step - loss: 0.2292 - accuracy: 0.8863 - val_loss: 0.3906 - val_accuracy: 0.8375\n",
      "Epoch 59/100\n",
      "12723/12723 [==============================] - 0s 20us/step - loss: 0.2297 - accuracy: 0.8868 - val_loss: 0.3817 - val_accuracy: 0.8199\n",
      "Epoch 60/100\n",
      "12723/12723 [==============================] - 0s 20us/step - loss: 0.2293 - accuracy: 0.8860 - val_loss: 0.4050 - val_accuracy: 0.8394\n",
      "Epoch 61/100\n",
      "12723/12723 [==============================] - 0s 19us/step - loss: 0.2257 - accuracy: 0.8900 - val_loss: 0.3934 - val_accuracy: 0.8333\n",
      "Epoch 62/100\n",
      "12723/12723 [==============================] - 0s 20us/step - loss: 0.2208 - accuracy: 0.8906 - val_loss: 0.3971 - val_accuracy: 0.8290\n",
      "Epoch 63/100\n",
      "12723/12723 [==============================] - 0s 20us/step - loss: 0.2215 - accuracy: 0.8900 - val_loss: 0.3963 - val_accuracy: 0.8378\n",
      "Epoch 64/100\n",
      "12723/12723 [==============================] - 0s 20us/step - loss: 0.2229 - accuracy: 0.8895 - val_loss: 0.4079 - val_accuracy: 0.8423\n",
      "Epoch 65/100\n",
      "12723/12723 [==============================] - 0s 20us/step - loss: 0.2188 - accuracy: 0.8913 - val_loss: 0.4233 - val_accuracy: 0.8373\n",
      "Epoch 66/100\n",
      "12723/12723 [==============================] - 0s 21us/step - loss: 0.2238 - accuracy: 0.8888 - val_loss: 0.4145 - val_accuracy: 0.8298\n",
      "Epoch 67/100\n",
      "12723/12723 [==============================] - 0s 20us/step - loss: 0.2228 - accuracy: 0.8900 - val_loss: 0.4201 - val_accuracy: 0.8399\n",
      "Epoch 68/100\n",
      "12723/12723 [==============================] - 0s 19us/step - loss: 0.2161 - accuracy: 0.8917 - val_loss: 0.4070 - val_accuracy: 0.8298\n",
      "Epoch 69/100\n",
      "12723/12723 [==============================] - 0s 20us/step - loss: 0.2130 - accuracy: 0.8941 - val_loss: 0.4294 - val_accuracy: 0.8375\n",
      "Epoch 70/100\n",
      "12723/12723 [==============================] - 0s 20us/step - loss: 0.2122 - accuracy: 0.8938 - val_loss: 0.4304 - val_accuracy: 0.8371\n",
      "Epoch 71/100\n",
      "12723/12723 [==============================] - 0s 20us/step - loss: 0.2120 - accuracy: 0.8959 - val_loss: 0.4437 - val_accuracy: 0.8373\n",
      "Epoch 72/100\n",
      "12723/12723 [==============================] - 0s 20us/step - loss: 0.2104 - accuracy: 0.8952 - val_loss: 0.4363 - val_accuracy: 0.8349\n",
      "Epoch 73/100\n",
      "12723/12723 [==============================] - 0s 20us/step - loss: 0.2123 - accuracy: 0.8959 - val_loss: 0.4402 - val_accuracy: 0.8324\n",
      "Epoch 74/100\n",
      "12723/12723 [==============================] - 0s 21us/step - loss: 0.2142 - accuracy: 0.8932 - val_loss: 0.4529 - val_accuracy: 0.8375\n",
      "Epoch 75/100\n",
      "12723/12723 [==============================] - 0s 21us/step - loss: 0.2106 - accuracy: 0.8947 - val_loss: 0.4538 - val_accuracy: 0.8290\n",
      "Epoch 76/100\n",
      "12723/12723 [==============================] - 0s 21us/step - loss: 0.2095 - accuracy: 0.8954 - val_loss: 0.4479 - val_accuracy: 0.8274\n",
      "Epoch 77/100\n",
      "12723/12723 [==============================] - 0s 20us/step - loss: 0.2079 - accuracy: 0.8967 - val_loss: 0.4600 - val_accuracy: 0.8260\n",
      "Epoch 78/100\n",
      "12723/12723 [==============================] - 0s 21us/step - loss: 0.2085 - accuracy: 0.8970 - val_loss: 0.4576 - val_accuracy: 0.8368\n",
      "Epoch 79/100\n",
      "12723/12723 [==============================] - 0s 21us/step - loss: 0.2073 - accuracy: 0.8975 - val_loss: 0.4560 - val_accuracy: 0.8335\n",
      "Epoch 80/100\n",
      "12723/12723 [==============================] - 0s 20us/step - loss: 0.2019 - accuracy: 0.8991 - val_loss: 0.4730 - val_accuracy: 0.8354\n",
      "Epoch 81/100\n",
      "12723/12723 [==============================] - 0s 21us/step - loss: 0.2037 - accuracy: 0.8978 - val_loss: 0.4812 - val_accuracy: 0.8418\n",
      "Epoch 82/100\n",
      "12723/12723 [==============================] - 0s 21us/step - loss: 0.2080 - accuracy: 0.8963 - val_loss: 0.4758 - val_accuracy: 0.8048\n",
      "Epoch 83/100\n",
      "12723/12723 [==============================] - 0s 25us/step - loss: 0.2142 - accuracy: 0.8915 - val_loss: 0.4621 - val_accuracy: 0.8335\n",
      "Epoch 84/100\n",
      "12723/12723 [==============================] - 0s 21us/step - loss: 0.2030 - accuracy: 0.8993 - val_loss: 0.4727 - val_accuracy: 0.8309\n",
      "Epoch 85/100\n",
      "12723/12723 [==============================] - 0s 21us/step - loss: 0.1978 - accuracy: 0.9024 - val_loss: 0.4824 - val_accuracy: 0.8328\n",
      "Epoch 86/100\n",
      "12723/12723 [==============================] - 0s 21us/step - loss: 0.1985 - accuracy: 0.9003 - val_loss: 0.4781 - val_accuracy: 0.8293\n",
      "Epoch 87/100\n",
      "12723/12723 [==============================] - 0s 21us/step - loss: 0.2014 - accuracy: 0.8986 - val_loss: 0.4836 - val_accuracy: 0.8283\n",
      "Epoch 88/100\n",
      "12723/12723 [==============================] - 0s 21us/step - loss: 0.1986 - accuracy: 0.9022 - val_loss: 0.4926 - val_accuracy: 0.8399\n",
      "Epoch 89/100\n",
      "12723/12723 [==============================] - 0s 21us/step - loss: 0.1959 - accuracy: 0.9027 - val_loss: 0.5118 - val_accuracy: 0.8274\n",
      "Epoch 90/100\n",
      "12723/12723 [==============================] - 0s 21us/step - loss: 0.1914 - accuracy: 0.9053 - val_loss: 0.5198 - val_accuracy: 0.8335\n",
      "Epoch 91/100\n",
      "12723/12723 [==============================] - 0s 20us/step - loss: 0.2002 - accuracy: 0.8994 - val_loss: 0.4966 - val_accuracy: 0.8324\n",
      "Epoch 92/100\n",
      "12723/12723 [==============================] - 0s 21us/step - loss: 0.1951 - accuracy: 0.9032 - val_loss: 0.5053 - val_accuracy: 0.8309\n",
      "Epoch 93/100\n",
      "12723/12723 [==============================] - 0s 21us/step - loss: 0.1934 - accuracy: 0.9039 - val_loss: 0.5256 - val_accuracy: 0.8229\n",
      "Epoch 94/100\n",
      "12723/12723 [==============================] - 0s 20us/step - loss: 0.1940 - accuracy: 0.9026 - val_loss: 0.5174 - val_accuracy: 0.8392\n",
      "Epoch 95/100\n",
      "12723/12723 [==============================] - 0s 21us/step - loss: 0.1928 - accuracy: 0.9029 - val_loss: 0.5220 - val_accuracy: 0.8331\n",
      "Epoch 96/100\n",
      "12723/12723 [==============================] - 0s 21us/step - loss: 0.1922 - accuracy: 0.9044 - val_loss: 0.5215 - val_accuracy: 0.8293\n",
      "Epoch 97/100\n",
      "12723/12723 [==============================] - 0s 20us/step - loss: 0.1922 - accuracy: 0.9042 - val_loss: 0.5334 - val_accuracy: 0.8366\n",
      "Epoch 98/100\n",
      "12723/12723 [==============================] - 0s 20us/step - loss: 0.1951 - accuracy: 0.9014 - val_loss: 0.5290 - val_accuracy: 0.8333\n",
      "Epoch 99/100\n",
      "12723/12723 [==============================] - 0s 21us/step - loss: 0.1919 - accuracy: 0.9032 - val_loss: 0.5371 - val_accuracy: 0.8364\n",
      "Epoch 100/100\n",
      "12723/12723 [==============================] - 0s 20us/step - loss: 0.1874 - accuracy: 0.9036 - val_loss: 0.5216 - val_accuracy: 0.8340\n"
     ]
    }
   ],
   "source": [
    "NE_model_2 = Sequential([\n",
    "    Dense(100, activation='relu'),\n",
    "    Dense(100, activation='relu'),\n",
    "    Dense(100, activation='relu'),\n",
    "    Dense(100, activation='relu'),\n",
    "    Dense(5, activation='softmax'),\n",
    "])\n",
    "NE_model_2.compile(optimizer='adam',\n",
    "              loss='categorical_crossentropy',\n",
    "              metrics=['accuracy'])\n",
    "NE_hist_2 = NE_model_2.fit(X_train, Y_train,\n",
    "          batch_size=500, epochs=100,\n",
    "          validation_data=(X_val, Y_val))"
   ]
  },
  {
   "cell_type": "code",
   "execution_count": 272,
   "metadata": {},
   "outputs": [
    {
     "name": "stderr",
     "output_type": "stream",
     "text": [
      "/opt/anaconda3/lib/python3.7/site-packages/sklearn/metrics/_classification.py:1272: UndefinedMetricWarning: Precision and F-score are ill-defined and being set to 0.0 in labels with no predicted samples. Use `zero_division` parameter to control this behavior.\n",
      "  _warn_prf(average, modifier, msg_start, len(result))\n"
     ]
    },
    {
     "name": "stdout",
     "output_type": "stream",
     "text": [
      "              precision    recall  f1-score   support\n",
      "\n",
      "           1       0.00      0.00      0.00         3\n",
      "           2       0.88      0.94      0.91      3589\n",
      "           3       0.46      0.29      0.36       649\n",
      "           4       0.00      0.00      0.00         1\n",
      "\n",
      "    accuracy                           0.84      4242\n",
      "   macro avg       0.34      0.31      0.32      4242\n",
      "weighted avg       0.82      0.84      0.82      4242\n",
      "\n"
     ]
    },
    {
     "data": {
      "image/png": "[encoded data removed]",
      "text/plain": [
       "<Figure size 432x288 with 2 Axes>"
      ]
     },
     "metadata": {
      "needs_background": "light"
     },
     "output_type": "display_data"
    }
   ],
   "source": [
    "Y_pred = NE_model_2.predict_classes(X_test)\n",
    "print(classification_report(Y_test_arr,Y_pred))\n",
    "plt.title('Confusion Matrix for Low Pop Density')\n",
    "sns.heatmap(confusion_matrix(Y_test_arr, Y_pred), annot=True)\n",
    "plt.xlabel('Predicted')\n",
    "plt.ylabel('True')\n",
    "plt.show()"
   ]
  },
  {
   "cell_type": "code",
   "execution_count": 273,
   "metadata": {},
   "outputs": [
    {
     "data": {
      "image/png": "[encoded data removed]",
      "text/plain": [
       "<Figure size 432x288 with 1 Axes>"
      ]
     },
     "metadata": {
      "needs_background": "light"
     },
     "output_type": "display_data"
    }
   ],
   "source": [
    "plt.plot(NE_hist_2.history['loss'])\n",
    "plt.plot(NE_hist_2.history['val_loss'])\n",
    "plt.title('Model loss')\n",
    "plt.ylabel('Loss')\n",
    "plt.xlabel('Epoch')\n",
    "plt.legend(['Train', 'Val'], loc='upper right')\n",
    "plt.show()"
   ]
  },
  {
   "cell_type": "code",
   "execution_count": 274,
   "metadata": {},
   "outputs": [
    {
     "data": {
      "image/png": "[encoded data removed]",
      "text/plain": [
       "<Figure size 432x288 with 1 Axes>"
      ]
     },
     "metadata": {
      "needs_background": "light"
     },
     "output_type": "display_data"
    }
   ],
   "source": [
    "plt.plot(NE_hist_2.history['accuracy'])\n",
    "plt.plot(NE_hist_2.history['val_accuracy'])\n",
    "plt.title('Model accuracy')\n",
    "plt.ylabel('Accuracy')\n",
    "plt.xlabel('Epoch')\n",
    "plt.legend(['Train', 'Val'], loc='lower right')\n",
    "plt.show()"
   ]
  },
  {
   "cell_type": "code",
   "execution_count": 275,
   "metadata": {},
   "outputs": [],
   "source": [
    "from keras.layers import Dropout\n",
    "from keras import regularizers"
   ]
  },
  {
   "cell_type": "code",
   "execution_count": 276,
   "metadata": {},
   "outputs": [],
   "source": [
    "NE_model_3 = Sequential([\n",
    "    Dense(100, activation='relu', kernel_regularizer=regularizers.l2(0.01)),\n",
    "    Dropout(0.3),\n",
    "    Dense(100, activation='relu', kernel_regularizer=regularizers.l2(0.01)),\n",
    "    Dropout(0.3),\n",
    "    Dense(100, activation='relu', kernel_regularizer=regularizers.l2(0.01)),\n",
    "    Dropout(0.3),\n",
    "    Dense(100, activation='relu', kernel_regularizer=regularizers.l2(0.01)),\n",
    "    Dropout(0.3),\n",
    "    Dense(5, activation='softmax', kernel_regularizer=regularizers.l2(0.01)),\n",
    "])"
   ]
  },
  {
   "cell_type": "code",
   "execution_count": 277,
   "metadata": {
    "collapsed": true,
    "jupyter": {
     "outputs_hidden": true
    }
   },
   "outputs": [
    {
     "name": "stdout",
     "output_type": "stream",
     "text": [
      "Train on 12723 samples, validate on 4241 samples\n",
      "Epoch 1/100\n",
      "12723/12723 [==============================] - 2s 174us/step - loss: 4.0773 - accuracy: 0.7303 - val_loss: 3.1596 - val_accuracy: 0.8371\n",
      "Epoch 2/100\n",
      "12723/12723 [==============================] - 1s 41us/step - loss: 2.7518 - accuracy: 0.8428 - val_loss: 2.2902 - val_accuracy: 0.8371\n",
      "Epoch 3/100\n",
      "12723/12723 [==============================] - 1s 42us/step - loss: 2.0126 - accuracy: 0.8459 - val_loss: 1.6977 - val_accuracy: 0.8371\n",
      "Epoch 4/100\n",
      "12723/12723 [==============================] - 1s 42us/step - loss: 1.5104 - accuracy: 0.8460 - val_loss: 1.2936 - val_accuracy: 0.8371\n",
      "Epoch 5/100\n",
      "12723/12723 [==============================] - 1s 42us/step - loss: 1.1720 - accuracy: 0.8460 - val_loss: 1.0224 - val_accuracy: 0.8371\n",
      "Epoch 6/100\n",
      "12723/12723 [==============================] - 1s 42us/step - loss: 0.9444 - accuracy: 0.8460 - val_loss: 0.8423 - val_accuracy: 0.8371\n",
      "Epoch 7/100\n",
      "12723/12723 [==============================] - 1s 44us/step - loss: 0.7909 - accuracy: 0.8460 - val_loss: 0.7219 - val_accuracy: 0.8371\n",
      "Epoch 8/100\n",
      "12723/12723 [==============================] - 1s 40us/step - loss: 0.6917 - accuracy: 0.8460 - val_loss: 0.6430 - val_accuracy: 0.8371\n",
      "Epoch 9/100\n",
      "12723/12723 [==============================] - 1s 41us/step - loss: 0.6272 - accuracy: 0.8459 - val_loss: 0.5932 - val_accuracy: 0.8371\n",
      "Epoch 10/100\n",
      "12723/12723 [==============================] - 1s 41us/step - loss: 0.5802 - accuracy: 0.8459 - val_loss: 0.5555 - val_accuracy: 0.8371\n",
      "Epoch 11/100\n",
      "12723/12723 [==============================] - 1s 41us/step - loss: 0.5467 - accuracy: 0.8466 - val_loss: 0.5290 - val_accuracy: 0.8371\n",
      "Epoch 12/100\n",
      "12723/12723 [==============================] - 1s 41us/step - loss: 0.5251 - accuracy: 0.8459 - val_loss: 0.5100 - val_accuracy: 0.8371\n",
      "Epoch 13/100\n",
      "12723/12723 [==============================] - 1s 40us/step - loss: 0.5070 - accuracy: 0.8456 - val_loss: 0.4958 - val_accuracy: 0.8371\n",
      "Epoch 14/100\n",
      "12723/12723 [==============================] - 1s 41us/step - loss: 0.4933 - accuracy: 0.8463 - val_loss: 0.4935 - val_accuracy: 0.8371\n",
      "Epoch 15/100\n",
      "12723/12723 [==============================] - 1s 44us/step - loss: 0.4847 - accuracy: 0.8456 - val_loss: 0.4770 - val_accuracy: 0.8371\n",
      "Epoch 16/100\n",
      "12723/12723 [==============================] - 1s 46us/step - loss: 0.4755 - accuracy: 0.8459 - val_loss: 0.4705 - val_accuracy: 0.8371\n",
      "Epoch 17/100\n",
      "12723/12723 [==============================] - 1s 48us/step - loss: 0.4698 - accuracy: 0.8459 - val_loss: 0.4681 - val_accuracy: 0.8371\n",
      "Epoch 18/100\n",
      "12723/12723 [==============================] - 1s 49us/step - loss: 0.4607 - accuracy: 0.8459 - val_loss: 0.4603 - val_accuracy: 0.8371\n",
      "Epoch 19/100\n",
      "12723/12723 [==============================] - 1s 50us/step - loss: 0.4586 - accuracy: 0.8459 - val_loss: 0.4550 - val_accuracy: 0.8371\n",
      "Epoch 20/100\n",
      "12723/12723 [==============================] - 1s 50us/step - loss: 0.4528 - accuracy: 0.8459 - val_loss: 0.4514 - val_accuracy: 0.8371\n",
      "Epoch 21/100\n",
      "12723/12723 [==============================] - 1s 50us/step - loss: 0.4495 - accuracy: 0.8461 - val_loss: 0.4502 - val_accuracy: 0.8371\n",
      "Epoch 22/100\n",
      "12723/12723 [==============================] - 1s 50us/step - loss: 0.4446 - accuracy: 0.8459 - val_loss: 0.4476 - val_accuracy: 0.8371\n",
      "Epoch 23/100\n",
      "12723/12723 [==============================] - 1s 50us/step - loss: 0.4428 - accuracy: 0.8461 - val_loss: 0.4449 - val_accuracy: 0.8371\n",
      "Epoch 24/100\n",
      "12723/12723 [==============================] - 1s 49us/step - loss: 0.4391 - accuracy: 0.8461 - val_loss: 0.4404 - val_accuracy: 0.8371\n",
      "Epoch 25/100\n",
      "12723/12723 [==============================] - 1s 47us/step - loss: 0.4382 - accuracy: 0.8463 - val_loss: 0.4404 - val_accuracy: 0.8371\n",
      "Epoch 26/100\n",
      "12723/12723 [==============================] - 1s 47us/step - loss: 0.4354 - accuracy: 0.8457 - val_loss: 0.4403 - val_accuracy: 0.8371\n",
      "Epoch 27/100\n",
      "12723/12723 [==============================] - 1s 46us/step - loss: 0.4353 - accuracy: 0.8458 - val_loss: 0.4438 - val_accuracy: 0.8371\n",
      "Epoch 28/100\n",
      "12723/12723 [==============================] - 1s 45us/step - loss: 0.4332 - accuracy: 0.8460 - val_loss: 0.4352 - val_accuracy: 0.8371\n",
      "Epoch 29/100\n",
      "12723/12723 [==============================] - 1s 45us/step - loss: 0.4316 - accuracy: 0.8459 - val_loss: 0.4336 - val_accuracy: 0.8371\n",
      "Epoch 30/100\n",
      "12723/12723 [==============================] - 1s 46us/step - loss: 0.4303 - accuracy: 0.8459 - val_loss: 0.4383 - val_accuracy: 0.8371\n",
      "Epoch 31/100\n",
      "12723/12723 [==============================] - 1s 44us/step - loss: 0.4290 - accuracy: 0.8459 - val_loss: 0.4307 - val_accuracy: 0.8371\n",
      "Epoch 32/100\n",
      "12723/12723 [==============================] - 1s 44us/step - loss: 0.4263 - accuracy: 0.8459 - val_loss: 0.4305 - val_accuracy: 0.8371\n",
      "Epoch 33/100\n",
      "12723/12723 [==============================] - 1s 43us/step - loss: 0.4274 - accuracy: 0.8460 - val_loss: 0.4288 - val_accuracy: 0.8371\n",
      "Epoch 34/100\n",
      "12723/12723 [==============================] - 1s 43us/step - loss: 0.4240 - accuracy: 0.8460 - val_loss: 0.4286 - val_accuracy: 0.8371\n",
      "Epoch 35/100\n",
      "12723/12723 [==============================] - 1s 44us/step - loss: 0.4251 - accuracy: 0.8460 - val_loss: 0.4301 - val_accuracy: 0.8371\n",
      "Epoch 36/100\n",
      "12723/12723 [==============================] - 1s 44us/step - loss: 0.4235 - accuracy: 0.8459 - val_loss: 0.4262 - val_accuracy: 0.8371\n",
      "Epoch 37/100\n",
      "12723/12723 [==============================] - 1s 44us/step - loss: 0.4208 - accuracy: 0.8459 - val_loss: 0.4256 - val_accuracy: 0.8371\n",
      "Epoch 38/100\n",
      "12723/12723 [==============================] - 1s 43us/step - loss: 0.4215 - accuracy: 0.8460 - val_loss: 0.4252 - val_accuracy: 0.8371\n",
      "Epoch 39/100\n",
      "12723/12723 [==============================] - 1s 43us/step - loss: 0.4226 - accuracy: 0.8460 - val_loss: 0.4246 - val_accuracy: 0.8371\n",
      "Epoch 40/100\n",
      "12723/12723 [==============================] - 1s 44us/step - loss: 0.4201 - accuracy: 0.8460 - val_loss: 0.4243 - val_accuracy: 0.8371\n",
      "Epoch 41/100\n",
      "12723/12723 [==============================] - 1s 43us/step - loss: 0.4197 - accuracy: 0.8459 - val_loss: 0.4237 - val_accuracy: 0.8371\n",
      "Epoch 42/100\n",
      "12723/12723 [==============================] - 1s 44us/step - loss: 0.4201 - accuracy: 0.8460 - val_loss: 0.4243 - val_accuracy: 0.8371\n",
      "Epoch 43/100\n",
      "12723/12723 [==============================] - 1s 46us/step - loss: 0.4194 - accuracy: 0.8460 - val_loss: 0.4256 - val_accuracy: 0.8371\n",
      "Epoch 44/100\n",
      "12723/12723 [==============================] - 1s 44us/step - loss: 0.4208 - accuracy: 0.8459 - val_loss: 0.4223 - val_accuracy: 0.8371\n",
      "Epoch 45/100\n",
      "12723/12723 [==============================] - 1s 44us/step - loss: 0.4187 - accuracy: 0.8460 - val_loss: 0.4236 - val_accuracy: 0.8371\n",
      "Epoch 46/100\n",
      "12723/12723 [==============================] - 1s 44us/step - loss: 0.4179 - accuracy: 0.8460 - val_loss: 0.4222 - val_accuracy: 0.8371\n",
      "Epoch 47/100\n",
      "12723/12723 [==============================] - 1s 44us/step - loss: 0.4169 - accuracy: 0.8460 - val_loss: 0.4223 - val_accuracy: 0.8371\n",
      "Epoch 48/100\n",
      "12723/12723 [==============================] - 1s 43us/step - loss: 0.4160 - accuracy: 0.8460 - val_loss: 0.4200 - val_accuracy: 0.8371\n",
      "Epoch 49/100\n",
      "12723/12723 [==============================] - 1s 44us/step - loss: 0.4181 - accuracy: 0.8459 - val_loss: 0.4214 - val_accuracy: 0.8371\n",
      "Epoch 50/100\n",
      "12723/12723 [==============================] - 1s 45us/step - loss: 0.4165 - accuracy: 0.8460 - val_loss: 0.4200 - val_accuracy: 0.8371\n",
      "Epoch 51/100\n",
      "12723/12723 [==============================] - 1s 44us/step - loss: 0.4145 - accuracy: 0.8460 - val_loss: 0.4193 - val_accuracy: 0.8371\n",
      "Epoch 52/100\n",
      "12723/12723 [==============================] - 1s 44us/step - loss: 0.4141 - accuracy: 0.8460 - val_loss: 0.4201 - val_accuracy: 0.8371\n",
      "Epoch 53/100\n",
      "12723/12723 [==============================] - 1s 43us/step - loss: 0.4146 - accuracy: 0.8460 - val_loss: 0.4191 - val_accuracy: 0.8371\n",
      "Epoch 54/100\n",
      "12723/12723 [==============================] - 1s 43us/step - loss: 0.4146 - accuracy: 0.8460 - val_loss: 0.4216 - val_accuracy: 0.8371\n",
      "Epoch 55/100\n",
      "12723/12723 [==============================] - 1s 43us/step - loss: 0.4152 - accuracy: 0.8460 - val_loss: 0.4217 - val_accuracy: 0.8371\n",
      "Epoch 56/100\n",
      "12723/12723 [==============================] - 1s 43us/step - loss: 0.4122 - accuracy: 0.8460 - val_loss: 0.4192 - val_accuracy: 0.8371\n",
      "Epoch 57/100\n",
      "12723/12723 [==============================] - 1s 43us/step - loss: 0.4131 - accuracy: 0.8460 - val_loss: 0.4178 - val_accuracy: 0.8371\n",
      "Epoch 58/100\n",
      "12723/12723 [==============================] - 1s 43us/step - loss: 0.4127 - accuracy: 0.8460 - val_loss: 0.4179 - val_accuracy: 0.8371\n",
      "Epoch 59/100\n",
      "12723/12723 [==============================] - 1s 43us/step - loss: 0.4125 - accuracy: 0.8460 - val_loss: 0.4170 - val_accuracy: 0.8371\n",
      "Epoch 60/100\n",
      "12723/12723 [==============================] - 1s 43us/step - loss: 0.4120 - accuracy: 0.8460 - val_loss: 0.4187 - val_accuracy: 0.8371\n",
      "Epoch 61/100\n",
      "12723/12723 [==============================] - 1s 43us/step - loss: 0.4121 - accuracy: 0.8460 - val_loss: 0.4164 - val_accuracy: 0.8371\n",
      "Epoch 62/100\n",
      "12723/12723 [==============================] - 1s 44us/step - loss: 0.4115 - accuracy: 0.8460 - val_loss: 0.4166 - val_accuracy: 0.8371\n",
      "Epoch 63/100\n",
      "12723/12723 [==============================] - 1s 44us/step - loss: 0.4122 - accuracy: 0.8461 - val_loss: 0.4177 - val_accuracy: 0.8371\n",
      "Epoch 64/100\n",
      "12723/12723 [==============================] - 1s 45us/step - loss: 0.4172 - accuracy: 0.8460 - val_loss: 0.4282 - val_accuracy: 0.8371\n",
      "Epoch 65/100\n",
      "12723/12723 [==============================] - 1s 43us/step - loss: 0.4130 - accuracy: 0.8460 - val_loss: 0.4155 - val_accuracy: 0.8371\n",
      "Epoch 66/100\n",
      "12723/12723 [==============================] - 1s 42us/step - loss: 0.4098 - accuracy: 0.8460 - val_loss: 0.4150 - val_accuracy: 0.8371\n",
      "Epoch 67/100\n",
      "12723/12723 [==============================] - 1s 42us/step - loss: 0.4079 - accuracy: 0.8460 - val_loss: 0.4151 - val_accuracy: 0.8371\n",
      "Epoch 68/100\n",
      "12723/12723 [==============================] - 1s 43us/step - loss: 0.4087 - accuracy: 0.8460 - val_loss: 0.4145 - val_accuracy: 0.8371\n",
      "Epoch 69/100\n",
      "12723/12723 [==============================] - 1s 43us/step - loss: 0.4094 - accuracy: 0.8461 - val_loss: 0.4142 - val_accuracy: 0.8371\n",
      "Epoch 70/100\n",
      "12723/12723 [==============================] - 1s 43us/step - loss: 0.4103 - accuracy: 0.8460 - val_loss: 0.4174 - val_accuracy: 0.8371\n",
      "Epoch 71/100\n",
      "12723/12723 [==============================] - 1s 43us/step - loss: 0.4081 - accuracy: 0.8460 - val_loss: 0.4136 - val_accuracy: 0.8371\n",
      "Epoch 72/100\n",
      "12723/12723 [==============================] - 1s 41us/step - loss: 0.4060 - accuracy: 0.8460 - val_loss: 0.4164 - val_accuracy: 0.8371\n",
      "Epoch 73/100\n",
      "12723/12723 [==============================] - 1s 43us/step - loss: 0.4080 - accuracy: 0.8460 - val_loss: 0.4153 - val_accuracy: 0.8371\n",
      "Epoch 74/100\n",
      "12723/12723 [==============================] - 1s 44us/step - loss: 0.4087 - accuracy: 0.8460 - val_loss: 0.4151 - val_accuracy: 0.8371\n",
      "Epoch 75/100\n",
      "12723/12723 [==============================] - 1s 44us/step - loss: 0.4099 - accuracy: 0.8460 - val_loss: 0.4131 - val_accuracy: 0.8371\n",
      "Epoch 76/100\n",
      "12723/12723 [==============================] - 1s 43us/step - loss: 0.4086 - accuracy: 0.8460 - val_loss: 0.4145 - val_accuracy: 0.8371\n",
      "Epoch 77/100\n",
      "12723/12723 [==============================] - 1s 44us/step - loss: 0.4067 - accuracy: 0.8460 - val_loss: 0.4124 - val_accuracy: 0.8371\n",
      "Epoch 78/100\n",
      "12723/12723 [==============================] - 1s 44us/step - loss: 0.4072 - accuracy: 0.8460 - val_loss: 0.4137 - val_accuracy: 0.8371\n",
      "Epoch 79/100\n",
      "12723/12723 [==============================] - 1s 44us/step - loss: 0.4066 - accuracy: 0.8460 - val_loss: 0.4129 - val_accuracy: 0.8371\n",
      "Epoch 80/100\n",
      "12723/12723 [==============================] - 1s 44us/step - loss: 0.4071 - accuracy: 0.8461 - val_loss: 0.4131 - val_accuracy: 0.8371\n",
      "Epoch 81/100\n",
      "12723/12723 [==============================] - 1s 43us/step - loss: 0.4097 - accuracy: 0.8460 - val_loss: 0.4232 - val_accuracy: 0.8371\n",
      "Epoch 82/100\n",
      "12723/12723 [==============================] - 1s 44us/step - loss: 0.4061 - accuracy: 0.8460 - val_loss: 0.4132 - val_accuracy: 0.8371\n",
      "Epoch 83/100\n",
      "12723/12723 [==============================] - 1s 44us/step - loss: 0.4055 - accuracy: 0.8460 - val_loss: 0.4114 - val_accuracy: 0.8371\n",
      "Epoch 84/100\n",
      "12723/12723 [==============================] - 1s 44us/step - loss: 0.4070 - accuracy: 0.8460 - val_loss: 0.4141 - val_accuracy: 0.8371\n",
      "Epoch 85/100\n",
      "12723/12723 [==============================] - 1s 43us/step - loss: 0.4065 - accuracy: 0.8460 - val_loss: 0.4112 - val_accuracy: 0.8371\n",
      "Epoch 86/100\n",
      "12723/12723 [==============================] - 1s 44us/step - loss: 0.4072 - accuracy: 0.8460 - val_loss: 0.4114 - val_accuracy: 0.8371\n",
      "Epoch 87/100\n",
      "12723/12723 [==============================] - 1s 44us/step - loss: 0.4054 - accuracy: 0.8460 - val_loss: 0.4110 - val_accuracy: 0.8371\n",
      "Epoch 88/100\n",
      "12723/12723 [==============================] - 1s 43us/step - loss: 0.4042 - accuracy: 0.8460 - val_loss: 0.4115 - val_accuracy: 0.8371\n",
      "Epoch 89/100\n",
      "12723/12723 [==============================] - 1s 41us/step - loss: 0.4050 - accuracy: 0.8460 - val_loss: 0.4118 - val_accuracy: 0.8371\n",
      "Epoch 90/100\n",
      "12723/12723 [==============================] - 1s 41us/step - loss: 0.4063 - accuracy: 0.8460 - val_loss: 0.4127 - val_accuracy: 0.8371\n",
      "Epoch 91/100\n",
      "12723/12723 [==============================] - 1s 41us/step - loss: 0.4038 - accuracy: 0.8460 - val_loss: 0.4107 - val_accuracy: 0.8371\n",
      "Epoch 92/100\n",
      "12723/12723 [==============================] - 1s 41us/step - loss: 0.4048 - accuracy: 0.8460 - val_loss: 0.4106 - val_accuracy: 0.8371\n",
      "Epoch 93/100\n",
      "12723/12723 [==============================] - 1s 41us/step - loss: 0.4038 - accuracy: 0.8460 - val_loss: 0.4111 - val_accuracy: 0.8371\n",
      "Epoch 94/100\n",
      "12723/12723 [==============================] - 1s 41us/step - loss: 0.4031 - accuracy: 0.8460 - val_loss: 0.4104 - val_accuracy: 0.8371\n",
      "Epoch 95/100\n",
      "12723/12723 [==============================] - 1s 41us/step - loss: 0.4053 - accuracy: 0.8460 - val_loss: 0.4100 - val_accuracy: 0.8371\n",
      "Epoch 96/100\n",
      "12723/12723 [==============================] - 1s 42us/step - loss: 0.4039 - accuracy: 0.8460 - val_loss: 0.4100 - val_accuracy: 0.8371\n",
      "Epoch 97/100\n",
      "12723/12723 [==============================] - 1s 43us/step - loss: 0.4035 - accuracy: 0.8460 - val_loss: 0.4099 - val_accuracy: 0.8371\n",
      "Epoch 98/100\n",
      "12723/12723 [==============================] - 1s 42us/step - loss: 0.4027 - accuracy: 0.8460 - val_loss: 0.4094 - val_accuracy: 0.8371\n",
      "Epoch 99/100\n",
      "12723/12723 [==============================] - 1s 42us/step - loss: 0.4042 - accuracy: 0.8460 - val_loss: 0.4128 - val_accuracy: 0.8371\n",
      "Epoch 100/100\n",
      "12723/12723 [==============================] - 1s 41us/step - loss: 0.4030 - accuracy: 0.8460 - val_loss: 0.4100 - val_accuracy: 0.8371\n"
     ]
    }
   ],
   "source": [
    "NE_model_3.compile(optimizer='adam',\n",
    "              loss='categorical_crossentropy',\n",
    "              metrics=['accuracy'])\n",
    "NE_hist_3 = NE_model_3.fit(X_train, Y_train,\n",
    "          batch_size=500, epochs=100,\n",
    "          validation_data=(X_val, Y_val))"
   ]
  },
  {
   "cell_type": "code",
   "execution_count": 278,
   "metadata": {},
   "outputs": [
    {
     "name": "stderr",
     "output_type": "stream",
     "text": [
      "/opt/anaconda3/lib/python3.7/site-packages/sklearn/metrics/_classification.py:1272: UndefinedMetricWarning: Precision and F-score are ill-defined and being set to 0.0 in labels with no predicted samples. Use `zero_division` parameter to control this behavior.\n",
      "  _warn_prf(average, modifier, msg_start, len(result))\n"
     ]
    },
    {
     "name": "stdout",
     "output_type": "stream",
     "text": [
      "              precision    recall  f1-score   support\n",
      "\n",
      "           1       0.00      0.00      0.00         3\n",
      "           2       0.85      1.00      0.92      3589\n",
      "           3       0.00      0.00      0.00       649\n",
      "           4       0.00      0.00      0.00         1\n",
      "\n",
      "    accuracy                           0.85      4242\n",
      "   macro avg       0.21      0.25      0.23      4242\n",
      "weighted avg       0.72      0.85      0.78      4242\n",
      "\n"
     ]
    },
    {
     "data": {
      "image/png": "[encoded data removed]",
      "text/plain": [
       "<Figure size 432x288 with 2 Axes>"
      ]
     },
     "metadata": {
      "needs_background": "light"
     },
     "output_type": "display_data"
    }
   ],
   "source": [
    "Y_pred = NE_model_3.predict_classes(X_test)\n",
    "print(classification_report(Y_test_arr,Y_pred))\n",
    "plt.title('Confusion Matrix for Low Pop Density')\n",
    "sns.heatmap(confusion_matrix(Y_test_arr, Y_pred), annot=True)\n",
    "plt.xlabel('Predicted')\n",
    "plt.ylabel('True')\n",
    "plt.show()"
   ]
  },
  {
   "cell_type": "code",
   "execution_count": 279,
   "metadata": {},
   "outputs": [
    {
     "data": {
      "image/png": "[encoded data removed]",
      "text/plain": [
       "<Figure size 432x288 with 1 Axes>"
      ]
     },
     "metadata": {
      "needs_background": "light"
     },
     "output_type": "display_data"
    }
   ],
   "source": [
    "plt.plot(NE_hist_3.history['loss'])\n",
    "plt.plot(NE_hist_3.history['val_loss'])\n",
    "plt.title('Model loss')\n",
    "plt.ylabel('Loss')\n",
    "plt.xlabel('Epoch')\n",
    "plt.legend(['Train', 'Val'], loc='upper right')\n",
    "plt.ylim(top=1.2, bottom=0)\n",
    "plt.show()"
   ]
  },
  {
   "cell_type": "code",
   "execution_count": 280,
   "metadata": {},
   "outputs": [
    {
     "data": {
      "image/png": "[encoded data removed]",
      "text/plain": [
       "<Figure size 432x288 with 1 Axes>"
      ]
     },
     "metadata": {
      "needs_background": "light"
     },
     "output_type": "display_data"
    }
   ],
   "source": [
    "plt.plot(NE_hist_3.history['accuracy'])\n",
    "plt.plot(NE_hist_3.history['val_accuracy'])\n",
    "plt.title('Model accuracy')\n",
    "plt.ylabel('Accuracy')\n",
    "plt.xlabel('Epoch')\n",
    "plt.legend(['Train', 'Val'], loc='lower right')\n",
    "plt.show()"
   ]
  },
  {
   "cell_type": "code",
   "execution_count": null,
   "metadata": {},
   "outputs": [],
   "source": []
  }
 ],
 "metadata": {
  "kernelspec": {
   "display_name": "Python 3",
   "language": "python",
   "name": "python3"
  },
  "language_info": {
   "codemirror_mode": {
    "name": "ipython",
    "version": 3
   },
   "file_extension": ".py",
   "mimetype": "text/x-python",
   "name": "python",
   "nbconvert_exporter": "python",
   "pygments_lexer": "ipython3",
   "version": "3.7.6"
  }
 },
 "nbformat": 4,
 "nbformat_minor": 4
}
